{
 "cells": [
  {
   "cell_type": "code",
   "execution_count": 1,
   "metadata": {
    "id": "-vMVo3TS2c3T"
   },
   "outputs": [
    {
     "name": "stderr",
     "output_type": "stream",
     "text": [
      "/Users/nicole/opt/anaconda3/lib/python3.9/site-packages/scipy/__init__.py:155: UserWarning: A NumPy version >=1.18.5 and <1.25.0 is required for this version of SciPy (detected version 1.26.4\n",
      "  warnings.warn(f\"A NumPy version >={np_minversion} and <{np_maxversion}\"\n"
     ]
    }
   ],
   "source": [
    "import numpy as np\n",
    "import pandas as pd\n",
    "import seaborn as sns\n",
    "\n",
    "import os\n",
    "import matplotlib.pyplot as plt\n",
    "\n",
    "import sklearn\n",
    "from sklearn.svm import SVC\n",
    "from sklearn.metrics import balanced_accuracy_score, roc_auc_score, accuracy_score, confusion_matrix, roc_curve\n",
    "from scipy.stats import zscore, pearsonr, uniform\n",
    "from sklearn.linear_model import Ridge\n",
    "from sklearn.model_selection import KFold, StratifiedKFold, RandomizedSearchCV\n",
    "\n",
    "from scipy.io import loadmat\n",
    "\n",
    "from sklearn.model_selection import train_test_split\n",
    "from sklearn.preprocessing import StandardScaler\n",
    "from sklearn.metrics import roc_auc_score\n",
    "from sklearn.metrics import accuracy_score"
   ]
  },
  {
   "cell_type": "markdown",
   "metadata": {
    "id": "fjPj9W2f3ygn"
   },
   "source": [
    "## Load in dataframes"
   ]
  },
  {
   "cell_type": "code",
   "execution_count": 2,
   "metadata": {
    "id": "ZL9Fy4Be2izZ",
    "outputId": "e23dbed0-db4c-4ca7-c20f-74ce89604cfe"
   },
   "outputs": [
    {
     "data": {
      "text/html": [
       "<div>\n",
       "<style scoped>\n",
       "    .dataframe tbody tr th:only-of-type {\n",
       "        vertical-align: middle;\n",
       "    }\n",
       "\n",
       "    .dataframe tbody tr th {\n",
       "        vertical-align: top;\n",
       "    }\n",
       "\n",
       "    .dataframe thead th {\n",
       "        text-align: right;\n",
       "    }\n",
       "</style>\n",
       "<table border=\"1\" class=\"dataframe\">\n",
       "  <thead>\n",
       "    <tr style=\"text-align: right;\">\n",
       "      <th></th>\n",
       "      <th>participant_id</th>\n",
       "      <th>Basic_Demos_Enroll_Year</th>\n",
       "      <th>Basic_Demos_Study_Site</th>\n",
       "      <th>PreInt_Demos_Fam_Child_Ethnicity</th>\n",
       "      <th>PreInt_Demos_Fam_Child_Race</th>\n",
       "      <th>MRI_Track_Scan_Location</th>\n",
       "      <th>Barratt_Barratt_P1_Edu</th>\n",
       "      <th>Barratt_Barratt_P1_Occ</th>\n",
       "      <th>Barratt_Barratt_P2_Edu</th>\n",
       "      <th>Barratt_Barratt_P2_Occ</th>\n",
       "    </tr>\n",
       "  </thead>\n",
       "  <tbody>\n",
       "    <tr>\n",
       "      <th>0</th>\n",
       "      <td>UmrK0vMLopoR</td>\n",
       "      <td>2016</td>\n",
       "      <td>1</td>\n",
       "      <td>0.0</td>\n",
       "      <td>0</td>\n",
       "      <td>1</td>\n",
       "      <td>21</td>\n",
       "      <td>45</td>\n",
       "      <td>21</td>\n",
       "      <td>45</td>\n",
       "    </tr>\n",
       "    <tr>\n",
       "      <th>1</th>\n",
       "      <td>CPaeQkhcjg7d</td>\n",
       "      <td>2019</td>\n",
       "      <td>3</td>\n",
       "      <td>1.0</td>\n",
       "      <td>2</td>\n",
       "      <td>3</td>\n",
       "      <td>15</td>\n",
       "      <td>15</td>\n",
       "      <td>0</td>\n",
       "      <td>0</td>\n",
       "    </tr>\n",
       "    <tr>\n",
       "      <th>2</th>\n",
       "      <td>Nb4EetVPm3gs</td>\n",
       "      <td>2016</td>\n",
       "      <td>1</td>\n",
       "      <td>1.0</td>\n",
       "      <td>8</td>\n",
       "      <td>1</td>\n",
       "      <td>18</td>\n",
       "      <td>40</td>\n",
       "      <td>0</td>\n",
       "      <td>0</td>\n",
       "    </tr>\n",
       "    <tr>\n",
       "      <th>3</th>\n",
       "      <td>p4vPhVu91o4b</td>\n",
       "      <td>2018</td>\n",
       "      <td>3</td>\n",
       "      <td>0.0</td>\n",
       "      <td>8</td>\n",
       "      <td>3</td>\n",
       "      <td>15</td>\n",
       "      <td>30</td>\n",
       "      <td>18</td>\n",
       "      <td>0</td>\n",
       "    </tr>\n",
       "    <tr>\n",
       "      <th>4</th>\n",
       "      <td>M09PXs7arQ5E</td>\n",
       "      <td>2019</td>\n",
       "      <td>3</td>\n",
       "      <td>0.0</td>\n",
       "      <td>1</td>\n",
       "      <td>3</td>\n",
       "      <td>15</td>\n",
       "      <td>20</td>\n",
       "      <td>0</td>\n",
       "      <td>0</td>\n",
       "    </tr>\n",
       "  </tbody>\n",
       "</table>\n",
       "</div>"
      ],
      "text/plain": [
       "  participant_id  Basic_Demos_Enroll_Year  Basic_Demos_Study_Site  \\\n",
       "0   UmrK0vMLopoR                     2016                       1   \n",
       "1   CPaeQkhcjg7d                     2019                       3   \n",
       "2   Nb4EetVPm3gs                     2016                       1   \n",
       "3   p4vPhVu91o4b                     2018                       3   \n",
       "4   M09PXs7arQ5E                     2019                       3   \n",
       "\n",
       "   PreInt_Demos_Fam_Child_Ethnicity  PreInt_Demos_Fam_Child_Race  \\\n",
       "0                               0.0                            0   \n",
       "1                               1.0                            2   \n",
       "2                               1.0                            8   \n",
       "3                               0.0                            8   \n",
       "4                               0.0                            1   \n",
       "\n",
       "   MRI_Track_Scan_Location  Barratt_Barratt_P1_Edu  Barratt_Barratt_P1_Occ  \\\n",
       "0                        1                      21                      45   \n",
       "1                        3                      15                      15   \n",
       "2                        1                      18                      40   \n",
       "3                        3                      15                      30   \n",
       "4                        3                      15                      20   \n",
       "\n",
       "   Barratt_Barratt_P2_Edu  Barratt_Barratt_P2_Occ  \n",
       "0                      21                      45  \n",
       "1                       0                       0  \n",
       "2                       0                       0  \n",
       "3                      18                       0  \n",
       "4                       0                       0  "
      ]
     },
     "execution_count": 2,
     "metadata": {},
     "output_type": "execute_result"
    }
   ],
   "source": [
    "# categorical variable train dataframe\n",
    "\n",
    "file_path_trainC = \"widsdatathon2025/TRAIN/TRAIN_CATEGORICAL_METADATA.csv\"\n",
    "train_cat = pd.read_csv(file_path_trainC)\n",
    "train_cat.head()"
   ]
  },
  {
   "cell_type": "code",
   "execution_count": 3,
   "metadata": {
    "id": "EsX0e0RU4jex",
    "outputId": "773ffe46-98f2-4180-fa89-f4133159cca4",
    "scrolled": true
   },
   "outputs": [
    {
     "data": {
      "text/plain": [
       "Index(['participant_id', 'Basic_Demos_Enroll_Year', 'Basic_Demos_Study_Site',\n",
       "       'PreInt_Demos_Fam_Child_Ethnicity', 'PreInt_Demos_Fam_Child_Race',\n",
       "       'MRI_Track_Scan_Location', 'Barratt_Barratt_P1_Edu',\n",
       "       'Barratt_Barratt_P1_Occ', 'Barratt_Barratt_P2_Edu',\n",
       "       'Barratt_Barratt_P2_Occ'],\n",
       "      dtype='object')"
      ]
     },
     "execution_count": 3,
     "metadata": {},
     "output_type": "execute_result"
    }
   ],
   "source": [
    "train_cat.columns"
   ]
  },
  {
   "cell_type": "code",
   "execution_count": 4,
   "metadata": {
    "id": "s4NdiAR22oSv",
    "outputId": "2321716f-15e6-4730-d596-628716617dbc"
   },
   "outputs": [
    {
     "data": {
      "text/html": [
       "<div>\n",
       "<style scoped>\n",
       "    .dataframe tbody tr th:only-of-type {\n",
       "        vertical-align: middle;\n",
       "    }\n",
       "\n",
       "    .dataframe tbody tr th {\n",
       "        vertical-align: top;\n",
       "    }\n",
       "\n",
       "    .dataframe thead th {\n",
       "        text-align: right;\n",
       "    }\n",
       "</style>\n",
       "<table border=\"1\" class=\"dataframe\">\n",
       "  <thead>\n",
       "    <tr style=\"text-align: right;\">\n",
       "      <th></th>\n",
       "      <th>participant_id</th>\n",
       "      <th>0throw_1thcolumn</th>\n",
       "      <th>0throw_2thcolumn</th>\n",
       "      <th>0throw_3thcolumn</th>\n",
       "      <th>0throw_4thcolumn</th>\n",
       "      <th>0throw_5thcolumn</th>\n",
       "      <th>0throw_6thcolumn</th>\n",
       "      <th>0throw_7thcolumn</th>\n",
       "      <th>0throw_8thcolumn</th>\n",
       "      <th>0throw_9thcolumn</th>\n",
       "      <th>...</th>\n",
       "      <th>195throw_196thcolumn</th>\n",
       "      <th>195throw_197thcolumn</th>\n",
       "      <th>195throw_198thcolumn</th>\n",
       "      <th>195throw_199thcolumn</th>\n",
       "      <th>196throw_197thcolumn</th>\n",
       "      <th>196throw_198thcolumn</th>\n",
       "      <th>196throw_199thcolumn</th>\n",
       "      <th>197throw_198thcolumn</th>\n",
       "      <th>197throw_199thcolumn</th>\n",
       "      <th>198throw_199thcolumn</th>\n",
       "    </tr>\n",
       "  </thead>\n",
       "  <tbody>\n",
       "    <tr>\n",
       "      <th>0</th>\n",
       "      <td>70z8Q2xdTXM3</td>\n",
       "      <td>0.093473</td>\n",
       "      <td>0.146902</td>\n",
       "      <td>0.067893</td>\n",
       "      <td>0.015141</td>\n",
       "      <td>0.070221</td>\n",
       "      <td>0.063997</td>\n",
       "      <td>0.055382</td>\n",
       "      <td>-0.035335</td>\n",
       "      <td>0.068583</td>\n",
       "      <td>...</td>\n",
       "      <td>0.003404</td>\n",
       "      <td>-0.010359</td>\n",
       "      <td>-0.050968</td>\n",
       "      <td>-0.014365</td>\n",
       "      <td>0.128066</td>\n",
       "      <td>0.112646</td>\n",
       "      <td>-0.058980</td>\n",
       "      <td>0.028228</td>\n",
       "      <td>0.133582</td>\n",
       "      <td>0.143372</td>\n",
       "    </tr>\n",
       "    <tr>\n",
       "      <th>1</th>\n",
       "      <td>WHWymJu6zNZi</td>\n",
       "      <td>0.029580</td>\n",
       "      <td>0.179323</td>\n",
       "      <td>0.112933</td>\n",
       "      <td>0.038291</td>\n",
       "      <td>0.104899</td>\n",
       "      <td>0.064250</td>\n",
       "      <td>0.008488</td>\n",
       "      <td>0.077505</td>\n",
       "      <td>-0.004750</td>\n",
       "      <td>...</td>\n",
       "      <td>-0.008409</td>\n",
       "      <td>-0.008479</td>\n",
       "      <td>0.020891</td>\n",
       "      <td>0.017754</td>\n",
       "      <td>0.094040</td>\n",
       "      <td>0.035141</td>\n",
       "      <td>0.032537</td>\n",
       "      <td>0.075007</td>\n",
       "      <td>0.115350</td>\n",
       "      <td>0.138200</td>\n",
       "    </tr>\n",
       "    <tr>\n",
       "      <th>2</th>\n",
       "      <td>4PAQp1M6EyAo</td>\n",
       "      <td>-0.051580</td>\n",
       "      <td>0.139734</td>\n",
       "      <td>0.068295</td>\n",
       "      <td>0.046991</td>\n",
       "      <td>0.111085</td>\n",
       "      <td>0.026978</td>\n",
       "      <td>0.151377</td>\n",
       "      <td>0.021198</td>\n",
       "      <td>0.083721</td>\n",
       "      <td>...</td>\n",
       "      <td>0.053245</td>\n",
       "      <td>-0.028003</td>\n",
       "      <td>0.028773</td>\n",
       "      <td>0.024556</td>\n",
       "      <td>0.166343</td>\n",
       "      <td>0.058925</td>\n",
       "      <td>0.035485</td>\n",
       "      <td>0.063661</td>\n",
       "      <td>0.042862</td>\n",
       "      <td>0.162162</td>\n",
       "    </tr>\n",
       "    <tr>\n",
       "      <th>3</th>\n",
       "      <td>obEacy4Of68I</td>\n",
       "      <td>0.016273</td>\n",
       "      <td>0.204702</td>\n",
       "      <td>0.115980</td>\n",
       "      <td>0.043103</td>\n",
       "      <td>0.056431</td>\n",
       "      <td>0.057615</td>\n",
       "      <td>0.055773</td>\n",
       "      <td>0.075030</td>\n",
       "      <td>0.001033</td>\n",
       "      <td>...</td>\n",
       "      <td>-0.023918</td>\n",
       "      <td>-0.005356</td>\n",
       "      <td>0.018607</td>\n",
       "      <td>0.016193</td>\n",
       "      <td>0.072955</td>\n",
       "      <td>0.130135</td>\n",
       "      <td>0.056120</td>\n",
       "      <td>0.084784</td>\n",
       "      <td>0.114148</td>\n",
       "      <td>0.190584</td>\n",
       "    </tr>\n",
       "    <tr>\n",
       "      <th>4</th>\n",
       "      <td>s7WzzDcmDOhF</td>\n",
       "      <td>0.065771</td>\n",
       "      <td>0.098714</td>\n",
       "      <td>0.097604</td>\n",
       "      <td>0.112988</td>\n",
       "      <td>0.071139</td>\n",
       "      <td>0.085607</td>\n",
       "      <td>0.019392</td>\n",
       "      <td>-0.036403</td>\n",
       "      <td>-0.020375</td>\n",
       "      <td>...</td>\n",
       "      <td>0.066439</td>\n",
       "      <td>-0.076680</td>\n",
       "      <td>-0.047530</td>\n",
       "      <td>-0.031443</td>\n",
       "      <td>0.221213</td>\n",
       "      <td>0.007343</td>\n",
       "      <td>0.005763</td>\n",
       "      <td>0.083820</td>\n",
       "      <td>0.079582</td>\n",
       "      <td>0.067269</td>\n",
       "    </tr>\n",
       "  </tbody>\n",
       "</table>\n",
       "<p>5 rows × 19901 columns</p>\n",
       "</div>"
      ],
      "text/plain": [
       "  participant_id  0throw_1thcolumn  0throw_2thcolumn  0throw_3thcolumn  \\\n",
       "0   70z8Q2xdTXM3          0.093473          0.146902          0.067893   \n",
       "1   WHWymJu6zNZi          0.029580          0.179323          0.112933   \n",
       "2   4PAQp1M6EyAo         -0.051580          0.139734          0.068295   \n",
       "3   obEacy4Of68I          0.016273          0.204702          0.115980   \n",
       "4   s7WzzDcmDOhF          0.065771          0.098714          0.097604   \n",
       "\n",
       "   0throw_4thcolumn  0throw_5thcolumn  0throw_6thcolumn  0throw_7thcolumn  \\\n",
       "0          0.015141          0.070221          0.063997          0.055382   \n",
       "1          0.038291          0.104899          0.064250          0.008488   \n",
       "2          0.046991          0.111085          0.026978          0.151377   \n",
       "3          0.043103          0.056431          0.057615          0.055773   \n",
       "4          0.112988          0.071139          0.085607          0.019392   \n",
       "\n",
       "   0throw_8thcolumn  0throw_9thcolumn  ...  195throw_196thcolumn  \\\n",
       "0         -0.035335          0.068583  ...              0.003404   \n",
       "1          0.077505         -0.004750  ...             -0.008409   \n",
       "2          0.021198          0.083721  ...              0.053245   \n",
       "3          0.075030          0.001033  ...             -0.023918   \n",
       "4         -0.036403         -0.020375  ...              0.066439   \n",
       "\n",
       "   195throw_197thcolumn  195throw_198thcolumn  195throw_199thcolumn  \\\n",
       "0             -0.010359             -0.050968             -0.014365   \n",
       "1             -0.008479              0.020891              0.017754   \n",
       "2             -0.028003              0.028773              0.024556   \n",
       "3             -0.005356              0.018607              0.016193   \n",
       "4             -0.076680             -0.047530             -0.031443   \n",
       "\n",
       "   196throw_197thcolumn  196throw_198thcolumn  196throw_199thcolumn  \\\n",
       "0              0.128066              0.112646             -0.058980   \n",
       "1              0.094040              0.035141              0.032537   \n",
       "2              0.166343              0.058925              0.035485   \n",
       "3              0.072955              0.130135              0.056120   \n",
       "4              0.221213              0.007343              0.005763   \n",
       "\n",
       "   197throw_198thcolumn  197throw_199thcolumn  198throw_199thcolumn  \n",
       "0              0.028228              0.133582              0.143372  \n",
       "1              0.075007              0.115350              0.138200  \n",
       "2              0.063661              0.042862              0.162162  \n",
       "3              0.084784              0.114148              0.190584  \n",
       "4              0.083820              0.079582              0.067269  \n",
       "\n",
       "[5 rows x 19901 columns]"
      ]
     },
     "execution_count": 4,
     "metadata": {},
     "output_type": "execute_result"
    }
   ],
   "source": [
    "# Functional Connectome Matrices\n",
    "\n",
    "file_path_trainFCM = \"widsdatathon2025/TRAIN/TRAIN_FUNCTIONAL_CONNECTOME_MATRICES.csv\"\n",
    "train_FCM = pd.read_csv(file_path_trainFCM)\n",
    "train_FCM.head()"
   ]
  },
  {
   "cell_type": "code",
   "execution_count": 5,
   "metadata": {
    "id": "i22tDJMV4nYe",
    "outputId": "5b70d537-06cd-47dc-aa13-07f426827bbe"
   },
   "outputs": [
    {
     "data": {
      "text/plain": [
       "Index(['participant_id', '0throw_1thcolumn', '0throw_2thcolumn',\n",
       "       '0throw_3thcolumn', '0throw_4thcolumn', '0throw_5thcolumn',\n",
       "       '0throw_6thcolumn', '0throw_7thcolumn', '0throw_8thcolumn',\n",
       "       '0throw_9thcolumn',\n",
       "       ...\n",
       "       '195throw_196thcolumn', '195throw_197thcolumn', '195throw_198thcolumn',\n",
       "       '195throw_199thcolumn', '196throw_197thcolumn', '196throw_198thcolumn',\n",
       "       '196throw_199thcolumn', '197throw_198thcolumn', '197throw_199thcolumn',\n",
       "       '198throw_199thcolumn'],\n",
       "      dtype='object', length=19901)"
      ]
     },
     "execution_count": 5,
     "metadata": {},
     "output_type": "execute_result"
    }
   ],
   "source": [
    "train_FCM.columns"
   ]
  },
  {
   "cell_type": "code",
   "execution_count": 6,
   "metadata": {
    "id": "yrNo0SP-2pz2",
    "outputId": "c447c79d-f4ee-4222-b233-6aad0b4edbcf"
   },
   "outputs": [
    {
     "data": {
      "text/html": [
       "<div>\n",
       "<style scoped>\n",
       "    .dataframe tbody tr th:only-of-type {\n",
       "        vertical-align: middle;\n",
       "    }\n",
       "\n",
       "    .dataframe tbody tr th {\n",
       "        vertical-align: top;\n",
       "    }\n",
       "\n",
       "    .dataframe thead th {\n",
       "        text-align: right;\n",
       "    }\n",
       "</style>\n",
       "<table border=\"1\" class=\"dataframe\">\n",
       "  <thead>\n",
       "    <tr style=\"text-align: right;\">\n",
       "      <th></th>\n",
       "      <th>participant_id</th>\n",
       "      <th>EHQ_EHQ_Total</th>\n",
       "      <th>ColorVision_CV_Score</th>\n",
       "      <th>APQ_P_APQ_P_CP</th>\n",
       "      <th>APQ_P_APQ_P_ID</th>\n",
       "      <th>APQ_P_APQ_P_INV</th>\n",
       "      <th>APQ_P_APQ_P_OPD</th>\n",
       "      <th>APQ_P_APQ_P_PM</th>\n",
       "      <th>APQ_P_APQ_P_PP</th>\n",
       "      <th>SDQ_SDQ_Conduct_Problems</th>\n",
       "      <th>SDQ_SDQ_Difficulties_Total</th>\n",
       "      <th>SDQ_SDQ_Emotional_Problems</th>\n",
       "      <th>SDQ_SDQ_Externalizing</th>\n",
       "      <th>SDQ_SDQ_Generating_Impact</th>\n",
       "      <th>SDQ_SDQ_Hyperactivity</th>\n",
       "      <th>SDQ_SDQ_Internalizing</th>\n",
       "      <th>SDQ_SDQ_Peer_Problems</th>\n",
       "      <th>SDQ_SDQ_Prosocial</th>\n",
       "      <th>MRI_Track_Age_at_Scan</th>\n",
       "    </tr>\n",
       "  </thead>\n",
       "  <tbody>\n",
       "    <tr>\n",
       "      <th>0</th>\n",
       "      <td>UmrK0vMLopoR</td>\n",
       "      <td>40.00</td>\n",
       "      <td>13</td>\n",
       "      <td>3</td>\n",
       "      <td>10</td>\n",
       "      <td>47</td>\n",
       "      <td>13</td>\n",
       "      <td>11</td>\n",
       "      <td>28</td>\n",
       "      <td>0</td>\n",
       "      <td>6</td>\n",
       "      <td>1</td>\n",
       "      <td>5</td>\n",
       "      <td>0</td>\n",
       "      <td>5</td>\n",
       "      <td>1</td>\n",
       "      <td>0</td>\n",
       "      <td>10</td>\n",
       "      <td>NaN</td>\n",
       "    </tr>\n",
       "    <tr>\n",
       "      <th>1</th>\n",
       "      <td>CPaeQkhcjg7d</td>\n",
       "      <td>-94.47</td>\n",
       "      <td>14</td>\n",
       "      <td>3</td>\n",
       "      <td>13</td>\n",
       "      <td>34</td>\n",
       "      <td>18</td>\n",
       "      <td>23</td>\n",
       "      <td>30</td>\n",
       "      <td>0</td>\n",
       "      <td>18</td>\n",
       "      <td>6</td>\n",
       "      <td>8</td>\n",
       "      <td>7</td>\n",
       "      <td>8</td>\n",
       "      <td>10</td>\n",
       "      <td>4</td>\n",
       "      <td>5</td>\n",
       "      <td>NaN</td>\n",
       "    </tr>\n",
       "    <tr>\n",
       "      <th>2</th>\n",
       "      <td>Nb4EetVPm3gs</td>\n",
       "      <td>-46.67</td>\n",
       "      <td>14</td>\n",
       "      <td>4</td>\n",
       "      <td>10</td>\n",
       "      <td>35</td>\n",
       "      <td>16</td>\n",
       "      <td>10</td>\n",
       "      <td>29</td>\n",
       "      <td>1</td>\n",
       "      <td>14</td>\n",
       "      <td>2</td>\n",
       "      <td>8</td>\n",
       "      <td>5</td>\n",
       "      <td>7</td>\n",
       "      <td>6</td>\n",
       "      <td>4</td>\n",
       "      <td>9</td>\n",
       "      <td>8.239904</td>\n",
       "    </tr>\n",
       "    <tr>\n",
       "      <th>3</th>\n",
       "      <td>p4vPhVu91o4b</td>\n",
       "      <td>-26.68</td>\n",
       "      <td>10</td>\n",
       "      <td>5</td>\n",
       "      <td>12</td>\n",
       "      <td>39</td>\n",
       "      <td>19</td>\n",
       "      <td>16</td>\n",
       "      <td>28</td>\n",
       "      <td>6</td>\n",
       "      <td>24</td>\n",
       "      <td>4</td>\n",
       "      <td>16</td>\n",
       "      <td>9</td>\n",
       "      <td>10</td>\n",
       "      <td>8</td>\n",
       "      <td>4</td>\n",
       "      <td>6</td>\n",
       "      <td>NaN</td>\n",
       "    </tr>\n",
       "    <tr>\n",
       "      <th>4</th>\n",
       "      <td>M09PXs7arQ5E</td>\n",
       "      <td>0.00</td>\n",
       "      <td>14</td>\n",
       "      <td>5</td>\n",
       "      <td>15</td>\n",
       "      <td>40</td>\n",
       "      <td>20</td>\n",
       "      <td>24</td>\n",
       "      <td>28</td>\n",
       "      <td>1</td>\n",
       "      <td>18</td>\n",
       "      <td>4</td>\n",
       "      <td>11</td>\n",
       "      <td>4</td>\n",
       "      <td>10</td>\n",
       "      <td>7</td>\n",
       "      <td>3</td>\n",
       "      <td>9</td>\n",
       "      <td>8.940679</td>\n",
       "    </tr>\n",
       "  </tbody>\n",
       "</table>\n",
       "</div>"
      ],
      "text/plain": [
       "  participant_id  EHQ_EHQ_Total  ColorVision_CV_Score  APQ_P_APQ_P_CP  \\\n",
       "0   UmrK0vMLopoR          40.00                    13               3   \n",
       "1   CPaeQkhcjg7d         -94.47                    14               3   \n",
       "2   Nb4EetVPm3gs         -46.67                    14               4   \n",
       "3   p4vPhVu91o4b         -26.68                    10               5   \n",
       "4   M09PXs7arQ5E           0.00                    14               5   \n",
       "\n",
       "   APQ_P_APQ_P_ID  APQ_P_APQ_P_INV  APQ_P_APQ_P_OPD  APQ_P_APQ_P_PM  \\\n",
       "0              10               47               13              11   \n",
       "1              13               34               18              23   \n",
       "2              10               35               16              10   \n",
       "3              12               39               19              16   \n",
       "4              15               40               20              24   \n",
       "\n",
       "   APQ_P_APQ_P_PP  SDQ_SDQ_Conduct_Problems  SDQ_SDQ_Difficulties_Total  \\\n",
       "0              28                         0                           6   \n",
       "1              30                         0                          18   \n",
       "2              29                         1                          14   \n",
       "3              28                         6                          24   \n",
       "4              28                         1                          18   \n",
       "\n",
       "   SDQ_SDQ_Emotional_Problems  SDQ_SDQ_Externalizing  \\\n",
       "0                           1                      5   \n",
       "1                           6                      8   \n",
       "2                           2                      8   \n",
       "3                           4                     16   \n",
       "4                           4                     11   \n",
       "\n",
       "   SDQ_SDQ_Generating_Impact  SDQ_SDQ_Hyperactivity  SDQ_SDQ_Internalizing  \\\n",
       "0                          0                      5                      1   \n",
       "1                          7                      8                     10   \n",
       "2                          5                      7                      6   \n",
       "3                          9                     10                      8   \n",
       "4                          4                     10                      7   \n",
       "\n",
       "   SDQ_SDQ_Peer_Problems  SDQ_SDQ_Prosocial  MRI_Track_Age_at_Scan  \n",
       "0                      0                 10                    NaN  \n",
       "1                      4                  5                    NaN  \n",
       "2                      4                  9               8.239904  \n",
       "3                      4                  6                    NaN  \n",
       "4                      3                  9               8.940679  "
      ]
     },
     "execution_count": 6,
     "metadata": {},
     "output_type": "execute_result"
    }
   ],
   "source": [
    "# Quantitative varaible train dataframe\n",
    "\n",
    "file_path_trainQ = \"widsdatathon2025/TRAIN/TRAIN_QUANTITATIVE_METADATA.csv\"\n",
    "train_Quant = pd.read_csv(file_path_trainQ)\n",
    "train_Quant.head()"
   ]
  },
  {
   "cell_type": "code",
   "execution_count": 7,
   "metadata": {
    "id": "YLHWTGKH4qBz",
    "outputId": "a60d19b6-ca1b-4acb-d82b-a43bd0fdc8ca"
   },
   "outputs": [
    {
     "data": {
      "text/plain": [
       "Index(['participant_id', 'EHQ_EHQ_Total', 'ColorVision_CV_Score',\n",
       "       'APQ_P_APQ_P_CP', 'APQ_P_APQ_P_ID', 'APQ_P_APQ_P_INV',\n",
       "       'APQ_P_APQ_P_OPD', 'APQ_P_APQ_P_PM', 'APQ_P_APQ_P_PP',\n",
       "       'SDQ_SDQ_Conduct_Problems', 'SDQ_SDQ_Difficulties_Total',\n",
       "       'SDQ_SDQ_Emotional_Problems', 'SDQ_SDQ_Externalizing',\n",
       "       'SDQ_SDQ_Generating_Impact', 'SDQ_SDQ_Hyperactivity',\n",
       "       'SDQ_SDQ_Internalizing', 'SDQ_SDQ_Peer_Problems', 'SDQ_SDQ_Prosocial',\n",
       "       'MRI_Track_Age_at_Scan'],\n",
       "      dtype='object')"
      ]
     },
     "execution_count": 7,
     "metadata": {},
     "output_type": "execute_result"
    }
   ],
   "source": [
    "train_Quant.columns"
   ]
  },
  {
   "cell_type": "code",
   "execution_count": 8,
   "metadata": {
    "id": "mIXLPfwm6WGl",
    "outputId": "9eb39157-5bb4-42b3-c33c-33be91f86c98"
   },
   "outputs": [
    {
     "data": {
      "text/html": [
       "<div>\n",
       "<style scoped>\n",
       "    .dataframe tbody tr th:only-of-type {\n",
       "        vertical-align: middle;\n",
       "    }\n",
       "\n",
       "    .dataframe tbody tr th {\n",
       "        vertical-align: top;\n",
       "    }\n",
       "\n",
       "    .dataframe thead th {\n",
       "        text-align: right;\n",
       "    }\n",
       "</style>\n",
       "<table border=\"1\" class=\"dataframe\">\n",
       "  <thead>\n",
       "    <tr style=\"text-align: right;\">\n",
       "      <th></th>\n",
       "      <th>participant_id</th>\n",
       "      <th>ADHD_Outcome</th>\n",
       "      <th>Sex_F</th>\n",
       "    </tr>\n",
       "  </thead>\n",
       "  <tbody>\n",
       "    <tr>\n",
       "      <th>0</th>\n",
       "      <td>UmrK0vMLopoR</td>\n",
       "      <td>1</td>\n",
       "      <td>1</td>\n",
       "    </tr>\n",
       "    <tr>\n",
       "      <th>1</th>\n",
       "      <td>CPaeQkhcjg7d</td>\n",
       "      <td>1</td>\n",
       "      <td>0</td>\n",
       "    </tr>\n",
       "    <tr>\n",
       "      <th>2</th>\n",
       "      <td>Nb4EetVPm3gs</td>\n",
       "      <td>1</td>\n",
       "      <td>0</td>\n",
       "    </tr>\n",
       "    <tr>\n",
       "      <th>3</th>\n",
       "      <td>p4vPhVu91o4b</td>\n",
       "      <td>1</td>\n",
       "      <td>1</td>\n",
       "    </tr>\n",
       "    <tr>\n",
       "      <th>4</th>\n",
       "      <td>M09PXs7arQ5E</td>\n",
       "      <td>1</td>\n",
       "      <td>1</td>\n",
       "    </tr>\n",
       "  </tbody>\n",
       "</table>\n",
       "</div>"
      ],
      "text/plain": [
       "  participant_id  ADHD_Outcome  Sex_F\n",
       "0   UmrK0vMLopoR             1      1\n",
       "1   CPaeQkhcjg7d             1      0\n",
       "2   Nb4EetVPm3gs             1      0\n",
       "3   p4vPhVu91o4b             1      1\n",
       "4   M09PXs7arQ5E             1      1"
      ]
     },
     "execution_count": 8,
     "metadata": {},
     "output_type": "execute_result"
    }
   ],
   "source": [
    "# ADHD and Sex solutions dataframe for model training\n",
    "\n",
    "file_path_trainS = \"widsdatathon2025/TRAIN/TRAINING_SOLUTIONS.csv\"\n",
    "train_Solutions = pd.read_csv(file_path_trainS)\n",
    "train_Solutions.drop(columns = ['Unnamed: 3', 'Unnamed: 4'], inplace = True)\n",
    "train_Solutions.head()"
   ]
  },
  {
   "cell_type": "code",
   "execution_count": 9,
   "metadata": {
    "id": "fwTsWx1x4r-d",
    "outputId": "4874fbe0-4fa3-4195-bff6-9527b3f9535f"
   },
   "outputs": [
    {
     "data": {
      "text/plain": [
       "Index(['participant_id', 'ADHD_Outcome', 'Sex_F'], dtype='object')"
      ]
     },
     "execution_count": 9,
     "metadata": {},
     "output_type": "execute_result"
    }
   ],
   "source": [
    "train_Solutions.columns"
   ]
  },
  {
   "cell_type": "markdown",
   "metadata": {
    "id": "wZAznwsu2RSe"
   },
   "source": [
    "## Exploratory Data Analysis"
   ]
  },
  {
   "cell_type": "markdown",
   "metadata": {
    "id": "sjcRtC7Y6n2M"
   },
   "source": [
    "Exploratory Data Analysis (EDA) is a way to understand your dataset by looking at its patterns, trends, and relationships. It helps identify missing data, outliers, and how variables interact."
   ]
  },
  {
   "cell_type": "markdown",
   "metadata": {
    "id": "ehhDhkyc6xlG"
   },
   "source": [
    "Use `.info()` and `.describe()` to summarize each dataset."
   ]
  },
  {
   "cell_type": "markdown",
   "metadata": {
    "id": "zKW7OdUu2WwO",
    "outputId": "bdd3a580-461d-4f3d-ed93-44d2490e2160"
   },
   "source": [
    "train_cat.info()"
   ]
  },
  {
   "cell_type": "markdown",
   "metadata": {
    "id": "fZ1Exwz44tpV"
   },
   "source": [
    "Understand the distribution of the categorical variables with `.value_counts()`."
   ]
  },
  {
   "cell_type": "markdown",
   "metadata": {
    "id": "T07otyOF6zq8",
    "outputId": "05b34b99-4249-4abe-fb04-9233b6c3a419"
   },
   "source": [
    "#Barratt_Barratt_P2_Occ - Barratt Simplified Measure of Social Status - Parent 2 Occupation\n",
    "train_cat['Barratt_Barratt_P2_Occ'].value_counts()\n",
    "\n",
    "#Look back at the dictionary on Kaggle!\n",
    "# to see what category these integers [0, 45, 35...] represent."
   ]
  },
  {
   "cell_type": "markdown",
   "metadata": {
    "id": "ahQe57Ap63W5"
   },
   "source": [
    "Visualize distributions:"
   ]
  },
  {
   "cell_type": "markdown",
   "metadata": {
    "id": "cDf5hyWh61wx",
    "outputId": "a9703f61-5ce2-49ff-a313-8fbd1aad90f1"
   },
   "source": [
    "sns.countplot(x='Barratt_Barratt_P2_Occ', data = train_cat[['Barratt_Barratt_P2_Occ']])\n",
    "plt.title(f\"Distribution of Barratt_Barratt_P2_Occ\")\n",
    "plt.xticks(rotation=45)\n",
    "plt.show()"
   ]
  },
  {
   "cell_type": "markdown",
   "metadata": {
    "id": "zC_weFT968wK"
   },
   "source": [
    "Understand the distribution of quantitative variables."
   ]
  },
  {
   "cell_type": "markdown",
   "metadata": {
    "id": "fzSV4urF66qV",
    "outputId": "7fb770e9-20ee-4a67-e7e1-04d1f056b040"
   },
   "source": [
    "# Distribution of MRI_Track_Age_at_Scan\n",
    "train_Quant['MRI_Track_Age_at_Scan'].hist(figsize=(8, 6), bins=20)\n",
    "plt.suptitle(\"MRI_Track_Age_at_Scan Distributions\")\n",
    "plt.xlabel('MRI_Track_Age_at_Scan')\n",
    "plt.ylabel('Frequency Count')\n",
    "plt.show()\n"
   ]
  },
  {
   "cell_type": "markdown",
   "metadata": {
    "id": "_q6gH6hY7B2v"
   },
   "source": [
    "The train_Solutions dataset contains labels for `ADHD` and `gender`. Let's examine the class distribution."
   ]
  },
  {
   "cell_type": "markdown",
   "metadata": {
    "id": "9M0TurZv7Ch-",
    "outputId": "85ef1314-1687-4cc4-af84-d83b5b85c536"
   },
   "source": [
    "# ADHD distribution\n",
    "train_Solutions['ADHD_Outcome'].value_counts()"
   ]
  },
  {
   "cell_type": "markdown",
   "metadata": {
    "id": "KZbnTsY_49sR",
    "outputId": "77e3ee01-3848-412f-94dc-b655c38246fd"
   },
   "source": [
    "train_Solutions['ADHD_Outcome'].value_counts().plot(kind='bar')\n",
    "plt.title('ADHD Outcome')\n",
    "plt.xlabel('Outcome (0 = No, 1 = Yes)')\n",
    "plt.ylabel('Count')\n",
    "plt.show()"
   ]
  },
  {
   "cell_type": "markdown",
   "metadata": {
    "id": "McPUzuLF7EAx",
    "outputId": "ebd787dc-a9db-4115-fb63-e370463a8b17"
   },
   "source": [
    "# Gender distribution\n",
    "train_Solutions['Sex_F'].value_counts()"
   ]
  },
  {
   "cell_type": "markdown",
   "metadata": {
    "id": "2ruorDbo5Awi"
   },
   "source": [
    " ## **Key Insight**: Gender imbalance in the dataset may introduce bias in modeling. Address this during data preparation."
   ]
  },
  {
   "cell_type": "markdown",
   "metadata": {
    "id": "gyobHTO97IcG",
    "outputId": "38e851a6-15d8-4971-ef9a-21a5ee888d96"
   },
   "source": [
    "train_Solutions['Sex_F'].value_counts().plot(kind='bar')\n",
    "plt.title('Gender Distribution')\n",
    "plt.xlabel('Gender (0 = Male, 1 = Female)')\n",
    "plt.ylabel('Count')\n",
    "plt.show()"
   ]
  },
  {
   "cell_type": "markdown",
   "metadata": {
    "id": "nTMfBS6B5DzF"
   },
   "source": [
    "### How to Test Predictiveness:"
   ]
  },
  {
   "cell_type": "markdown",
   "metadata": {
    "id": "GTOobk3t5IKt"
   },
   "source": [
    "##### **Quantitative Data**: Use histograms or boxplots to visualize distributions of quantitative (e.g., Color vision test score)"
   ]
  },
  {
   "cell_type": "markdown",
   "metadata": {
    "id": "FwzIQbti5H5E",
    "outputId": "190b98b3-fa95-4e40-9112-5cd8932e892f"
   },
   "source": [
    "train_Quant.columns"
   ]
  },
  {
   "cell_type": "markdown",
   "metadata": {
    "id": "2CUkIRDR5N6d"
   },
   "source": [
    "Let's look at the `SDQ_SDQ_Emotional_Problems`, which indicates Emotional Problems Scale."
   ]
  },
  {
   "cell_type": "markdown",
   "metadata": {
    "id": "eopKX0z-5GoR",
    "outputId": "15dcfd3f-5060-4771-eb02-7c60bb7cfe63"
   },
   "source": [
    "# Plot the distribution of the SDQ_SDQ_Emotional_Problems variable\n",
    "plt.figure(figsize=(8, 6))\n",
    "sns.histplot(train_Quant['SDQ_SDQ_Emotional_Problems'], kde=True, color='skyblue')\n",
    "plt.title('Distribution of SDQ_SDQ_Emotional_Problems')\n",
    "plt.xlabel('SDQ_SDQ_Emotional_Problems')\n",
    "plt.ylabel('Frequency')\n",
    "plt.show()"
   ]
  },
  {
   "cell_type": "markdown",
   "metadata": {
    "id": "5D19iAhp5RsJ"
   },
   "source": [
    "This boxplot examines the relationship between `SDQ_SDQ_Emotional_Problems` and `ADHD_outcome` (as a target variable)."
   ]
  },
  {
   "cell_type": "markdown",
   "metadata": {
    "id": "ewAA9MDG5Zn6",
    "outputId": "5c994a8f-f5b9-49d1-ce95-144c7ebb7702"
   },
   "source": [
    "# Check for correlation with ADHD outcome\n",
    "train_Quant_copy = train_Quant.copy()\n",
    "train_Quant_copy['ADHD_Outcome'] = train_Solutions['ADHD_Outcome']\n",
    "\n",
    "plt.figure(figsize=(8, 6))\n",
    "sns.boxplot(x='ADHD_Outcome', y='SDQ_SDQ_Emotional_Problems', data=train_Quant_copy)\n",
    "plt.title('SDQ_SDQ_Emotional_Problems vs ADHD Outcome')\n",
    "plt.xlabel('ADHD Outcome')\n",
    "plt.ylabel('SDQ_SDQ_Emotional_Problems')\n",
    "plt.show()\n"
   ]
  },
  {
   "cell_type": "markdown",
   "metadata": {
    "id": "dPt5cNhMVb5v"
   },
   "source": [
    "The boxplot reveals that individuals diagnosed with ADHD tend to have a higher median on the SDQ Emotional Problems scale compared to non-ADHD individuals. Additionally, the boxplot for the ADHD group displays greater variability, as evidenced by its extended range. This suggests that emotional problems are not only more pronounced but also more diverse within the ADHD group."
   ]
  },
  {
   "cell_type": "markdown",
   "metadata": {
    "id": "9pK55jJq5bD1"
   },
   "source": [
    "##### **Categorical Data**: Use bar plots to compare groups (e.g., ADHD rates by Parent 1 occupation).\n"
   ]
  },
  {
   "cell_type": "markdown",
   "metadata": {
    "id": "sPq83IBK5dHk",
    "outputId": "1fb5a747-616c-49f5-dd01-660ab1b16cf4"
   },
   "source": [
    "train_cat.columns"
   ]
  },
  {
   "cell_type": "markdown",
   "metadata": {
    "id": "Nv-Yy3Ay5j7A"
   },
   "source": [
    "Let's look at `Barratt_Barratt_P1_Edu` which indicates the Parent 1 level of education\n",
    "\n",
    "- 3=Less than 7th grade\n",
    "- 6=Junior high/Middle school (9th grade)\n",
    "- 9=Partial high school (10th or 11th grade)\n",
    "- 12=High school graduate\n",
    "- 15=Partial college (at least one year)\n",
    "- 18=College education\n",
    "- 21=Graduate degree"
   ]
  },
  {
   "cell_type": "markdown",
   "metadata": {
    "id": "KxA38GXT5iJf",
    "outputId": "ffc56f63-0c29-4b3b-a793-93a77aa17582"
   },
   "source": [
    "import seaborn as sns\n",
    "import matplotlib.pyplot as plt\n",
    "\n",
    "sns.countplot(data=train_cat, x='Barratt_Barratt_P1_Edu', hue=train_Solutions['ADHD_Outcome'])\n",
    "plt.title('ADHD Prevalence by Parent 1 Education')\n",
    "plt.show()"
   ]
  },
  {
   "cell_type": "markdown",
   "metadata": {
    "id": "Hk1eagtM5oLg",
    "outputId": "96ce30ec-6949-4906-fb00-d64078a36280"
   },
   "source": [
    "train_cat['Barratt_Barratt_P1_Edu'].value_counts()"
   ]
  },
  {
   "cell_type": "markdown",
   "metadata": {
    "id": "gx4Ws4Xh5l-j"
   },
   "source": [
    "Most of the data points fall into a specific category (e.g., 21 has 470 entries out of a total 1213). This means that even if ADHD prevalence appears higher in this category, it might just reflect that there are more people in this group overall, rather than an actual trend."
   ]
  },
  {
   "cell_type": "markdown",
   "metadata": {
    "id": "Q8sQcOa85sdF"
   },
   "source": [
    "To adress this, normalize the data or compute percentages within each category to account for differences in group sizes. Let's compute ADHD percentage for each category."
   ]
  },
  {
   "cell_type": "markdown",
   "metadata": {
    "id": "ORDcWrBj5wMZ",
    "outputId": "46b5b0bb-6c7c-4fa9-a711-58d1ac912386"
   },
   "source": [
    "# Add ADHD_Outcome directly to a copy of the train_cat dataset for grouping\n",
    "train_cat_copy = train_cat.copy()\n",
    "train_cat_copy['ADHD_Outcome'] = train_Solutions['ADHD_Outcome']\n",
    "\n",
    "adhd_percentages = train_cat_copy.groupby('Barratt_Barratt_P1_Edu')['ADHD_Outcome'].mean()\n",
    "print(adhd_percentages)"
   ]
  },
  {
   "cell_type": "markdown",
   "metadata": {
    "id": "l-ENdlzD5zWv"
   },
   "source": [
    "Categories like 3 - Less than 7th grade (80%) and 12 - High school graduate (72%) show some of the highest proportions of ADHD outcomes. Categories 21 - Graduate degree (67.2%) have relatively lower ADHD proportions compared to middle education levels."
   ]
  },
  {
   "cell_type": "markdown",
   "metadata": {
    "id": "oqA2mO12-my0",
    "outputId": "97e1882b-e6b0-486b-befd-6f4e5d1c339c"
   },
   "source": [
    "train_cat['Barratt_Barratt_P1_Edu'].value_counts()"
   ]
  },
  {
   "cell_type": "markdown",
   "metadata": {
    "id": "mhAvHOIU-ipM"
   },
   "source": [
    "While these proportions might appear noteworthy, it is essential to consider the smaller sample size for lower education levels. **Smaller sample sizes can lead to greater variability** and make the proportions more susceptible to outliers. This means that a few individual cases can disproportionately affect the results, making them less reliable and less representative of the broader population. Therefore, it is crucial to examine sample sizes carefully before drawing any conclusions."
   ]
  },
  {
   "cell_type": "markdown",
   "metadata": {
    "id": "oRDNsCGc3uM8"
   },
   "source": [
    "## Pre-processed Categorical Columns"
   ]
  },
  {
   "cell_type": "markdown",
   "metadata": {
    "id": "msYji4jD2vYC"
   },
   "source": [
    "\n",
    "Our categorical columns include demographic data about the adolescent and parental information, such as occupation and education level.\n",
    "\n",
    "In the provided dataset, these categorical columns have been preprocessed by assigning numerical values to the categories within each variable. For instance, in the Parent 1 Occupation column, the number 35 might represent roles such as nurse, skilled technician, medical technician, or counselor. This grouping reduces the number of unique responses for each variable, simplifying the dataset.\n",
    "\n",
    "The integers currently representing categorical values can be cross-referenced in the provided data dictionary in [kaggle](https://www.kaggle.com/competitions/widsdatathon2025/data) to understand their corresponding categories.\n"
   ]
  },
  {
   "cell_type": "markdown",
   "metadata": {
    "id": "nKVPDyZMxPdk"
   },
   "source": [
    "## What does One - Hot Encoding do ?"
   ]
  },
  {
   "cell_type": "markdown",
   "metadata": {
    "id": "q_Lsp1cUxSL5"
   },
   "source": [
    "One hot encoding creates a new binary column for each unique category within a variable. For example, in the Parent 1 Occupation column with 10 possible categories (e.g., 0, 5, 10, 15, 20, etc.), one-hot encoding will generate 10 new columns: Parent_1_Occupation_0, Parent_1_Occupation_5, Parent_1_Occupation_10, and so on.\n",
    "\n",
    "Each of these new columns will contain boolean values (True or False). For instance, if a participant's parent 1 occupation falls into category 0, the Parent_1_Occupation_0 column will have a value of True, while the other columns for this variable will be False. The same logic applies to the other categories, ensuring each participant is appropriately represented in the dataset.\n"
   ]
  },
  {
   "cell_type": "markdown",
   "metadata": {
    "id": "ezgjKbLQMtOP"
   },
   "source": [
    "# Why use one hot encoding\n",
    "\n",
    "Avoid Implying Ordinal Relationships\n",
    "\n",
    "\n",
    "1.  If you encode categories using numbers directly (e.g., 0, 1, 2), the algorithm might interpret these numbers as having a meaningful order or scale, which could lead to incorrect assumptions.\n",
    "2.  One-hot encoding eliminates this problem by assigning each category its own binary column, ensuring no ordinal relationship is implied.\n",
    "\n",
    "\n",
    "Improve Algorithm Performance\n",
    "\n",
    "\n",
    "*  Algorithms like logistic regression, decision trees, and neural networks often perform better with one-hot encoded data because it provides clear distinctions between categories.\n",
    "*  Without one-hot encoding, algorithms might struggle to learn from categorical variables or produce biased results.\n",
    "\n",
    "\n",
    "\n"
   ]
  },
  {
   "cell_type": "markdown",
   "metadata": {
    "id": "3YdmMwGsX73R"
   },
   "source": [
    "One hot encoding is only possible on categorical variables so the first step is to switch our integer representations into category type variables."
   ]
  },
  {
   "cell_type": "code",
   "execution_count": 10,
   "metadata": {
    "id": "kngRrr5l2shv"
   },
   "outputs": [],
   "source": [
    "train_cat = pd.read_csv(file_path_trainC)\n",
    "\n",
    "for col in train_cat.select_dtypes(include='number').columns:\n",
    "    train_cat[col] = train_cat[col].astype('Int64')\n",
    "    train_cat[col] = train_cat[col].astype('category')"
   ]
  },
  {
   "cell_type": "markdown",
   "metadata": {
    "id": "hLMi9-JR3BSF"
   },
   "source": [
    "Our first column of our dataset is our participant id. This is an indicator variable that identifies each patient. This column is very important as it will be the one used to merge all of our data frames together, but, we do not want to encode this column. So, we will create a list of all the columns except the first one and label those `columns_to_encode`."
   ]
  },
  {
   "cell_type": "code",
   "execution_count": 11,
   "metadata": {
    "id": "fvnHYTAT2-sD",
    "outputId": "e78c0e4f-e4cd-4ea4-fb06-223c412c94e8"
   },
   "outputs": [
    {
     "name": "stdout",
     "output_type": "stream",
     "text": [
      "Columns to encode: ['Basic_Demos_Enroll_Year', 'Basic_Demos_Study_Site', 'PreInt_Demos_Fam_Child_Ethnicity', 'PreInt_Demos_Fam_Child_Race', 'MRI_Track_Scan_Location', 'Barratt_Barratt_P1_Edu', 'Barratt_Barratt_P1_Occ', 'Barratt_Barratt_P2_Edu', 'Barratt_Barratt_P2_Occ']\n"
     ]
    }
   ],
   "source": [
    "# Creating a list of all of the columns except the first\n",
    "columns_to_encode = train_cat.columns[1:].tolist()\n",
    "\n",
    "# Print the columns to encode\n",
    "print(\"Columns to encode:\", columns_to_encode)"
   ]
  },
  {
   "cell_type": "markdown",
   "metadata": {
    "id": "VXiY7rIW3Nmg"
   },
   "source": [
    "`pd.get_dummies(train_cat[columns_to_enccode], drop_first=True)`:\n",
    "* Converts selected categorical columns in train_cat into one-hot encoded columns creating binary (0 or 1) columns for each category.\n",
    "* The `drop_first=True` parameter avoids the \"dummy variable trap\" by dropping the first category for each feature,reducing redundancy in the encoded data.\n",
    "\n",
    "`data_encoded.applymap(lambda x: 1 if x is True else (0 if x is False else x))`:\n",
    "\n",
    "*   Iterates over every element in the data_encoded DataFrame and:\n",
    "  - Converts `True` to 1 and `False` to 0.\n",
    "  - Leaves all other values unchanged."
   ]
  },
  {
   "cell_type": "code",
   "execution_count": 12,
   "metadata": {
    "id": "VemT5N343MX6",
    "outputId": "3ca76f50-67c7-413a-e66b-319c2b6e3588"
   },
   "outputs": [],
   "source": [
    "# encoding categorical data\n",
    "data_encoded = pd.get_dummies(train_cat[columns_to_encode], drop_first=True)\n",
    "data_encoded = data_encoded.applymap(lambda x: 1 if x is True else (0 if x is False else x))"
   ]
  },
  {
   "cell_type": "markdown",
   "metadata": {
    "id": "DE0FGpIQ39qh"
   },
   "source": [
    "Reintroducing participant ID after encoding:"
   ]
  },
  {
   "cell_type": "markdown",
   "metadata": {
    "id": "4I6l3U-tRZwT"
   },
   "source": [
    "After encoding the categorical columns we will add back in the participant id column. The get dummies function will align the participants correctly with their respective feature variables because it respects the original index of the DataFrame, so row alignment is consistent. When concatenating `data_encoded` with the rest of the DataFrame `train_cat.drop(columns=columns_to_encode)`, the rows align because pandas automatically matches by index."
   ]
  },
  {
   "cell_type": "code",
   "execution_count": 13,
   "metadata": {
    "id": "0VhPSB-H37Qu",
    "outputId": "d001219f-c732-499c-e33e-e11926f2b855"
   },
   "outputs": [
    {
     "name": "stdout",
     "output_type": "stream",
     "text": [
      "(1213, 57)\n"
     ]
    },
    {
     "data": {
      "text/html": [
       "<div>\n",
       "<style scoped>\n",
       "    .dataframe tbody tr th:only-of-type {\n",
       "        vertical-align: middle;\n",
       "    }\n",
       "\n",
       "    .dataframe tbody tr th {\n",
       "        vertical-align: top;\n",
       "    }\n",
       "\n",
       "    .dataframe thead th {\n",
       "        text-align: right;\n",
       "    }\n",
       "</style>\n",
       "<table border=\"1\" class=\"dataframe\">\n",
       "  <thead>\n",
       "    <tr style=\"text-align: right;\">\n",
       "      <th></th>\n",
       "      <th>participant_id</th>\n",
       "      <th>Basic_Demos_Enroll_Year_2016</th>\n",
       "      <th>Basic_Demos_Enroll_Year_2017</th>\n",
       "      <th>Basic_Demos_Enroll_Year_2018</th>\n",
       "      <th>Basic_Demos_Enroll_Year_2019</th>\n",
       "      <th>Basic_Demos_Enroll_Year_2020</th>\n",
       "      <th>Basic_Demos_Study_Site_2</th>\n",
       "      <th>Basic_Demos_Study_Site_3</th>\n",
       "      <th>Basic_Demos_Study_Site_4</th>\n",
       "      <th>PreInt_Demos_Fam_Child_Ethnicity_1</th>\n",
       "      <th>...</th>\n",
       "      <th>Barratt_Barratt_P2_Edu_21</th>\n",
       "      <th>Barratt_Barratt_P2_Occ_5</th>\n",
       "      <th>Barratt_Barratt_P2_Occ_10</th>\n",
       "      <th>Barratt_Barratt_P2_Occ_15</th>\n",
       "      <th>Barratt_Barratt_P2_Occ_20</th>\n",
       "      <th>Barratt_Barratt_P2_Occ_25</th>\n",
       "      <th>Barratt_Barratt_P2_Occ_30</th>\n",
       "      <th>Barratt_Barratt_P2_Occ_35</th>\n",
       "      <th>Barratt_Barratt_P2_Occ_40</th>\n",
       "      <th>Barratt_Barratt_P2_Occ_45</th>\n",
       "    </tr>\n",
       "  </thead>\n",
       "  <tbody>\n",
       "    <tr>\n",
       "      <th>0</th>\n",
       "      <td>UmrK0vMLopoR</td>\n",
       "      <td>1</td>\n",
       "      <td>0</td>\n",
       "      <td>0</td>\n",
       "      <td>0</td>\n",
       "      <td>0</td>\n",
       "      <td>0</td>\n",
       "      <td>0</td>\n",
       "      <td>0</td>\n",
       "      <td>0</td>\n",
       "      <td>...</td>\n",
       "      <td>1</td>\n",
       "      <td>0</td>\n",
       "      <td>0</td>\n",
       "      <td>0</td>\n",
       "      <td>0</td>\n",
       "      <td>0</td>\n",
       "      <td>0</td>\n",
       "      <td>0</td>\n",
       "      <td>0</td>\n",
       "      <td>1</td>\n",
       "    </tr>\n",
       "    <tr>\n",
       "      <th>1</th>\n",
       "      <td>CPaeQkhcjg7d</td>\n",
       "      <td>0</td>\n",
       "      <td>0</td>\n",
       "      <td>0</td>\n",
       "      <td>1</td>\n",
       "      <td>0</td>\n",
       "      <td>0</td>\n",
       "      <td>1</td>\n",
       "      <td>0</td>\n",
       "      <td>1</td>\n",
       "      <td>...</td>\n",
       "      <td>0</td>\n",
       "      <td>0</td>\n",
       "      <td>0</td>\n",
       "      <td>0</td>\n",
       "      <td>0</td>\n",
       "      <td>0</td>\n",
       "      <td>0</td>\n",
       "      <td>0</td>\n",
       "      <td>0</td>\n",
       "      <td>0</td>\n",
       "    </tr>\n",
       "    <tr>\n",
       "      <th>2</th>\n",
       "      <td>Nb4EetVPm3gs</td>\n",
       "      <td>1</td>\n",
       "      <td>0</td>\n",
       "      <td>0</td>\n",
       "      <td>0</td>\n",
       "      <td>0</td>\n",
       "      <td>0</td>\n",
       "      <td>0</td>\n",
       "      <td>0</td>\n",
       "      <td>1</td>\n",
       "      <td>...</td>\n",
       "      <td>0</td>\n",
       "      <td>0</td>\n",
       "      <td>0</td>\n",
       "      <td>0</td>\n",
       "      <td>0</td>\n",
       "      <td>0</td>\n",
       "      <td>0</td>\n",
       "      <td>0</td>\n",
       "      <td>0</td>\n",
       "      <td>0</td>\n",
       "    </tr>\n",
       "    <tr>\n",
       "      <th>3</th>\n",
       "      <td>p4vPhVu91o4b</td>\n",
       "      <td>0</td>\n",
       "      <td>0</td>\n",
       "      <td>1</td>\n",
       "      <td>0</td>\n",
       "      <td>0</td>\n",
       "      <td>0</td>\n",
       "      <td>1</td>\n",
       "      <td>0</td>\n",
       "      <td>0</td>\n",
       "      <td>...</td>\n",
       "      <td>0</td>\n",
       "      <td>0</td>\n",
       "      <td>0</td>\n",
       "      <td>0</td>\n",
       "      <td>0</td>\n",
       "      <td>0</td>\n",
       "      <td>0</td>\n",
       "      <td>0</td>\n",
       "      <td>0</td>\n",
       "      <td>0</td>\n",
       "    </tr>\n",
       "    <tr>\n",
       "      <th>4</th>\n",
       "      <td>M09PXs7arQ5E</td>\n",
       "      <td>0</td>\n",
       "      <td>0</td>\n",
       "      <td>0</td>\n",
       "      <td>1</td>\n",
       "      <td>0</td>\n",
       "      <td>0</td>\n",
       "      <td>1</td>\n",
       "      <td>0</td>\n",
       "      <td>0</td>\n",
       "      <td>...</td>\n",
       "      <td>0</td>\n",
       "      <td>0</td>\n",
       "      <td>0</td>\n",
       "      <td>0</td>\n",
       "      <td>0</td>\n",
       "      <td>0</td>\n",
       "      <td>0</td>\n",
       "      <td>0</td>\n",
       "      <td>0</td>\n",
       "      <td>0</td>\n",
       "    </tr>\n",
       "  </tbody>\n",
       "</table>\n",
       "<p>5 rows × 57 columns</p>\n",
       "</div>"
      ],
      "text/plain": [
       "  participant_id  Basic_Demos_Enroll_Year_2016  Basic_Demos_Enroll_Year_2017  \\\n",
       "0   UmrK0vMLopoR                             1                             0   \n",
       "1   CPaeQkhcjg7d                             0                             0   \n",
       "2   Nb4EetVPm3gs                             1                             0   \n",
       "3   p4vPhVu91o4b                             0                             0   \n",
       "4   M09PXs7arQ5E                             0                             0   \n",
       "\n",
       "   Basic_Demos_Enroll_Year_2018  Basic_Demos_Enroll_Year_2019  \\\n",
       "0                             0                             0   \n",
       "1                             0                             1   \n",
       "2                             0                             0   \n",
       "3                             1                             0   \n",
       "4                             0                             1   \n",
       "\n",
       "   Basic_Demos_Enroll_Year_2020  Basic_Demos_Study_Site_2  \\\n",
       "0                             0                         0   \n",
       "1                             0                         0   \n",
       "2                             0                         0   \n",
       "3                             0                         0   \n",
       "4                             0                         0   \n",
       "\n",
       "   Basic_Demos_Study_Site_3  Basic_Demos_Study_Site_4  \\\n",
       "0                         0                         0   \n",
       "1                         1                         0   \n",
       "2                         0                         0   \n",
       "3                         1                         0   \n",
       "4                         1                         0   \n",
       "\n",
       "   PreInt_Demos_Fam_Child_Ethnicity_1  ...  Barratt_Barratt_P2_Edu_21  \\\n",
       "0                                   0  ...                          1   \n",
       "1                                   1  ...                          0   \n",
       "2                                   1  ...                          0   \n",
       "3                                   0  ...                          0   \n",
       "4                                   0  ...                          0   \n",
       "\n",
       "   Barratt_Barratt_P2_Occ_5  Barratt_Barratt_P2_Occ_10  \\\n",
       "0                         0                          0   \n",
       "1                         0                          0   \n",
       "2                         0                          0   \n",
       "3                         0                          0   \n",
       "4                         0                          0   \n",
       "\n",
       "   Barratt_Barratt_P2_Occ_15  Barratt_Barratt_P2_Occ_20  \\\n",
       "0                          0                          0   \n",
       "1                          0                          0   \n",
       "2                          0                          0   \n",
       "3                          0                          0   \n",
       "4                          0                          0   \n",
       "\n",
       "   Barratt_Barratt_P2_Occ_25  Barratt_Barratt_P2_Occ_30  \\\n",
       "0                          0                          0   \n",
       "1                          0                          0   \n",
       "2                          0                          0   \n",
       "3                          0                          0   \n",
       "4                          0                          0   \n",
       "\n",
       "   Barratt_Barratt_P2_Occ_35  Barratt_Barratt_P2_Occ_40  \\\n",
       "0                          0                          0   \n",
       "1                          0                          0   \n",
       "2                          0                          0   \n",
       "3                          0                          0   \n",
       "4                          0                          0   \n",
       "\n",
       "   Barratt_Barratt_P2_Occ_45  \n",
       "0                          1  \n",
       "1                          0  \n",
       "2                          0  \n",
       "3                          0  \n",
       "4                          0  \n",
       "\n",
       "[5 rows x 57 columns]"
      ]
     },
     "execution_count": 13,
     "metadata": {},
     "output_type": "execute_result"
    }
   ],
   "source": [
    "# Combine encoded columns with the rest of the DataFrame\n",
    "cat_train_final = pd.concat([train_cat.drop(columns=columns_to_encode), data_encoded], axis=1)\n",
    "\n",
    "# ensure it looks correct\n",
    "print(cat_train_final.shape)\n",
    "cat_train_final.head()"
   ]
  },
  {
   "cell_type": "markdown",
   "metadata": {},
   "source": [
    "# TESTING ZONE !\n",
    "\n",
    "combine training and testing dataframes with categorical data in order to one hot encode them with all possible values"
   ]
  },
  {
   "cell_type": "code",
   "execution_count": 14,
   "metadata": {},
   "outputs": [
    {
     "data": {
      "text/html": [
       "<div>\n",
       "<style scoped>\n",
       "    .dataframe tbody tr th:only-of-type {\n",
       "        vertical-align: middle;\n",
       "    }\n",
       "\n",
       "    .dataframe tbody tr th {\n",
       "        vertical-align: top;\n",
       "    }\n",
       "\n",
       "    .dataframe thead th {\n",
       "        text-align: right;\n",
       "    }\n",
       "</style>\n",
       "<table border=\"1\" class=\"dataframe\">\n",
       "  <thead>\n",
       "    <tr style=\"text-align: right;\">\n",
       "      <th></th>\n",
       "      <th>participant_id</th>\n",
       "      <th>Basic_Demos_Enroll_Year</th>\n",
       "      <th>Basic_Demos_Study_Site</th>\n",
       "      <th>PreInt_Demos_Fam_Child_Ethnicity</th>\n",
       "      <th>PreInt_Demos_Fam_Child_Race</th>\n",
       "      <th>MRI_Track_Scan_Location</th>\n",
       "      <th>Barratt_Barratt_P1_Edu</th>\n",
       "      <th>Barratt_Barratt_P1_Occ</th>\n",
       "      <th>Barratt_Barratt_P2_Edu</th>\n",
       "      <th>Barratt_Barratt_P2_Occ</th>\n",
       "    </tr>\n",
       "  </thead>\n",
       "  <tbody>\n",
       "    <tr>\n",
       "      <th>0</th>\n",
       "      <td>UmrK0vMLopoR</td>\n",
       "      <td>2016</td>\n",
       "      <td>1</td>\n",
       "      <td>0</td>\n",
       "      <td>0</td>\n",
       "      <td>1</td>\n",
       "      <td>21</td>\n",
       "      <td>45</td>\n",
       "      <td>21</td>\n",
       "      <td>45</td>\n",
       "    </tr>\n",
       "    <tr>\n",
       "      <th>1</th>\n",
       "      <td>CPaeQkhcjg7d</td>\n",
       "      <td>2019</td>\n",
       "      <td>3</td>\n",
       "      <td>1</td>\n",
       "      <td>2</td>\n",
       "      <td>3</td>\n",
       "      <td>15</td>\n",
       "      <td>15</td>\n",
       "      <td>0</td>\n",
       "      <td>0</td>\n",
       "    </tr>\n",
       "    <tr>\n",
       "      <th>2</th>\n",
       "      <td>Nb4EetVPm3gs</td>\n",
       "      <td>2016</td>\n",
       "      <td>1</td>\n",
       "      <td>1</td>\n",
       "      <td>8</td>\n",
       "      <td>1</td>\n",
       "      <td>18</td>\n",
       "      <td>40</td>\n",
       "      <td>0</td>\n",
       "      <td>0</td>\n",
       "    </tr>\n",
       "    <tr>\n",
       "      <th>3</th>\n",
       "      <td>p4vPhVu91o4b</td>\n",
       "      <td>2018</td>\n",
       "      <td>3</td>\n",
       "      <td>0</td>\n",
       "      <td>8</td>\n",
       "      <td>3</td>\n",
       "      <td>15</td>\n",
       "      <td>30</td>\n",
       "      <td>18</td>\n",
       "      <td>0</td>\n",
       "    </tr>\n",
       "    <tr>\n",
       "      <th>4</th>\n",
       "      <td>M09PXs7arQ5E</td>\n",
       "      <td>2019</td>\n",
       "      <td>3</td>\n",
       "      <td>0</td>\n",
       "      <td>1</td>\n",
       "      <td>3</td>\n",
       "      <td>15</td>\n",
       "      <td>20</td>\n",
       "      <td>0</td>\n",
       "      <td>0</td>\n",
       "    </tr>\n",
       "    <tr>\n",
       "      <th>...</th>\n",
       "      <td>...</td>\n",
       "      <td>...</td>\n",
       "      <td>...</td>\n",
       "      <td>...</td>\n",
       "      <td>...</td>\n",
       "      <td>...</td>\n",
       "      <td>...</td>\n",
       "      <td>...</td>\n",
       "      <td>...</td>\n",
       "      <td>...</td>\n",
       "    </tr>\n",
       "    <tr>\n",
       "      <th>1512</th>\n",
       "      <td>UadZfjdEg7eG</td>\n",
       "      <td>2023</td>\n",
       "      <td>4</td>\n",
       "      <td>0</td>\n",
       "      <td>0</td>\n",
       "      <td>4</td>\n",
       "      <td>18</td>\n",
       "      <td>0</td>\n",
       "      <td>18</td>\n",
       "      <td>35</td>\n",
       "    </tr>\n",
       "    <tr>\n",
       "      <th>1513</th>\n",
       "      <td>IUEHiLmQAqCi</td>\n",
       "      <td>2023</td>\n",
       "      <td>4</td>\n",
       "      <td>0</td>\n",
       "      <td>1</td>\n",
       "      <td>3</td>\n",
       "      <td>18</td>\n",
       "      <td>35</td>\n",
       "      <td>21</td>\n",
       "      <td>40</td>\n",
       "    </tr>\n",
       "    <tr>\n",
       "      <th>1514</th>\n",
       "      <td>cRySmCadYFRO</td>\n",
       "      <td>2023</td>\n",
       "      <td>4</td>\n",
       "      <td>0</td>\n",
       "      <td>8</td>\n",
       "      <td>4</td>\n",
       "      <td>21</td>\n",
       "      <td>25</td>\n",
       "      <td>15</td>\n",
       "      <td>NaN</td>\n",
       "    </tr>\n",
       "    <tr>\n",
       "      <th>1515</th>\n",
       "      <td>E3MvDUtJadc5</td>\n",
       "      <td>2022</td>\n",
       "      <td>4</td>\n",
       "      <td>0</td>\n",
       "      <td>8</td>\n",
       "      <td>4</td>\n",
       "      <td>21</td>\n",
       "      <td>0</td>\n",
       "      <td>21</td>\n",
       "      <td>45</td>\n",
       "    </tr>\n",
       "    <tr>\n",
       "      <th>1516</th>\n",
       "      <td>dQJXfyRazknD</td>\n",
       "      <td>2022</td>\n",
       "      <td>4</td>\n",
       "      <td>1</td>\n",
       "      <td>2</td>\n",
       "      <td>4</td>\n",
       "      <td>18</td>\n",
       "      <td>0</td>\n",
       "      <td>12</td>\n",
       "      <td>35</td>\n",
       "    </tr>\n",
       "  </tbody>\n",
       "</table>\n",
       "<p>1517 rows × 10 columns</p>\n",
       "</div>"
      ],
      "text/plain": [
       "     participant_id  Basic_Demos_Enroll_Year  Basic_Demos_Study_Site  \\\n",
       "0      UmrK0vMLopoR                     2016                       1   \n",
       "1      CPaeQkhcjg7d                     2019                       3   \n",
       "2      Nb4EetVPm3gs                     2016                       1   \n",
       "3      p4vPhVu91o4b                     2018                       3   \n",
       "4      M09PXs7arQ5E                     2019                       3   \n",
       "...             ...                      ...                     ...   \n",
       "1512   UadZfjdEg7eG                     2023                       4   \n",
       "1513   IUEHiLmQAqCi                     2023                       4   \n",
       "1514   cRySmCadYFRO                     2023                       4   \n",
       "1515   E3MvDUtJadc5                     2022                       4   \n",
       "1516   dQJXfyRazknD                     2022                       4   \n",
       "\n",
       "     PreInt_Demos_Fam_Child_Ethnicity  PreInt_Demos_Fam_Child_Race  \\\n",
       "0                                   0                            0   \n",
       "1                                   1                            2   \n",
       "2                                   1                            8   \n",
       "3                                   0                            8   \n",
       "4                                   0                            1   \n",
       "...                               ...                          ...   \n",
       "1512                                0                            0   \n",
       "1513                                0                            1   \n",
       "1514                                0                            8   \n",
       "1515                                0                            8   \n",
       "1516                                1                            2   \n",
       "\n",
       "      MRI_Track_Scan_Location  Barratt_Barratt_P1_Edu  Barratt_Barratt_P1_Occ  \\\n",
       "0                           1                      21                      45   \n",
       "1                           3                      15                      15   \n",
       "2                           1                      18                      40   \n",
       "3                           3                      15                      30   \n",
       "4                           3                      15                      20   \n",
       "...                       ...                     ...                     ...   \n",
       "1512                        4                      18                       0   \n",
       "1513                        3                      18                      35   \n",
       "1514                        4                      21                      25   \n",
       "1515                        4                      21                       0   \n",
       "1516                        4                      18                       0   \n",
       "\n",
       "      Barratt_Barratt_P2_Edu Barratt_Barratt_P2_Occ  \n",
       "0                         21                     45  \n",
       "1                          0                      0  \n",
       "2                          0                      0  \n",
       "3                         18                      0  \n",
       "4                          0                      0  \n",
       "...                      ...                    ...  \n",
       "1512                      18                     35  \n",
       "1513                      21                     40  \n",
       "1514                      15                    NaN  \n",
       "1515                      21                     45  \n",
       "1516                      12                     35  \n",
       "\n",
       "[1517 rows x 10 columns]"
      ]
     },
     "execution_count": 14,
     "metadata": {},
     "output_type": "execute_result"
    }
   ],
   "source": [
    "train_cat = pd.read_csv(file_path_trainC)\n",
    "\n",
    "train_shape = train_cat.shape\n",
    "\n",
    "for col in train_cat.select_dtypes(include='number').columns:\n",
    "    train_cat[col] = train_cat[col].astype('Int64')\n",
    "    train_cat[col] = train_cat[col].astype('category')\n",
    "    \n",
    "file_path_testC = \"widsdatathon2025/TEST/TEST_CATEGORICAL.xlsx\"\n",
    "\n",
    "test_cat = pd.read_excel(file_path_testC)\n",
    "\n",
    "for col in test_cat.select_dtypes(include='number').columns:\n",
    "    test_cat[col] = test_cat[col].astype('Int64')\n",
    "    test_cat[col] = test_cat[col].astype('category')\n",
    "    \n",
    "cat_train_test = pd.concat([train_cat, test_cat], axis = 0).reset_index(drop = True)\n",
    "cat_train_test\n"
   ]
  },
  {
   "cell_type": "code",
   "execution_count": 15,
   "metadata": {},
   "outputs": [
    {
     "data": {
      "text/html": [
       "<div>\n",
       "<style scoped>\n",
       "    .dataframe tbody tr th:only-of-type {\n",
       "        vertical-align: middle;\n",
       "    }\n",
       "\n",
       "    .dataframe tbody tr th {\n",
       "        vertical-align: top;\n",
       "    }\n",
       "\n",
       "    .dataframe thead th {\n",
       "        text-align: right;\n",
       "    }\n",
       "</style>\n",
       "<table border=\"1\" class=\"dataframe\">\n",
       "  <thead>\n",
       "    <tr style=\"text-align: right;\">\n",
       "      <th></th>\n",
       "      <th>participant_id</th>\n",
       "      <th>Basic_Demos_Enroll_Year_2015</th>\n",
       "      <th>Basic_Demos_Enroll_Year_2016</th>\n",
       "      <th>Basic_Demos_Enroll_Year_2017</th>\n",
       "      <th>Basic_Demos_Enroll_Year_2018</th>\n",
       "      <th>Basic_Demos_Enroll_Year_2019</th>\n",
       "      <th>Basic_Demos_Enroll_Year_2020</th>\n",
       "      <th>Basic_Demos_Enroll_Year_2021</th>\n",
       "      <th>Basic_Demos_Enroll_Year_2022</th>\n",
       "      <th>Basic_Demos_Enroll_Year_2023</th>\n",
       "      <th>...</th>\n",
       "      <th>Barratt_Barratt_P2_Occ_0</th>\n",
       "      <th>Barratt_Barratt_P2_Occ_5</th>\n",
       "      <th>Barratt_Barratt_P2_Occ_10</th>\n",
       "      <th>Barratt_Barratt_P2_Occ_15</th>\n",
       "      <th>Barratt_Barratt_P2_Occ_20</th>\n",
       "      <th>Barratt_Barratt_P2_Occ_25</th>\n",
       "      <th>Barratt_Barratt_P2_Occ_30</th>\n",
       "      <th>Barratt_Barratt_P2_Occ_35</th>\n",
       "      <th>Barratt_Barratt_P2_Occ_40</th>\n",
       "      <th>Barratt_Barratt_P2_Occ_45</th>\n",
       "    </tr>\n",
       "  </thead>\n",
       "  <tbody>\n",
       "    <tr>\n",
       "      <th>0</th>\n",
       "      <td>UmrK0vMLopoR</td>\n",
       "      <td>0</td>\n",
       "      <td>1</td>\n",
       "      <td>0</td>\n",
       "      <td>0</td>\n",
       "      <td>0</td>\n",
       "      <td>0</td>\n",
       "      <td>0</td>\n",
       "      <td>0</td>\n",
       "      <td>0</td>\n",
       "      <td>...</td>\n",
       "      <td>0</td>\n",
       "      <td>0</td>\n",
       "      <td>0</td>\n",
       "      <td>0</td>\n",
       "      <td>0</td>\n",
       "      <td>0</td>\n",
       "      <td>0</td>\n",
       "      <td>0</td>\n",
       "      <td>0</td>\n",
       "      <td>1</td>\n",
       "    </tr>\n",
       "    <tr>\n",
       "      <th>1</th>\n",
       "      <td>CPaeQkhcjg7d</td>\n",
       "      <td>0</td>\n",
       "      <td>0</td>\n",
       "      <td>0</td>\n",
       "      <td>0</td>\n",
       "      <td>1</td>\n",
       "      <td>0</td>\n",
       "      <td>0</td>\n",
       "      <td>0</td>\n",
       "      <td>0</td>\n",
       "      <td>...</td>\n",
       "      <td>1</td>\n",
       "      <td>0</td>\n",
       "      <td>0</td>\n",
       "      <td>0</td>\n",
       "      <td>0</td>\n",
       "      <td>0</td>\n",
       "      <td>0</td>\n",
       "      <td>0</td>\n",
       "      <td>0</td>\n",
       "      <td>0</td>\n",
       "    </tr>\n",
       "    <tr>\n",
       "      <th>2</th>\n",
       "      <td>Nb4EetVPm3gs</td>\n",
       "      <td>0</td>\n",
       "      <td>1</td>\n",
       "      <td>0</td>\n",
       "      <td>0</td>\n",
       "      <td>0</td>\n",
       "      <td>0</td>\n",
       "      <td>0</td>\n",
       "      <td>0</td>\n",
       "      <td>0</td>\n",
       "      <td>...</td>\n",
       "      <td>1</td>\n",
       "      <td>0</td>\n",
       "      <td>0</td>\n",
       "      <td>0</td>\n",
       "      <td>0</td>\n",
       "      <td>0</td>\n",
       "      <td>0</td>\n",
       "      <td>0</td>\n",
       "      <td>0</td>\n",
       "      <td>0</td>\n",
       "    </tr>\n",
       "    <tr>\n",
       "      <th>3</th>\n",
       "      <td>p4vPhVu91o4b</td>\n",
       "      <td>0</td>\n",
       "      <td>0</td>\n",
       "      <td>0</td>\n",
       "      <td>1</td>\n",
       "      <td>0</td>\n",
       "      <td>0</td>\n",
       "      <td>0</td>\n",
       "      <td>0</td>\n",
       "      <td>0</td>\n",
       "      <td>...</td>\n",
       "      <td>1</td>\n",
       "      <td>0</td>\n",
       "      <td>0</td>\n",
       "      <td>0</td>\n",
       "      <td>0</td>\n",
       "      <td>0</td>\n",
       "      <td>0</td>\n",
       "      <td>0</td>\n",
       "      <td>0</td>\n",
       "      <td>0</td>\n",
       "    </tr>\n",
       "    <tr>\n",
       "      <th>4</th>\n",
       "      <td>M09PXs7arQ5E</td>\n",
       "      <td>0</td>\n",
       "      <td>0</td>\n",
       "      <td>0</td>\n",
       "      <td>0</td>\n",
       "      <td>1</td>\n",
       "      <td>0</td>\n",
       "      <td>0</td>\n",
       "      <td>0</td>\n",
       "      <td>0</td>\n",
       "      <td>...</td>\n",
       "      <td>1</td>\n",
       "      <td>0</td>\n",
       "      <td>0</td>\n",
       "      <td>0</td>\n",
       "      <td>0</td>\n",
       "      <td>0</td>\n",
       "      <td>0</td>\n",
       "      <td>0</td>\n",
       "      <td>0</td>\n",
       "      <td>0</td>\n",
       "    </tr>\n",
       "    <tr>\n",
       "      <th>...</th>\n",
       "      <td>...</td>\n",
       "      <td>...</td>\n",
       "      <td>...</td>\n",
       "      <td>...</td>\n",
       "      <td>...</td>\n",
       "      <td>...</td>\n",
       "      <td>...</td>\n",
       "      <td>...</td>\n",
       "      <td>...</td>\n",
       "      <td>...</td>\n",
       "      <td>...</td>\n",
       "      <td>...</td>\n",
       "      <td>...</td>\n",
       "      <td>...</td>\n",
       "      <td>...</td>\n",
       "      <td>...</td>\n",
       "      <td>...</td>\n",
       "      <td>...</td>\n",
       "      <td>...</td>\n",
       "      <td>...</td>\n",
       "      <td>...</td>\n",
       "    </tr>\n",
       "    <tr>\n",
       "      <th>1512</th>\n",
       "      <td>UadZfjdEg7eG</td>\n",
       "      <td>0</td>\n",
       "      <td>0</td>\n",
       "      <td>0</td>\n",
       "      <td>0</td>\n",
       "      <td>0</td>\n",
       "      <td>0</td>\n",
       "      <td>0</td>\n",
       "      <td>0</td>\n",
       "      <td>1</td>\n",
       "      <td>...</td>\n",
       "      <td>0</td>\n",
       "      <td>0</td>\n",
       "      <td>0</td>\n",
       "      <td>0</td>\n",
       "      <td>0</td>\n",
       "      <td>0</td>\n",
       "      <td>0</td>\n",
       "      <td>1</td>\n",
       "      <td>0</td>\n",
       "      <td>0</td>\n",
       "    </tr>\n",
       "    <tr>\n",
       "      <th>1513</th>\n",
       "      <td>IUEHiLmQAqCi</td>\n",
       "      <td>0</td>\n",
       "      <td>0</td>\n",
       "      <td>0</td>\n",
       "      <td>0</td>\n",
       "      <td>0</td>\n",
       "      <td>0</td>\n",
       "      <td>0</td>\n",
       "      <td>0</td>\n",
       "      <td>1</td>\n",
       "      <td>...</td>\n",
       "      <td>0</td>\n",
       "      <td>0</td>\n",
       "      <td>0</td>\n",
       "      <td>0</td>\n",
       "      <td>0</td>\n",
       "      <td>0</td>\n",
       "      <td>0</td>\n",
       "      <td>0</td>\n",
       "      <td>1</td>\n",
       "      <td>0</td>\n",
       "    </tr>\n",
       "    <tr>\n",
       "      <th>1514</th>\n",
       "      <td>cRySmCadYFRO</td>\n",
       "      <td>0</td>\n",
       "      <td>0</td>\n",
       "      <td>0</td>\n",
       "      <td>0</td>\n",
       "      <td>0</td>\n",
       "      <td>0</td>\n",
       "      <td>0</td>\n",
       "      <td>0</td>\n",
       "      <td>1</td>\n",
       "      <td>...</td>\n",
       "      <td>0</td>\n",
       "      <td>0</td>\n",
       "      <td>0</td>\n",
       "      <td>0</td>\n",
       "      <td>0</td>\n",
       "      <td>0</td>\n",
       "      <td>0</td>\n",
       "      <td>0</td>\n",
       "      <td>0</td>\n",
       "      <td>0</td>\n",
       "    </tr>\n",
       "    <tr>\n",
       "      <th>1515</th>\n",
       "      <td>E3MvDUtJadc5</td>\n",
       "      <td>0</td>\n",
       "      <td>0</td>\n",
       "      <td>0</td>\n",
       "      <td>0</td>\n",
       "      <td>0</td>\n",
       "      <td>0</td>\n",
       "      <td>0</td>\n",
       "      <td>1</td>\n",
       "      <td>0</td>\n",
       "      <td>...</td>\n",
       "      <td>0</td>\n",
       "      <td>0</td>\n",
       "      <td>0</td>\n",
       "      <td>0</td>\n",
       "      <td>0</td>\n",
       "      <td>0</td>\n",
       "      <td>0</td>\n",
       "      <td>0</td>\n",
       "      <td>0</td>\n",
       "      <td>1</td>\n",
       "    </tr>\n",
       "    <tr>\n",
       "      <th>1516</th>\n",
       "      <td>dQJXfyRazknD</td>\n",
       "      <td>0</td>\n",
       "      <td>0</td>\n",
       "      <td>0</td>\n",
       "      <td>0</td>\n",
       "      <td>0</td>\n",
       "      <td>0</td>\n",
       "      <td>0</td>\n",
       "      <td>1</td>\n",
       "      <td>0</td>\n",
       "      <td>...</td>\n",
       "      <td>0</td>\n",
       "      <td>0</td>\n",
       "      <td>0</td>\n",
       "      <td>0</td>\n",
       "      <td>0</td>\n",
       "      <td>0</td>\n",
       "      <td>0</td>\n",
       "      <td>1</td>\n",
       "      <td>0</td>\n",
       "      <td>0</td>\n",
       "    </tr>\n",
       "  </tbody>\n",
       "</table>\n",
       "<p>1517 rows × 70 columns</p>\n",
       "</div>"
      ],
      "text/plain": [
       "     participant_id  Basic_Demos_Enroll_Year_2015  \\\n",
       "0      UmrK0vMLopoR                             0   \n",
       "1      CPaeQkhcjg7d                             0   \n",
       "2      Nb4EetVPm3gs                             0   \n",
       "3      p4vPhVu91o4b                             0   \n",
       "4      M09PXs7arQ5E                             0   \n",
       "...             ...                           ...   \n",
       "1512   UadZfjdEg7eG                             0   \n",
       "1513   IUEHiLmQAqCi                             0   \n",
       "1514   cRySmCadYFRO                             0   \n",
       "1515   E3MvDUtJadc5                             0   \n",
       "1516   dQJXfyRazknD                             0   \n",
       "\n",
       "      Basic_Demos_Enroll_Year_2016  Basic_Demos_Enroll_Year_2017  \\\n",
       "0                                1                             0   \n",
       "1                                0                             0   \n",
       "2                                1                             0   \n",
       "3                                0                             0   \n",
       "4                                0                             0   \n",
       "...                            ...                           ...   \n",
       "1512                             0                             0   \n",
       "1513                             0                             0   \n",
       "1514                             0                             0   \n",
       "1515                             0                             0   \n",
       "1516                             0                             0   \n",
       "\n",
       "      Basic_Demos_Enroll_Year_2018  Basic_Demos_Enroll_Year_2019  \\\n",
       "0                                0                             0   \n",
       "1                                0                             1   \n",
       "2                                0                             0   \n",
       "3                                1                             0   \n",
       "4                                0                             1   \n",
       "...                            ...                           ...   \n",
       "1512                             0                             0   \n",
       "1513                             0                             0   \n",
       "1514                             0                             0   \n",
       "1515                             0                             0   \n",
       "1516                             0                             0   \n",
       "\n",
       "      Basic_Demos_Enroll_Year_2020  Basic_Demos_Enroll_Year_2021  \\\n",
       "0                                0                             0   \n",
       "1                                0                             0   \n",
       "2                                0                             0   \n",
       "3                                0                             0   \n",
       "4                                0                             0   \n",
       "...                            ...                           ...   \n",
       "1512                             0                             0   \n",
       "1513                             0                             0   \n",
       "1514                             0                             0   \n",
       "1515                             0                             0   \n",
       "1516                             0                             0   \n",
       "\n",
       "      Basic_Demos_Enroll_Year_2022  Basic_Demos_Enroll_Year_2023  ...  \\\n",
       "0                                0                             0  ...   \n",
       "1                                0                             0  ...   \n",
       "2                                0                             0  ...   \n",
       "3                                0                             0  ...   \n",
       "4                                0                             0  ...   \n",
       "...                            ...                           ...  ...   \n",
       "1512                             0                             1  ...   \n",
       "1513                             0                             1  ...   \n",
       "1514                             0                             1  ...   \n",
       "1515                             1                             0  ...   \n",
       "1516                             1                             0  ...   \n",
       "\n",
       "      Barratt_Barratt_P2_Occ_0  Barratt_Barratt_P2_Occ_5  \\\n",
       "0                            0                         0   \n",
       "1                            1                         0   \n",
       "2                            1                         0   \n",
       "3                            1                         0   \n",
       "4                            1                         0   \n",
       "...                        ...                       ...   \n",
       "1512                         0                         0   \n",
       "1513                         0                         0   \n",
       "1514                         0                         0   \n",
       "1515                         0                         0   \n",
       "1516                         0                         0   \n",
       "\n",
       "      Barratt_Barratt_P2_Occ_10  Barratt_Barratt_P2_Occ_15  \\\n",
       "0                             0                          0   \n",
       "1                             0                          0   \n",
       "2                             0                          0   \n",
       "3                             0                          0   \n",
       "4                             0                          0   \n",
       "...                         ...                        ...   \n",
       "1512                          0                          0   \n",
       "1513                          0                          0   \n",
       "1514                          0                          0   \n",
       "1515                          0                          0   \n",
       "1516                          0                          0   \n",
       "\n",
       "      Barratt_Barratt_P2_Occ_20  Barratt_Barratt_P2_Occ_25  \\\n",
       "0                             0                          0   \n",
       "1                             0                          0   \n",
       "2                             0                          0   \n",
       "3                             0                          0   \n",
       "4                             0                          0   \n",
       "...                         ...                        ...   \n",
       "1512                          0                          0   \n",
       "1513                          0                          0   \n",
       "1514                          0                          0   \n",
       "1515                          0                          0   \n",
       "1516                          0                          0   \n",
       "\n",
       "      Barratt_Barratt_P2_Occ_30  Barratt_Barratt_P2_Occ_35  \\\n",
       "0                             0                          0   \n",
       "1                             0                          0   \n",
       "2                             0                          0   \n",
       "3                             0                          0   \n",
       "4                             0                          0   \n",
       "...                         ...                        ...   \n",
       "1512                          0                          1   \n",
       "1513                          0                          0   \n",
       "1514                          0                          0   \n",
       "1515                          0                          0   \n",
       "1516                          0                          1   \n",
       "\n",
       "      Barratt_Barratt_P2_Occ_40  Barratt_Barratt_P2_Occ_45  \n",
       "0                             0                          1  \n",
       "1                             0                          0  \n",
       "2                             0                          0  \n",
       "3                             0                          0  \n",
       "4                             0                          0  \n",
       "...                         ...                        ...  \n",
       "1512                          0                          0  \n",
       "1513                          1                          0  \n",
       "1514                          0                          0  \n",
       "1515                          0                          1  \n",
       "1516                          0                          0  \n",
       "\n",
       "[1517 rows x 70 columns]"
      ]
     },
     "execution_count": 15,
     "metadata": {},
     "output_type": "execute_result"
    }
   ],
   "source": [
    "columns_to_encode = cat_train_test.columns[1:].tolist()\n",
    "cat_train_test_final = cat_train_test.drop(columns = columns_to_encode)\n",
    "\n",
    "for col in cat_train_test.columns[1:]:\n",
    "    encoded = pd.get_dummies(cat_train_test[col], prefix = col)\n",
    "    cat_train_test_final = pd.concat([cat_train_test_final, encoded], axis = 1)\n",
    "\n",
    "cat_train_test_final"
   ]
  },
  {
   "cell_type": "code",
   "execution_count": 16,
   "metadata": {},
   "outputs": [
    {
     "data": {
      "text/html": [
       "<div>\n",
       "<style scoped>\n",
       "    .dataframe tbody tr th:only-of-type {\n",
       "        vertical-align: middle;\n",
       "    }\n",
       "\n",
       "    .dataframe tbody tr th {\n",
       "        vertical-align: top;\n",
       "    }\n",
       "\n",
       "    .dataframe thead th {\n",
       "        text-align: right;\n",
       "    }\n",
       "</style>\n",
       "<table border=\"1\" class=\"dataframe\">\n",
       "  <thead>\n",
       "    <tr style=\"text-align: right;\">\n",
       "      <th></th>\n",
       "      <th>participant_id</th>\n",
       "      <th>Basic_Demos_Enroll_Year_2015</th>\n",
       "      <th>Basic_Demos_Enroll_Year_2016</th>\n",
       "      <th>Basic_Demos_Enroll_Year_2017</th>\n",
       "      <th>Basic_Demos_Enroll_Year_2018</th>\n",
       "      <th>Basic_Demos_Enroll_Year_2019</th>\n",
       "      <th>Basic_Demos_Enroll_Year_2020</th>\n",
       "      <th>Basic_Demos_Enroll_Year_2021</th>\n",
       "      <th>Basic_Demos_Enroll_Year_2022</th>\n",
       "      <th>Basic_Demos_Enroll_Year_2023</th>\n",
       "      <th>...</th>\n",
       "      <th>Barratt_Barratt_P2_Occ_0</th>\n",
       "      <th>Barratt_Barratt_P2_Occ_5</th>\n",
       "      <th>Barratt_Barratt_P2_Occ_10</th>\n",
       "      <th>Barratt_Barratt_P2_Occ_15</th>\n",
       "      <th>Barratt_Barratt_P2_Occ_20</th>\n",
       "      <th>Barratt_Barratt_P2_Occ_25</th>\n",
       "      <th>Barratt_Barratt_P2_Occ_30</th>\n",
       "      <th>Barratt_Barratt_P2_Occ_35</th>\n",
       "      <th>Barratt_Barratt_P2_Occ_40</th>\n",
       "      <th>Barratt_Barratt_P2_Occ_45</th>\n",
       "    </tr>\n",
       "  </thead>\n",
       "  <tbody>\n",
       "    <tr>\n",
       "      <th>0</th>\n",
       "      <td>UmrK0vMLopoR</td>\n",
       "      <td>0</td>\n",
       "      <td>1</td>\n",
       "      <td>0</td>\n",
       "      <td>0</td>\n",
       "      <td>0</td>\n",
       "      <td>0</td>\n",
       "      <td>0</td>\n",
       "      <td>0</td>\n",
       "      <td>0</td>\n",
       "      <td>...</td>\n",
       "      <td>0</td>\n",
       "      <td>0</td>\n",
       "      <td>0</td>\n",
       "      <td>0</td>\n",
       "      <td>0</td>\n",
       "      <td>0</td>\n",
       "      <td>0</td>\n",
       "      <td>0</td>\n",
       "      <td>0</td>\n",
       "      <td>1</td>\n",
       "    </tr>\n",
       "    <tr>\n",
       "      <th>1</th>\n",
       "      <td>CPaeQkhcjg7d</td>\n",
       "      <td>0</td>\n",
       "      <td>0</td>\n",
       "      <td>0</td>\n",
       "      <td>0</td>\n",
       "      <td>1</td>\n",
       "      <td>0</td>\n",
       "      <td>0</td>\n",
       "      <td>0</td>\n",
       "      <td>0</td>\n",
       "      <td>...</td>\n",
       "      <td>1</td>\n",
       "      <td>0</td>\n",
       "      <td>0</td>\n",
       "      <td>0</td>\n",
       "      <td>0</td>\n",
       "      <td>0</td>\n",
       "      <td>0</td>\n",
       "      <td>0</td>\n",
       "      <td>0</td>\n",
       "      <td>0</td>\n",
       "    </tr>\n",
       "    <tr>\n",
       "      <th>2</th>\n",
       "      <td>Nb4EetVPm3gs</td>\n",
       "      <td>0</td>\n",
       "      <td>1</td>\n",
       "      <td>0</td>\n",
       "      <td>0</td>\n",
       "      <td>0</td>\n",
       "      <td>0</td>\n",
       "      <td>0</td>\n",
       "      <td>0</td>\n",
       "      <td>0</td>\n",
       "      <td>...</td>\n",
       "      <td>1</td>\n",
       "      <td>0</td>\n",
       "      <td>0</td>\n",
       "      <td>0</td>\n",
       "      <td>0</td>\n",
       "      <td>0</td>\n",
       "      <td>0</td>\n",
       "      <td>0</td>\n",
       "      <td>0</td>\n",
       "      <td>0</td>\n",
       "    </tr>\n",
       "    <tr>\n",
       "      <th>3</th>\n",
       "      <td>p4vPhVu91o4b</td>\n",
       "      <td>0</td>\n",
       "      <td>0</td>\n",
       "      <td>0</td>\n",
       "      <td>1</td>\n",
       "      <td>0</td>\n",
       "      <td>0</td>\n",
       "      <td>0</td>\n",
       "      <td>0</td>\n",
       "      <td>0</td>\n",
       "      <td>...</td>\n",
       "      <td>1</td>\n",
       "      <td>0</td>\n",
       "      <td>0</td>\n",
       "      <td>0</td>\n",
       "      <td>0</td>\n",
       "      <td>0</td>\n",
       "      <td>0</td>\n",
       "      <td>0</td>\n",
       "      <td>0</td>\n",
       "      <td>0</td>\n",
       "    </tr>\n",
       "    <tr>\n",
       "      <th>4</th>\n",
       "      <td>M09PXs7arQ5E</td>\n",
       "      <td>0</td>\n",
       "      <td>0</td>\n",
       "      <td>0</td>\n",
       "      <td>0</td>\n",
       "      <td>1</td>\n",
       "      <td>0</td>\n",
       "      <td>0</td>\n",
       "      <td>0</td>\n",
       "      <td>0</td>\n",
       "      <td>...</td>\n",
       "      <td>1</td>\n",
       "      <td>0</td>\n",
       "      <td>0</td>\n",
       "      <td>0</td>\n",
       "      <td>0</td>\n",
       "      <td>0</td>\n",
       "      <td>0</td>\n",
       "      <td>0</td>\n",
       "      <td>0</td>\n",
       "      <td>0</td>\n",
       "    </tr>\n",
       "  </tbody>\n",
       "</table>\n",
       "<p>5 rows × 70 columns</p>\n",
       "</div>"
      ],
      "text/plain": [
       "  participant_id  Basic_Demos_Enroll_Year_2015  Basic_Demos_Enroll_Year_2016  \\\n",
       "0   UmrK0vMLopoR                             0                             1   \n",
       "1   CPaeQkhcjg7d                             0                             0   \n",
       "2   Nb4EetVPm3gs                             0                             1   \n",
       "3   p4vPhVu91o4b                             0                             0   \n",
       "4   M09PXs7arQ5E                             0                             0   \n",
       "\n",
       "   Basic_Demos_Enroll_Year_2017  Basic_Demos_Enroll_Year_2018  \\\n",
       "0                             0                             0   \n",
       "1                             0                             0   \n",
       "2                             0                             0   \n",
       "3                             0                             1   \n",
       "4                             0                             0   \n",
       "\n",
       "   Basic_Demos_Enroll_Year_2019  Basic_Demos_Enroll_Year_2020  \\\n",
       "0                             0                             0   \n",
       "1                             1                             0   \n",
       "2                             0                             0   \n",
       "3                             0                             0   \n",
       "4                             1                             0   \n",
       "\n",
       "   Basic_Demos_Enroll_Year_2021  Basic_Demos_Enroll_Year_2022  \\\n",
       "0                             0                             0   \n",
       "1                             0                             0   \n",
       "2                             0                             0   \n",
       "3                             0                             0   \n",
       "4                             0                             0   \n",
       "\n",
       "   Basic_Demos_Enroll_Year_2023  ...  Barratt_Barratt_P2_Occ_0  \\\n",
       "0                             0  ...                         0   \n",
       "1                             0  ...                         1   \n",
       "2                             0  ...                         1   \n",
       "3                             0  ...                         1   \n",
       "4                             0  ...                         1   \n",
       "\n",
       "   Barratt_Barratt_P2_Occ_5  Barratt_Barratt_P2_Occ_10  \\\n",
       "0                         0                          0   \n",
       "1                         0                          0   \n",
       "2                         0                          0   \n",
       "3                         0                          0   \n",
       "4                         0                          0   \n",
       "\n",
       "   Barratt_Barratt_P2_Occ_15  Barratt_Barratt_P2_Occ_20  \\\n",
       "0                          0                          0   \n",
       "1                          0                          0   \n",
       "2                          0                          0   \n",
       "3                          0                          0   \n",
       "4                          0                          0   \n",
       "\n",
       "   Barratt_Barratt_P2_Occ_25  Barratt_Barratt_P2_Occ_30  \\\n",
       "0                          0                          0   \n",
       "1                          0                          0   \n",
       "2                          0                          0   \n",
       "3                          0                          0   \n",
       "4                          0                          0   \n",
       "\n",
       "   Barratt_Barratt_P2_Occ_35  Barratt_Barratt_P2_Occ_40  \\\n",
       "0                          0                          0   \n",
       "1                          0                          0   \n",
       "2                          0                          0   \n",
       "3                          0                          0   \n",
       "4                          0                          0   \n",
       "\n",
       "   Barratt_Barratt_P2_Occ_45  \n",
       "0                          1  \n",
       "1                          0  \n",
       "2                          0  \n",
       "3                          0  \n",
       "4                          0  \n",
       "\n",
       "[5 rows x 70 columns]"
      ]
     },
     "execution_count": 16,
     "metadata": {},
     "output_type": "execute_result"
    }
   ],
   "source": [
    "cat_train_final = cat_train_test_final.iloc[:1213]\n",
    "cat_train_final.head()"
   ]
  },
  {
   "cell_type": "code",
   "execution_count": 17,
   "metadata": {},
   "outputs": [
    {
     "data": {
      "text/html": [
       "<div>\n",
       "<style scoped>\n",
       "    .dataframe tbody tr th:only-of-type {\n",
       "        vertical-align: middle;\n",
       "    }\n",
       "\n",
       "    .dataframe tbody tr th {\n",
       "        vertical-align: top;\n",
       "    }\n",
       "\n",
       "    .dataframe thead th {\n",
       "        text-align: right;\n",
       "    }\n",
       "</style>\n",
       "<table border=\"1\" class=\"dataframe\">\n",
       "  <thead>\n",
       "    <tr style=\"text-align: right;\">\n",
       "      <th></th>\n",
       "      <th>participant_id</th>\n",
       "      <th>Basic_Demos_Enroll_Year_2015</th>\n",
       "      <th>Basic_Demos_Enroll_Year_2016</th>\n",
       "      <th>Basic_Demos_Enroll_Year_2017</th>\n",
       "      <th>Basic_Demos_Enroll_Year_2018</th>\n",
       "      <th>Basic_Demos_Enroll_Year_2019</th>\n",
       "      <th>Basic_Demos_Enroll_Year_2020</th>\n",
       "      <th>Basic_Demos_Enroll_Year_2021</th>\n",
       "      <th>Basic_Demos_Enroll_Year_2022</th>\n",
       "      <th>Basic_Demos_Enroll_Year_2023</th>\n",
       "      <th>...</th>\n",
       "      <th>Barratt_Barratt_P2_Occ_0</th>\n",
       "      <th>Barratt_Barratt_P2_Occ_5</th>\n",
       "      <th>Barratt_Barratt_P2_Occ_10</th>\n",
       "      <th>Barratt_Barratt_P2_Occ_15</th>\n",
       "      <th>Barratt_Barratt_P2_Occ_20</th>\n",
       "      <th>Barratt_Barratt_P2_Occ_25</th>\n",
       "      <th>Barratt_Barratt_P2_Occ_30</th>\n",
       "      <th>Barratt_Barratt_P2_Occ_35</th>\n",
       "      <th>Barratt_Barratt_P2_Occ_40</th>\n",
       "      <th>Barratt_Barratt_P2_Occ_45</th>\n",
       "    </tr>\n",
       "  </thead>\n",
       "  <tbody>\n",
       "    <tr>\n",
       "      <th>0</th>\n",
       "      <td>Cfwaf5FX7jWK</td>\n",
       "      <td>0</td>\n",
       "      <td>0</td>\n",
       "      <td>0</td>\n",
       "      <td>0</td>\n",
       "      <td>0</td>\n",
       "      <td>0</td>\n",
       "      <td>0</td>\n",
       "      <td>1</td>\n",
       "      <td>0</td>\n",
       "      <td>...</td>\n",
       "      <td>0</td>\n",
       "      <td>0</td>\n",
       "      <td>0</td>\n",
       "      <td>0</td>\n",
       "      <td>0</td>\n",
       "      <td>0</td>\n",
       "      <td>1</td>\n",
       "      <td>0</td>\n",
       "      <td>0</td>\n",
       "      <td>0</td>\n",
       "    </tr>\n",
       "    <tr>\n",
       "      <th>1</th>\n",
       "      <td>vhGrzmvA3Hjq</td>\n",
       "      <td>0</td>\n",
       "      <td>0</td>\n",
       "      <td>0</td>\n",
       "      <td>0</td>\n",
       "      <td>0</td>\n",
       "      <td>0</td>\n",
       "      <td>0</td>\n",
       "      <td>0</td>\n",
       "      <td>1</td>\n",
       "      <td>...</td>\n",
       "      <td>0</td>\n",
       "      <td>0</td>\n",
       "      <td>0</td>\n",
       "      <td>0</td>\n",
       "      <td>0</td>\n",
       "      <td>0</td>\n",
       "      <td>1</td>\n",
       "      <td>0</td>\n",
       "      <td>0</td>\n",
       "      <td>0</td>\n",
       "    </tr>\n",
       "    <tr>\n",
       "      <th>2</th>\n",
       "      <td>ULliyEXjy4OV</td>\n",
       "      <td>0</td>\n",
       "      <td>0</td>\n",
       "      <td>0</td>\n",
       "      <td>0</td>\n",
       "      <td>0</td>\n",
       "      <td>0</td>\n",
       "      <td>0</td>\n",
       "      <td>1</td>\n",
       "      <td>0</td>\n",
       "      <td>...</td>\n",
       "      <td>0</td>\n",
       "      <td>0</td>\n",
       "      <td>0</td>\n",
       "      <td>0</td>\n",
       "      <td>0</td>\n",
       "      <td>0</td>\n",
       "      <td>0</td>\n",
       "      <td>0</td>\n",
       "      <td>1</td>\n",
       "      <td>0</td>\n",
       "    </tr>\n",
       "    <tr>\n",
       "      <th>3</th>\n",
       "      <td>LZfeAb1xMtql</td>\n",
       "      <td>0</td>\n",
       "      <td>0</td>\n",
       "      <td>0</td>\n",
       "      <td>0</td>\n",
       "      <td>0</td>\n",
       "      <td>0</td>\n",
       "      <td>0</td>\n",
       "      <td>1</td>\n",
       "      <td>0</td>\n",
       "      <td>...</td>\n",
       "      <td>0</td>\n",
       "      <td>0</td>\n",
       "      <td>0</td>\n",
       "      <td>0</td>\n",
       "      <td>0</td>\n",
       "      <td>0</td>\n",
       "      <td>0</td>\n",
       "      <td>0</td>\n",
       "      <td>0</td>\n",
       "      <td>1</td>\n",
       "    </tr>\n",
       "    <tr>\n",
       "      <th>4</th>\n",
       "      <td>EnFOUv0YK1RG</td>\n",
       "      <td>0</td>\n",
       "      <td>0</td>\n",
       "      <td>0</td>\n",
       "      <td>0</td>\n",
       "      <td>0</td>\n",
       "      <td>0</td>\n",
       "      <td>0</td>\n",
       "      <td>1</td>\n",
       "      <td>0</td>\n",
       "      <td>...</td>\n",
       "      <td>0</td>\n",
       "      <td>0</td>\n",
       "      <td>0</td>\n",
       "      <td>0</td>\n",
       "      <td>0</td>\n",
       "      <td>0</td>\n",
       "      <td>0</td>\n",
       "      <td>0</td>\n",
       "      <td>0</td>\n",
       "      <td>1</td>\n",
       "    </tr>\n",
       "  </tbody>\n",
       "</table>\n",
       "<p>5 rows × 70 columns</p>\n",
       "</div>"
      ],
      "text/plain": [
       "  participant_id  Basic_Demos_Enroll_Year_2015  Basic_Demos_Enroll_Year_2016  \\\n",
       "0   Cfwaf5FX7jWK                             0                             0   \n",
       "1   vhGrzmvA3Hjq                             0                             0   \n",
       "2   ULliyEXjy4OV                             0                             0   \n",
       "3   LZfeAb1xMtql                             0                             0   \n",
       "4   EnFOUv0YK1RG                             0                             0   \n",
       "\n",
       "   Basic_Demos_Enroll_Year_2017  Basic_Demos_Enroll_Year_2018  \\\n",
       "0                             0                             0   \n",
       "1                             0                             0   \n",
       "2                             0                             0   \n",
       "3                             0                             0   \n",
       "4                             0                             0   \n",
       "\n",
       "   Basic_Demos_Enroll_Year_2019  Basic_Demos_Enroll_Year_2020  \\\n",
       "0                             0                             0   \n",
       "1                             0                             0   \n",
       "2                             0                             0   \n",
       "3                             0                             0   \n",
       "4                             0                             0   \n",
       "\n",
       "   Basic_Demos_Enroll_Year_2021  Basic_Demos_Enroll_Year_2022  \\\n",
       "0                             0                             1   \n",
       "1                             0                             0   \n",
       "2                             0                             1   \n",
       "3                             0                             1   \n",
       "4                             0                             1   \n",
       "\n",
       "   Basic_Demos_Enroll_Year_2023  ...  Barratt_Barratt_P2_Occ_0  \\\n",
       "0                             0  ...                         0   \n",
       "1                             1  ...                         0   \n",
       "2                             0  ...                         0   \n",
       "3                             0  ...                         0   \n",
       "4                             0  ...                         0   \n",
       "\n",
       "   Barratt_Barratt_P2_Occ_5  Barratt_Barratt_P2_Occ_10  \\\n",
       "0                         0                          0   \n",
       "1                         0                          0   \n",
       "2                         0                          0   \n",
       "3                         0                          0   \n",
       "4                         0                          0   \n",
       "\n",
       "   Barratt_Barratt_P2_Occ_15  Barratt_Barratt_P2_Occ_20  \\\n",
       "0                          0                          0   \n",
       "1                          0                          0   \n",
       "2                          0                          0   \n",
       "3                          0                          0   \n",
       "4                          0                          0   \n",
       "\n",
       "   Barratt_Barratt_P2_Occ_25  Barratt_Barratt_P2_Occ_30  \\\n",
       "0                          0                          1   \n",
       "1                          0                          1   \n",
       "2                          0                          0   \n",
       "3                          0                          0   \n",
       "4                          0                          0   \n",
       "\n",
       "   Barratt_Barratt_P2_Occ_35  Barratt_Barratt_P2_Occ_40  \\\n",
       "0                          0                          0   \n",
       "1                          0                          0   \n",
       "2                          0                          1   \n",
       "3                          0                          0   \n",
       "4                          0                          0   \n",
       "\n",
       "   Barratt_Barratt_P2_Occ_45  \n",
       "0                          0  \n",
       "1                          0  \n",
       "2                          0  \n",
       "3                          1  \n",
       "4                          1  \n",
       "\n",
       "[5 rows x 70 columns]"
      ]
     },
     "execution_count": 17,
     "metadata": {},
     "output_type": "execute_result"
    }
   ],
   "source": [
    "cat_test_final = cat_train_test_final.iloc[1213:].reset_index(drop = True)\n",
    "cat_test_final.head()"
   ]
  },
  {
   "cell_type": "markdown",
   "metadata": {
    "id": "LSppCDmW-3Zh"
   },
   "source": [
    "### Train and Test Dataframes\n",
    "\n",
    "For any machine learning model you need training data and test data. On our Kaggle data page, you'll find both the training and testing dataframes. We have just encoded the categorical dataframe for our training data. Now, we need to apply the same encoding steps to the categorical dataframe in the testing data. It's essential to ensure that any preprocessing done on the training data is also applied to the test data to ensure accurate model predictions."
   ]
  },
  {
   "cell_type": "markdown",
   "metadata": {
    "id": "zjMEj1-pK-xJ"
   },
   "source": [
    "Our test categorical dataframe is preprocessed the same way as our training data so we will follow the same steps to encode the dataframe."
   ]
  },
  {
   "cell_type": "markdown",
   "metadata": {
    "id": "A8CrGqWwKUXC"
   },
   "source": [
    "# load in test categorical dataframe\n",
    "\n",
    "file_path_testC = \"widsdatathon2025/TEST/TEST_CATEGORICAL.xlsx\"\n",
    "test_cat = pd.read_excel(file_path_testC)\n",
    "# test_cat.head()"
   ]
  },
  {
   "cell_type": "markdown",
   "metadata": {
    "id": "XlTawOGPKabu",
    "outputId": "03dbda17-aae5-4261-9c1c-0108ea372d30"
   },
   "source": [
    "# convert our int variables to categories\n",
    "for col in test_cat.select_dtypes(include='number').columns:\n",
    "    test_cat[col] = test_cat[col].astype('Int64')\n",
    "    test_cat[col] = test_cat[col].astype('category')\n",
    "    \n",
    "# Creating a list of all of the columns except the first\n",
    "columns_to_encode = test_cat.columns[1:].tolist()\n",
    "\n",
    "# Print the columns to encode\n",
    "print(\"Columns to encode:\", columns_to_encode)\n",
    "\n",
    "# encoding categorical data\n",
    "data_encoded = pd.get_dummies(test_cat[columns_to_encode], drop_first=True)\n",
    "data_encoded = data_encoded.applymap(lambda x: 1 if x is True else (0 if x is False else x))"
   ]
  },
  {
   "cell_type": "markdown",
   "metadata": {},
   "source": [
    "# Combine encoded columns with the rest of the DataFrame\n",
    "cat_test_final = pd.concat([test_cat.drop(columns=columns_to_encode), data_encoded], axis=1)\n",
    "\n",
    "print(cat_test_final.shape)\n",
    "cat_test_final.head()"
   ]
  },
  {
   "cell_type": "markdown",
   "metadata": {
    "id": "i-_B5B_c4COr"
   },
   "source": [
    "## Merging Data Frames\n",
    "\n",
    "Now we have categorical data frames for both our training and test datasets that are both ready to be merged with our remaining variables, the functional connectome matrices and quantitative data. The result of merging will be two final dataframes, train df and test df.\n",
    "\n",
    "All the dataframes include a participant_id variable, which serves as the unique identifier for each patient. This variable will be used to merge the dataframes, as it is the only common variable across the datasets.\n",
    "\n",
    "The pandas merge function can only merge two dataframes. So, I will first merge our encoded train categorical dataframe with our training functional connectome matrices. Then I will combine that merged data frame with our training quantitative dataframe. Again, this will all be executed using the pandas merge function on our participant id variable."
   ]
  },
  {
   "cell_type": "code",
   "execution_count": 18,
   "metadata": {
    "id": "YmdQCbME4R2B"
   },
   "outputs": [],
   "source": [
    "train_cat_FCM = pd.merge(cat_train_final, train_FCM, on = 'participant_id')"
   ]
  },
  {
   "cell_type": "code",
   "execution_count": 19,
   "metadata": {
    "id": "cCyUVJFm4Uk6",
    "outputId": "aa549402-1034-466f-dc5b-77d44952ba19"
   },
   "outputs": [
    {
     "name": "stdout",
     "output_type": "stream",
     "text": [
      "(1213, 19988)\n"
     ]
    },
    {
     "data": {
      "text/html": [
       "<div>\n",
       "<style scoped>\n",
       "    .dataframe tbody tr th:only-of-type {\n",
       "        vertical-align: middle;\n",
       "    }\n",
       "\n",
       "    .dataframe tbody tr th {\n",
       "        vertical-align: top;\n",
       "    }\n",
       "\n",
       "    .dataframe thead th {\n",
       "        text-align: right;\n",
       "    }\n",
       "</style>\n",
       "<table border=\"1\" class=\"dataframe\">\n",
       "  <thead>\n",
       "    <tr style=\"text-align: right;\">\n",
       "      <th></th>\n",
       "      <th>participant_id</th>\n",
       "      <th>Basic_Demos_Enroll_Year_2015</th>\n",
       "      <th>Basic_Demos_Enroll_Year_2016</th>\n",
       "      <th>Basic_Demos_Enroll_Year_2017</th>\n",
       "      <th>Basic_Demos_Enroll_Year_2018</th>\n",
       "      <th>Basic_Demos_Enroll_Year_2019</th>\n",
       "      <th>Basic_Demos_Enroll_Year_2020</th>\n",
       "      <th>Basic_Demos_Enroll_Year_2021</th>\n",
       "      <th>Basic_Demos_Enroll_Year_2022</th>\n",
       "      <th>Basic_Demos_Enroll_Year_2023</th>\n",
       "      <th>...</th>\n",
       "      <th>SDQ_SDQ_Conduct_Problems</th>\n",
       "      <th>SDQ_SDQ_Difficulties_Total</th>\n",
       "      <th>SDQ_SDQ_Emotional_Problems</th>\n",
       "      <th>SDQ_SDQ_Externalizing</th>\n",
       "      <th>SDQ_SDQ_Generating_Impact</th>\n",
       "      <th>SDQ_SDQ_Hyperactivity</th>\n",
       "      <th>SDQ_SDQ_Internalizing</th>\n",
       "      <th>SDQ_SDQ_Peer_Problems</th>\n",
       "      <th>SDQ_SDQ_Prosocial</th>\n",
       "      <th>MRI_Track_Age_at_Scan</th>\n",
       "    </tr>\n",
       "  </thead>\n",
       "  <tbody>\n",
       "    <tr>\n",
       "      <th>0</th>\n",
       "      <td>UmrK0vMLopoR</td>\n",
       "      <td>0</td>\n",
       "      <td>1</td>\n",
       "      <td>0</td>\n",
       "      <td>0</td>\n",
       "      <td>0</td>\n",
       "      <td>0</td>\n",
       "      <td>0</td>\n",
       "      <td>0</td>\n",
       "      <td>0</td>\n",
       "      <td>...</td>\n",
       "      <td>0</td>\n",
       "      <td>6</td>\n",
       "      <td>1</td>\n",
       "      <td>5</td>\n",
       "      <td>0</td>\n",
       "      <td>5</td>\n",
       "      <td>1</td>\n",
       "      <td>0</td>\n",
       "      <td>10</td>\n",
       "      <td>NaN</td>\n",
       "    </tr>\n",
       "    <tr>\n",
       "      <th>1</th>\n",
       "      <td>CPaeQkhcjg7d</td>\n",
       "      <td>0</td>\n",
       "      <td>0</td>\n",
       "      <td>0</td>\n",
       "      <td>0</td>\n",
       "      <td>1</td>\n",
       "      <td>0</td>\n",
       "      <td>0</td>\n",
       "      <td>0</td>\n",
       "      <td>0</td>\n",
       "      <td>...</td>\n",
       "      <td>0</td>\n",
       "      <td>18</td>\n",
       "      <td>6</td>\n",
       "      <td>8</td>\n",
       "      <td>7</td>\n",
       "      <td>8</td>\n",
       "      <td>10</td>\n",
       "      <td>4</td>\n",
       "      <td>5</td>\n",
       "      <td>NaN</td>\n",
       "    </tr>\n",
       "    <tr>\n",
       "      <th>2</th>\n",
       "      <td>Nb4EetVPm3gs</td>\n",
       "      <td>0</td>\n",
       "      <td>1</td>\n",
       "      <td>0</td>\n",
       "      <td>0</td>\n",
       "      <td>0</td>\n",
       "      <td>0</td>\n",
       "      <td>0</td>\n",
       "      <td>0</td>\n",
       "      <td>0</td>\n",
       "      <td>...</td>\n",
       "      <td>1</td>\n",
       "      <td>14</td>\n",
       "      <td>2</td>\n",
       "      <td>8</td>\n",
       "      <td>5</td>\n",
       "      <td>7</td>\n",
       "      <td>6</td>\n",
       "      <td>4</td>\n",
       "      <td>9</td>\n",
       "      <td>8.239904</td>\n",
       "    </tr>\n",
       "    <tr>\n",
       "      <th>3</th>\n",
       "      <td>p4vPhVu91o4b</td>\n",
       "      <td>0</td>\n",
       "      <td>0</td>\n",
       "      <td>0</td>\n",
       "      <td>1</td>\n",
       "      <td>0</td>\n",
       "      <td>0</td>\n",
       "      <td>0</td>\n",
       "      <td>0</td>\n",
       "      <td>0</td>\n",
       "      <td>...</td>\n",
       "      <td>6</td>\n",
       "      <td>24</td>\n",
       "      <td>4</td>\n",
       "      <td>16</td>\n",
       "      <td>9</td>\n",
       "      <td>10</td>\n",
       "      <td>8</td>\n",
       "      <td>4</td>\n",
       "      <td>6</td>\n",
       "      <td>NaN</td>\n",
       "    </tr>\n",
       "    <tr>\n",
       "      <th>4</th>\n",
       "      <td>M09PXs7arQ5E</td>\n",
       "      <td>0</td>\n",
       "      <td>0</td>\n",
       "      <td>0</td>\n",
       "      <td>0</td>\n",
       "      <td>1</td>\n",
       "      <td>0</td>\n",
       "      <td>0</td>\n",
       "      <td>0</td>\n",
       "      <td>0</td>\n",
       "      <td>...</td>\n",
       "      <td>1</td>\n",
       "      <td>18</td>\n",
       "      <td>4</td>\n",
       "      <td>11</td>\n",
       "      <td>4</td>\n",
       "      <td>10</td>\n",
       "      <td>7</td>\n",
       "      <td>3</td>\n",
       "      <td>9</td>\n",
       "      <td>8.940679</td>\n",
       "    </tr>\n",
       "  </tbody>\n",
       "</table>\n",
       "<p>5 rows × 19988 columns</p>\n",
       "</div>"
      ],
      "text/plain": [
       "  participant_id  Basic_Demos_Enroll_Year_2015  Basic_Demos_Enroll_Year_2016  \\\n",
       "0   UmrK0vMLopoR                             0                             1   \n",
       "1   CPaeQkhcjg7d                             0                             0   \n",
       "2   Nb4EetVPm3gs                             0                             1   \n",
       "3   p4vPhVu91o4b                             0                             0   \n",
       "4   M09PXs7arQ5E                             0                             0   \n",
       "\n",
       "   Basic_Demos_Enroll_Year_2017  Basic_Demos_Enroll_Year_2018  \\\n",
       "0                             0                             0   \n",
       "1                             0                             0   \n",
       "2                             0                             0   \n",
       "3                             0                             1   \n",
       "4                             0                             0   \n",
       "\n",
       "   Basic_Demos_Enroll_Year_2019  Basic_Demos_Enroll_Year_2020  \\\n",
       "0                             0                             0   \n",
       "1                             1                             0   \n",
       "2                             0                             0   \n",
       "3                             0                             0   \n",
       "4                             1                             0   \n",
       "\n",
       "   Basic_Demos_Enroll_Year_2021  Basic_Demos_Enroll_Year_2022  \\\n",
       "0                             0                             0   \n",
       "1                             0                             0   \n",
       "2                             0                             0   \n",
       "3                             0                             0   \n",
       "4                             0                             0   \n",
       "\n",
       "   Basic_Demos_Enroll_Year_2023  ...  SDQ_SDQ_Conduct_Problems  \\\n",
       "0                             0  ...                         0   \n",
       "1                             0  ...                         0   \n",
       "2                             0  ...                         1   \n",
       "3                             0  ...                         6   \n",
       "4                             0  ...                         1   \n",
       "\n",
       "   SDQ_SDQ_Difficulties_Total  SDQ_SDQ_Emotional_Problems  \\\n",
       "0                           6                           1   \n",
       "1                          18                           6   \n",
       "2                          14                           2   \n",
       "3                          24                           4   \n",
       "4                          18                           4   \n",
       "\n",
       "   SDQ_SDQ_Externalizing  SDQ_SDQ_Generating_Impact  SDQ_SDQ_Hyperactivity  \\\n",
       "0                      5                          0                      5   \n",
       "1                      8                          7                      8   \n",
       "2                      8                          5                      7   \n",
       "3                     16                          9                     10   \n",
       "4                     11                          4                     10   \n",
       "\n",
       "   SDQ_SDQ_Internalizing  SDQ_SDQ_Peer_Problems  SDQ_SDQ_Prosocial  \\\n",
       "0                      1                      0                 10   \n",
       "1                     10                      4                  5   \n",
       "2                      6                      4                  9   \n",
       "3                      8                      4                  6   \n",
       "4                      7                      3                  9   \n",
       "\n",
       "   MRI_Track_Age_at_Scan  \n",
       "0                    NaN  \n",
       "1                    NaN  \n",
       "2               8.239904  \n",
       "3                    NaN  \n",
       "4               8.940679  \n",
       "\n",
       "[5 rows x 19988 columns]"
      ]
     },
     "execution_count": 19,
     "metadata": {},
     "output_type": "execute_result"
    }
   ],
   "source": [
    "train_df = pd.merge(train_cat_FCM, train_Quant, on = 'participant_id')\n",
    "\n",
    "# ensure it looks accurate\n",
    "print(train_df.shape)\n",
    "train_df.head()"
   ]
  },
  {
   "cell_type": "markdown",
   "metadata": {
    "id": "LOAqavTWVWiu"
   },
   "source": [
    "\n",
    "This creates an almost complete train dataframe. You may have noticed that there is one dataframe left in our training data that we have not merged, the solutions. When training a machine learning model you have an `X_train ` dataframe containing the feature variables and a `Y_train` dataframe containing the target variables. We just created our `X_train` dataframe. In our third workshop we will cover how to use the `X_train` and `Y_train` dataframes to train the model.\n",
    "\n",
    "Our testing data does not contain solutions, since that is what you will produce when running your model. So we just need one feature variable dataframe.\n",
    "\n",
    "We will merge together the feature variables for our testing data, the same way we did for our training data. First, I will load in the quantative and functional connectome matrices.\n"
   ]
  },
  {
   "cell_type": "markdown",
   "metadata": {
    "id": "-2b3i7Nq8Uq7"
   },
   "source": [
    "## Merge test dataframes"
   ]
  },
  {
   "cell_type": "code",
   "execution_count": 20,
   "metadata": {
    "id": "RWr878CTV0VS",
    "outputId": "44f8163d-2d43-4f64-e42b-7d2d5b94822d"
   },
   "outputs": [
    {
     "name": "stdout",
     "output_type": "stream",
     "text": [
      "(304, 19988)\n"
     ]
    },
    {
     "data": {
      "text/html": [
       "<div>\n",
       "<style scoped>\n",
       "    .dataframe tbody tr th:only-of-type {\n",
       "        vertical-align: middle;\n",
       "    }\n",
       "\n",
       "    .dataframe tbody tr th {\n",
       "        vertical-align: top;\n",
       "    }\n",
       "\n",
       "    .dataframe thead th {\n",
       "        text-align: right;\n",
       "    }\n",
       "</style>\n",
       "<table border=\"1\" class=\"dataframe\">\n",
       "  <thead>\n",
       "    <tr style=\"text-align: right;\">\n",
       "      <th></th>\n",
       "      <th>participant_id</th>\n",
       "      <th>Basic_Demos_Enroll_Year_2015</th>\n",
       "      <th>Basic_Demos_Enroll_Year_2016</th>\n",
       "      <th>Basic_Demos_Enroll_Year_2017</th>\n",
       "      <th>Basic_Demos_Enroll_Year_2018</th>\n",
       "      <th>Basic_Demos_Enroll_Year_2019</th>\n",
       "      <th>Basic_Demos_Enroll_Year_2020</th>\n",
       "      <th>Basic_Demos_Enroll_Year_2021</th>\n",
       "      <th>Basic_Demos_Enroll_Year_2022</th>\n",
       "      <th>Basic_Demos_Enroll_Year_2023</th>\n",
       "      <th>...</th>\n",
       "      <th>SDQ_SDQ_Conduct_Problems</th>\n",
       "      <th>SDQ_SDQ_Difficulties_Total</th>\n",
       "      <th>SDQ_SDQ_Emotional_Problems</th>\n",
       "      <th>SDQ_SDQ_Externalizing</th>\n",
       "      <th>SDQ_SDQ_Generating_Impact</th>\n",
       "      <th>SDQ_SDQ_Hyperactivity</th>\n",
       "      <th>SDQ_SDQ_Internalizing</th>\n",
       "      <th>SDQ_SDQ_Peer_Problems</th>\n",
       "      <th>SDQ_SDQ_Prosocial</th>\n",
       "      <th>MRI_Track_Age_at_Scan</th>\n",
       "    </tr>\n",
       "  </thead>\n",
       "  <tbody>\n",
       "    <tr>\n",
       "      <th>0</th>\n",
       "      <td>Cfwaf5FX7jWK</td>\n",
       "      <td>0</td>\n",
       "      <td>0</td>\n",
       "      <td>0</td>\n",
       "      <td>0</td>\n",
       "      <td>0</td>\n",
       "      <td>0</td>\n",
       "      <td>0</td>\n",
       "      <td>1</td>\n",
       "      <td>0</td>\n",
       "      <td>...</td>\n",
       "      <td>2.0</td>\n",
       "      <td>12.0</td>\n",
       "      <td>3.0</td>\n",
       "      <td>9.0</td>\n",
       "      <td>2.0</td>\n",
       "      <td>7.0</td>\n",
       "      <td>3.0</td>\n",
       "      <td>0.0</td>\n",
       "      <td>8.0</td>\n",
       "      <td>8.992813</td>\n",
       "    </tr>\n",
       "    <tr>\n",
       "      <th>1</th>\n",
       "      <td>vhGrzmvA3Hjq</td>\n",
       "      <td>0</td>\n",
       "      <td>0</td>\n",
       "      <td>0</td>\n",
       "      <td>0</td>\n",
       "      <td>0</td>\n",
       "      <td>0</td>\n",
       "      <td>0</td>\n",
       "      <td>0</td>\n",
       "      <td>1</td>\n",
       "      <td>...</td>\n",
       "      <td>2.0</td>\n",
       "      <td>16.0</td>\n",
       "      <td>8.0</td>\n",
       "      <td>5.0</td>\n",
       "      <td>7.0</td>\n",
       "      <td>3.0</td>\n",
       "      <td>11.0</td>\n",
       "      <td>3.0</td>\n",
       "      <td>9.0</td>\n",
       "      <td>12.324093</td>\n",
       "    </tr>\n",
       "    <tr>\n",
       "      <th>2</th>\n",
       "      <td>ULliyEXjy4OV</td>\n",
       "      <td>0</td>\n",
       "      <td>0</td>\n",
       "      <td>0</td>\n",
       "      <td>0</td>\n",
       "      <td>0</td>\n",
       "      <td>0</td>\n",
       "      <td>0</td>\n",
       "      <td>1</td>\n",
       "      <td>0</td>\n",
       "      <td>...</td>\n",
       "      <td>1.0</td>\n",
       "      <td>7.0</td>\n",
       "      <td>1.0</td>\n",
       "      <td>6.0</td>\n",
       "      <td>1.0</td>\n",
       "      <td>5.0</td>\n",
       "      <td>1.0</td>\n",
       "      <td>0.0</td>\n",
       "      <td>9.0</td>\n",
       "      <td>7.770933</td>\n",
       "    </tr>\n",
       "    <tr>\n",
       "      <th>3</th>\n",
       "      <td>LZfeAb1xMtql</td>\n",
       "      <td>0</td>\n",
       "      <td>0</td>\n",
       "      <td>0</td>\n",
       "      <td>0</td>\n",
       "      <td>0</td>\n",
       "      <td>0</td>\n",
       "      <td>0</td>\n",
       "      <td>1</td>\n",
       "      <td>0</td>\n",
       "      <td>...</td>\n",
       "      <td>4.0</td>\n",
       "      <td>15.0</td>\n",
       "      <td>4.0</td>\n",
       "      <td>10.0</td>\n",
       "      <td>8.0</td>\n",
       "      <td>6.0</td>\n",
       "      <td>5.0</td>\n",
       "      <td>1.0</td>\n",
       "      <td>6.0</td>\n",
       "      <td>9.304814</td>\n",
       "    </tr>\n",
       "    <tr>\n",
       "      <th>4</th>\n",
       "      <td>EnFOUv0YK1RG</td>\n",
       "      <td>0</td>\n",
       "      <td>0</td>\n",
       "      <td>0</td>\n",
       "      <td>0</td>\n",
       "      <td>0</td>\n",
       "      <td>0</td>\n",
       "      <td>0</td>\n",
       "      <td>1</td>\n",
       "      <td>0</td>\n",
       "      <td>...</td>\n",
       "      <td>2.0</td>\n",
       "      <td>18.0</td>\n",
       "      <td>6.0</td>\n",
       "      <td>12.0</td>\n",
       "      <td>5.0</td>\n",
       "      <td>10.0</td>\n",
       "      <td>6.0</td>\n",
       "      <td>0.0</td>\n",
       "      <td>10.0</td>\n",
       "      <td>8.261350</td>\n",
       "    </tr>\n",
       "  </tbody>\n",
       "</table>\n",
       "<p>5 rows × 19988 columns</p>\n",
       "</div>"
      ],
      "text/plain": [
       "  participant_id  Basic_Demos_Enroll_Year_2015  Basic_Demos_Enroll_Year_2016  \\\n",
       "0   Cfwaf5FX7jWK                             0                             0   \n",
       "1   vhGrzmvA3Hjq                             0                             0   \n",
       "2   ULliyEXjy4OV                             0                             0   \n",
       "3   LZfeAb1xMtql                             0                             0   \n",
       "4   EnFOUv0YK1RG                             0                             0   \n",
       "\n",
       "   Basic_Demos_Enroll_Year_2017  Basic_Demos_Enroll_Year_2018  \\\n",
       "0                             0                             0   \n",
       "1                             0                             0   \n",
       "2                             0                             0   \n",
       "3                             0                             0   \n",
       "4                             0                             0   \n",
       "\n",
       "   Basic_Demos_Enroll_Year_2019  Basic_Demos_Enroll_Year_2020  \\\n",
       "0                             0                             0   \n",
       "1                             0                             0   \n",
       "2                             0                             0   \n",
       "3                             0                             0   \n",
       "4                             0                             0   \n",
       "\n",
       "   Basic_Demos_Enroll_Year_2021  Basic_Demos_Enroll_Year_2022  \\\n",
       "0                             0                             1   \n",
       "1                             0                             0   \n",
       "2                             0                             1   \n",
       "3                             0                             1   \n",
       "4                             0                             1   \n",
       "\n",
       "   Basic_Demos_Enroll_Year_2023  ...  SDQ_SDQ_Conduct_Problems  \\\n",
       "0                             0  ...                       2.0   \n",
       "1                             1  ...                       2.0   \n",
       "2                             0  ...                       1.0   \n",
       "3                             0  ...                       4.0   \n",
       "4                             0  ...                       2.0   \n",
       "\n",
       "   SDQ_SDQ_Difficulties_Total  SDQ_SDQ_Emotional_Problems  \\\n",
       "0                        12.0                         3.0   \n",
       "1                        16.0                         8.0   \n",
       "2                         7.0                         1.0   \n",
       "3                        15.0                         4.0   \n",
       "4                        18.0                         6.0   \n",
       "\n",
       "   SDQ_SDQ_Externalizing  SDQ_SDQ_Generating_Impact  SDQ_SDQ_Hyperactivity  \\\n",
       "0                    9.0                        2.0                    7.0   \n",
       "1                    5.0                        7.0                    3.0   \n",
       "2                    6.0                        1.0                    5.0   \n",
       "3                   10.0                        8.0                    6.0   \n",
       "4                   12.0                        5.0                   10.0   \n",
       "\n",
       "   SDQ_SDQ_Internalizing  SDQ_SDQ_Peer_Problems  SDQ_SDQ_Prosocial  \\\n",
       "0                    3.0                    0.0                8.0   \n",
       "1                   11.0                    3.0                9.0   \n",
       "2                    1.0                    0.0                9.0   \n",
       "3                    5.0                    1.0                6.0   \n",
       "4                    6.0                    0.0               10.0   \n",
       "\n",
       "   MRI_Track_Age_at_Scan  \n",
       "0               8.992813  \n",
       "1              12.324093  \n",
       "2               7.770933  \n",
       "3               9.304814  \n",
       "4               8.261350  \n",
       "\n",
       "[5 rows x 19988 columns]"
      ]
     },
     "execution_count": 20,
     "metadata": {},
     "output_type": "execute_result"
    }
   ],
   "source": [
    "file_path_testFCM = \"widsdatathon2025/TEST/TEST_FUNCTIONAL_CONNECTOME_MATRICES.csv\"\n",
    "test_FCM = pd.read_csv(file_path_testFCM)\n",
    "# print(train_FCM.head())\n",
    "\n",
    "file_path_testQ = \"widsdatathon2025/TEST/TEST_QUANTITATIVE_METADATA.xlsx\"\n",
    "test_Quant = pd.read_excel(file_path_testQ)\n",
    "# print(train_Quant.head())\n",
    "\n",
    "test_cat_FCM = pd.merge(cat_test_final, test_FCM, on = 'participant_id')\n",
    "\n",
    "test_df = pd.merge(test_cat_FCM, test_Quant, on = 'participant_id')\n",
    "\n",
    "# ensure it looks accurate\n",
    "print(test_df.shape)\n",
    "test_df.head()"
   ]
  },
  {
   "cell_type": "markdown",
   "metadata": {
    "id": "B9lYu5V09bSY"
   },
   "source": [
    "Now we have nearly complete train and test dataframes. There is one more step before we can perform machine learning, imputing NA values. Again, you will need to impute NA values the same way for both your training and test dataframes for accurate model performance."
   ]
  },
  {
   "cell_type": "markdown",
   "metadata": {},
   "source": [
    "# the below might be wrong somehow bc child ethnicity should have been one hot encoded, meaning that column shouldnt exist as a singular one\n",
    "\n",
    "## ok well it doesnt exist now but still. this interpretation hasnt been nan-filled as it should, the one hot encoding got weird"
   ]
  },
  {
   "cell_type": "markdown",
   "metadata": {
    "id": "FPh-Mow14yTg"
   },
   "source": [
    "## NA values\n",
    "\n",
    "Before performing machine learning we must adress missing values to ensure optimal model performance.\n",
    "\n",
    "We will demonstrate how to fill the missing (`NA`) values using the mean of each column as an example.\n",
    "\n",
    "Note: There are many approaches to handle missing values, and the best method often depends on your dataset and chosen machine learning model. You can explore how your model deals with missing data and try alternative techniques. For example, this [website](https://www.widsworldwide.org/get-inspired/blog/a-data-scientists-deep-dive-into-the-wids-datathon/) has various ways to handle missing data.\n",
    "\n",
    "Filling NA values is a key challenge in this datathon to get accurate model performance. Experiment with different methods and evaluate which approach gives the best results for your model!"
   ]
  },
  {
   "cell_type": "code",
   "execution_count": 21,
   "metadata": {
    "id": "-pTwTsPx4uNk",
    "outputId": "a3310a4e-692f-4d12-b67e-71cc3dfe54e8"
   },
   "outputs": [
    {
     "name": "stdout",
     "output_type": "stream",
     "text": [
      "participant_id                    0\n",
      "Basic_Demos_Enroll_Year_2015      0\n",
      "Basic_Demos_Enroll_Year_2016      0\n",
      "Basic_Demos_Enroll_Year_2017      0\n",
      "Basic_Demos_Enroll_Year_2018      0\n",
      "                               ... \n",
      "SDQ_SDQ_Hyperactivity             0\n",
      "SDQ_SDQ_Internalizing             0\n",
      "SDQ_SDQ_Peer_Problems             0\n",
      "SDQ_SDQ_Prosocial                 0\n",
      "MRI_Track_Age_at_Scan           360\n",
      "Length: 19988, dtype: int64\n"
     ]
    }
   ],
   "source": [
    "# check how many NA values we have\n",
    "print(train_df.isna().sum())\n",
    "\n",
    "# 371 NANs values\n",
    "# 360 in MRI_Track_age_at_Scan\n",
    "# 11 in PreInt_Demos_Fam_Child_Ethnicity"
   ]
  },
  {
   "cell_type": "markdown",
   "metadata": {
    "id": "4dKu_e5w5lU4"
   },
   "source": [
    "We can fill the missing (`NA`) values in the columns `MRI_Track_Age_at_Scan` and `PreInt_Demos_Fam_Child_Ethnicity` individually by replacing them with the mean of their respective columns."
   ]
  },
  {
   "cell_type": "code",
   "execution_count": 22,
   "metadata": {
    "id": "nF82Zdhs5uE3",
    "outputId": "9017f29f-dcfe-4a90-d81d-ffc9a23ab1f0"
   },
   "outputs": [
    {
     "name": "stdout",
     "output_type": "stream",
     "text": [
      "0\n"
     ]
    }
   ],
   "source": [
    "train_df.fillna({'MRI_Track_Age_at_Scan':train_df['MRI_Track_Age_at_Scan'].mean()}, inplace = True)\n",
    "# train_df.fillna({'PreInt_Demos_Fam_Child_Ethnicity':train_df['PreInt_Demos_Fam_Child_Ethnicity'].mean()}, inplace = True)\n",
    "\n",
    "print(train_df.isna().sum().sum()) # should now be zero"
   ]
  },
  {
   "cell_type": "markdown",
   "metadata": {
    "id": "kbF9iATIWnjH"
   },
   "source": [
    "We can also use backward and forward fills. This indicates using previous or the following data row in order to replace the missing values.\n"
   ]
  },
  {
   "cell_type": "code",
   "execution_count": 23,
   "metadata": {
    "id": "SBTsNaK4WeiA",
    "outputId": "c999a644-eee2-49d7-e1e5-428f41457918"
   },
   "outputs": [
    {
     "name": "stdout",
     "output_type": "stream",
     "text": [
      "0\n"
     ]
    }
   ],
   "source": [
    "train_df.ffill(inplace=True)\n",
    "print(train_df.isna().sum().sum())"
   ]
  },
  {
   "cell_type": "markdown",
   "metadata": {
    "id": "0keXkdRY50nB"
   },
   "source": [
    "Now that we have filled in our NA values our data frame is ready to be trained for machine learning. Tune into our next workshop to understand how to build your mulitoutcome machine learning model!"
   ]
  },
  {
   "cell_type": "markdown",
   "metadata": {
    "id": "Tm3tbWZ6iMFX"
   },
   "source": [
    "#Perform Machine Learning"
   ]
  },
  {
   "cell_type": "markdown",
   "metadata": {
    "id": "LmTNdoVekyBf"
   },
   "source": [
    "## Multi-Outcome Model\n",
    "\n",
    "A machine learning model is a mathematical model that, after being trained on a dataset, can make predictions or classifications on new data by identifying patterns within the information.\n",
    "\n",
    "Since this challenge is trying to answer the question:\n",
    "\n",
    "What brain activity patterns are associated with ADHD; are they different between males and females, and, if so, how?\n",
    "\n",
    "Our predictions or target variables in this model are gender (1 = female, 0 = male) and ADHD diagnosis (1 = has ADHD, 0 = does not). Both are classification problems, meaning the outputs are binary: each prediction will either be 0 or 1, representing a boolean result.\n",
    "\n",
    "To predict both target variables simultaneously, we will use a multi-outcome machine learning model. This type of model is designed to predict multiple dependent variables (or outcomes) at the same time, rather than one at a time. For this task, our Y_train dataset will include two target columns—gender and ADHD diagnosis. The predictions generated by your model, which you will submit to Kaggle, will also include these two variables. As a requirement for this challenge, you must use a multi-outcome model to produce predictions for both targets simultaneously.\n"
   ]
  },
  {
   "cell_type": "markdown",
   "metadata": {
    "id": "klmtVeGpk6P5"
   },
   "source": [
    "## Why use a Multi-Outcome model ?\n",
    "\n",
    "This approach is particularly relevant to our specific challenge of investigating ADHD diagnosis in women. Research suggests that women with ADHD are often underdiagnosed, and by modeling gender and ADHD diagnosis together, we can explore potential relationships between these variables. Using the same feature variables to predict both targets allows us to examine this connection in a systematic way. A multi-outcome model is ideal for this purpose because it efficiently handles the simultaneous prediction of both variables while leveraging any potential interdependencies between them.\n",
    "\n",
    "Additionally, using a multi-outcome model streamlines the workflow. We only need to preprocess the data once, and we can train a single model instead of separate models for each target. This not only saves time and computational resources but also simplifies the overall process, making it easier to maintain consistency across predictions for gender and ADHD diagnosis.\n"
   ]
  },
  {
   "cell_type": "markdown",
   "metadata": {
    "id": "5NGLHE1QlHz_"
   },
   "source": [
    "## X Train and Y Train\n",
    "\n",
    "For any machine learning model, you need an X_train dataset, which contains the feature variables used to make predictions about the target variables—in this case, ADHD diagnosis and gender. Our feature variables include categorical columns, quantitative variables, and functional connectome matrices. We have prepared our X_train dataframe by encoding categorical variables, merging dataframes, and handling missing values by filling in NAs.\n",
    "\n",
    "In addition to X_train, we also need Y_train, the dataset containing the target variables, to train the model. The target variables allow the model to learn the patterns in the feature variables that lead to specific outcomes for ADHD diagnosis and gender. This relationship is what enables the model to make accurate predictions when applied to new data.\n",
    "\n",
    "So the first step we will take in coding is loading in the training solutions dataframe this will be our Y_train.\n"
   ]
  },
  {
   "cell_type": "code",
   "execution_count": 24,
   "metadata": {
    "id": "YJrHtK_olOLD"
   },
   "outputs": [],
   "source": [
    "# widsdatathon2025/TRAIN/TRAIN_FUNCTIONAL_CONNECTOME_MATRICES.csv\n",
    "file_path_trainS = \"widsdatathon2025/TRAIN/TRAINING_SOLUTIONS.csv\"\n",
    "train_Solutions = pd.read_csv(file_path_trainS)"
   ]
  },
  {
   "cell_type": "markdown",
   "metadata": {
    "id": "xdGtB1R4lOzq"
   },
   "source": [
    "Both our X_train and Y_train datasets include the participant_id column, which serves as an identifier for each patient. Since this column is of type category and machine learning models require numerical data (int or float), it cannot be used during training. Additionally, it is not relevant for model learning. Therefore, we will remove the participant_id column from both dataframes before training the machine learning model."
   ]
  },
  {
   "cell_type": "code",
   "execution_count": 25,
   "metadata": {
    "id": "8Mx5W9snlRuM"
   },
   "outputs": [],
   "source": [
    "X_train = train_df.drop(columns = ['participant_id'])\n",
    "Y_train = train_Solutions.drop(columns = ['participant_id', 'Unnamed: 3', 'Unnamed: 4'])"
   ]
  },
  {
   "cell_type": "markdown",
   "metadata": {
    "id": "BY3fDLWZlXUL"
   },
   "source": [
    "### XGBoost\n",
    "\n",
    "XGBoost, short for eXtreme Gradient Boosting, is an optimized implementation of gradient boosting, a machine learning technique that builds an ensemble of decision trees to make predictions. It is widely used for structured (tabular) data and is especially popular in competitive data science (e.g., Kaggle competitions) due to its high performance, speed, and flexibility.\n",
    "\n",
    "XGBoost builds an ensemble of decision trees in a sequential manner, where each tree corrects the errors of the previous ones. The final prediction is the weighted sum of the predictions from all trees.\n",
    "\n",
    "Gradient Boosting:\n",
    "\n",
    "Each tree tries to minimize the error (residual) from the previous step by fitting to the gradient of the loss function.\n",
    "This iterative process improves the model's accuracy over time.\n",
    "Ensemble Learning:\n",
    "\n",
    "By combining multiple weak learners (shallow decision trees), XGBoost creates a strong predictive model."
   ]
  },
  {
   "cell_type": "markdown",
   "metadata": {
    "id": "Or5-NbUhla52"
   },
   "source": [
    "First we must create an instance of the XGBClassifier from the xgboost library.\n",
    "\n",
    "Key Parameters Explained:\n",
    "\n",
    "\n",
    "*   objective='binary:logistic': Specifies the task type as binary classification, with logistic regression as the objective function.\n",
    "*   n_estimators=100: Sets the number of boosting rounds (i.e., the number of trees to train in the ensemble).\n",
    "* learning_rate=0.1: Determines the step size shrinkage used to prevent overfitting. Lower values result in slower learning but can improve accuracy.\n",
    "* max_depth=5: Limits the depth of each decision tree to prevent overfitting while ensuring the model captures enough complexity."
   ]
  },
  {
   "cell_type": "code",
   "execution_count": 26,
   "metadata": {
    "id": "IGFYIQSmlUMb"
   },
   "outputs": [],
   "source": [
    "from xgboost import XGBClassifier\n",
    "from sklearn.multioutput import MultiOutputClassifier\n",
    "\n",
    "# Initialize the base classifier\n",
    "xgb_classifier = XGBClassifier(objective='binary:logistic', n_estimators=100, learning_rate=0.1, max_depth=5)"
   ]
  },
  {
   "cell_type": "markdown",
   "metadata": {
    "id": "9o0a0vKWlfEA"
   },
   "source": [
    "Next, we will wrap the XGBClassifier with MultiOutputClassifier, a utility from sklearn that enables the model to handle multi-target classification.\n",
    "\n",
    "Why it's needed:\n",
    "XGBClassifier on its own can only handle single-target classification. MultiOutputClassifier manages the training process by creating a separate XGBClassifier for each target variable in y_train."
   ]
  },
  {
   "cell_type": "code",
   "execution_count": 27,
   "metadata": {
    "id": "Odsh7nThlh1o"
   },
   "outputs": [],
   "source": [
    "# Wrap with MultiOutputClassifier for multi-target classification\n",
    "multioutput_classifier = MultiOutputClassifier(xgb_classifier)"
   ]
  },
  {
   "cell_type": "markdown",
   "metadata": {
    "id": "xjjw-1-bllZU"
   },
   "source": [
    "Next, we must train the multioutput_classifier on the feature matrix X_train and the multi-target labels y_train.\n",
    "\n",
    "How it works:\n",
    "\n",
    "MultiOutputClassifier internally splits y_train into individual target columns.\n",
    "For each target column, it trains a separate instance of the XGBClassifier using the features from X_train."
   ]
  },
  {
   "cell_type": "code",
   "execution_count": 28,
   "metadata": {
    "id": "MZiJZynBloIz"
   },
   "outputs": [
    {
     "data": {
      "text/plain": [
       "MultiOutputClassifier(estimator=XGBClassifier(base_score=None, booster=None,\n",
       "                                              callbacks=None,\n",
       "                                              colsample_bylevel=None,\n",
       "                                              colsample_bynode=None,\n",
       "                                              colsample_bytree=None,\n",
       "                                              device=None,\n",
       "                                              early_stopping_rounds=None,\n",
       "                                              enable_categorical=False,\n",
       "                                              eval_metric=None,\n",
       "                                              feature_types=None, gamma=None,\n",
       "                                              grow_policy=None,\n",
       "                                              importance_type=None,\n",
       "                                              interaction_constraints=None,\n",
       "                                              learning_rate=0.1, max_bin=None,\n",
       "                                              max_cat_threshold=None,\n",
       "                                              max_cat_to_onehot=None,\n",
       "                                              max_delta_step=None, max_depth=5,\n",
       "                                              max_leaves=None,\n",
       "                                              min_child_weight=None,\n",
       "                                              missing=nan,\n",
       "                                              monotone_constraints=None,\n",
       "                                              multi_strategy=None,\n",
       "                                              n_estimators=100, n_jobs=None,\n",
       "                                              num_parallel_tree=None,\n",
       "                                              random_state=None, ...))"
      ]
     },
     "execution_count": 28,
     "metadata": {},
     "output_type": "execute_result"
    }
   ],
   "source": [
    "# Train the model\n",
    "multioutput_classifier.fit(X_train, Y_train)"
   ]
  },
  {
   "cell_type": "markdown",
   "metadata": {
    "id": "4NvVqJG4ltva"
   },
   "source": [
    "## Testing the Model\n",
    "\n",
    "Once we have a trained model we can start testing our model and making our predictions! We also preprocessed our testing data the same way we did our training data so we are all ready to use our test_df as our x_test dataframe in our trained model.\n",
    "\n",
    "Participant_id: we will remove this column because it is type category and not helpful in machine learning but we will store it in a variable to save it to concat back to our dataframe later before submitting your predicitions"
   ]
  },
  {
   "cell_type": "code",
   "execution_count": 30,
   "metadata": {
    "id": "t7Xs4_4Tlu-k",
    "scrolled": true
   },
   "outputs": [],
   "source": [
    "participant_id = test_df['participant_id']\n",
    "\n",
    "\n",
    "X_test = test_df.drop(columns = 'participant_id')\n",
    "\n",
    "y_pred = multioutput_classifier.predict(X_test)"
   ]
  },
  {
   "cell_type": "markdown",
   "metadata": {
    "id": "a-rqMdl7lxrr"
   },
   "source": [
    "Now we can create a dataframe of the participant ids that we stored and our predicted values"
   ]
  },
  {
   "cell_type": "code",
   "execution_count": 31,
   "metadata": {
    "id": "zEUzR3o8l0ZL"
   },
   "outputs": [
    {
     "name": "stdout",
     "output_type": "stream",
     "text": [
      "    participant_id  Predicted_Gender  Predicted_ADHD\n",
      "0     Cfwaf5FX7jWK                 0               0\n",
      "1     vhGrzmvA3Hjq                 1               0\n",
      "2     ULliyEXjy4OV                 1               0\n",
      "3     LZfeAb1xMtql                 0               0\n",
      "4     EnFOUv0YK1RG                 1               0\n",
      "..             ...               ...             ...\n",
      "299   UadZfjdEg7eG                 0               0\n",
      "300   IUEHiLmQAqCi                 1               1\n",
      "301   cRySmCadYFRO                 0               0\n",
      "302   E3MvDUtJadc5                 0               0\n",
      "303   dQJXfyRazknD                 1               0\n",
      "\n",
      "[304 rows x 3 columns]\n"
     ]
    }
   ],
   "source": [
    "# Convert predictions to a DataFrame\n",
    "predictions_df = pd.DataFrame(\n",
    "    y_pred,\n",
    "    columns=['Predicted_Gender', 'Predicted_ADHD']\n",
    ")\n",
    "\n",
    "# Combine participant IDs with predictions\n",
    "result_df = pd.concat([participant_id.reset_index(drop=True), predictions_df], axis=1)\n",
    "\n",
    "# Print or save the DataFrame\n",
    "print(result_df)"
   ]
  },
  {
   "cell_type": "markdown",
   "metadata": {
    "id": "Wsf-0dB7l2tn"
   },
   "source": [
    "Example of an expected result that you will submit to kaggle:"
   ]
  },
  {
   "cell_type": "markdown",
   "metadata": {
    "id": "tuppT34Tl5Gw"
   },
   "source": [
    "    participant_id  Predicted_Gender  Predicted_ADHD\n",
    "0     Cfwaf5FX7jWK                 0               0\n",
    "1     vhGrzmvA3Hjq                 1               0\n",
    "2     ULliyEXjy4OV                 1               0\n",
    "3     LZfeAb1xMtql                 0               0\n",
    "4     EnFOUv0YK1RG                 1               0\n",
    "..             ...               ...             ...\n",
    "299   UadZfjdEg7eG                 0               0\n",
    "300   IUEHiLmQAqCi                 1               1\n",
    "301   cRySmCadYFRO                 0               0\n",
    "302   E3MvDUtJadc5                 0               0\n",
    "303   dQJXfyRazknD                 1               0"
   ]
  },
  {
   "cell_type": "markdown",
   "metadata": {
    "id": "FgOOXIGbjJXM"
   },
   "source": [
    "### Evaluating Machine Learning Model - Cross Validation Score\n",
    "\n",
    "The cross-validation score is a metric used to evaluate the performance of a machine learning model by testing it on multiple subsets of the data. It provides an estimate of how well the model is likely to generalize to unseen data.\n",
    "\n",
    "How Cross-Validation Works:\n",
    "\n",
    "\n",
    "*   The dataset is divided into 𝑘 equally-sized subsets or folds.\n",
    "*   The model is trained on k - 1 folds (the training set) and evaluated on the remaining fold (the validation set)\n",
    "* This process is repeated k times, with each fold being used once as the validation set\n",
    "* The evaluation metric, we will use accuracy is computed for each iteration\n",
    "\n",
    "Why are we using cross-validation score:\n",
    "\n",
    "\n",
    "*  Since we don’t have the true labels for the test data, we cannot calculate the actual accuracy score. Cross-validation provides a reliable way to evaluate our model's performance using the training data without needing the test set answers.\n",
    "*  Cross-validation ensures that a model is evaluated on multiple subsets of the data"
   ]
  },
  {
   "cell_type": "markdown",
   "metadata": {
    "id": "w3q2hSz_mIyz"
   },
   "source": [
    "Import the necessary libraries: We will be using the sklearn library in python to perform cross validation"
   ]
  },
  {
   "cell_type": "code",
   "execution_count": 32,
   "metadata": {
    "id": "pIyfnFvjjSeV"
   },
   "outputs": [],
   "source": [
    "from sklearn.model_selection import cross_val_score\n",
    "from sklearn.metrics import make_scorer, accuracy_score"
   ]
  },
  {
   "cell_type": "markdown",
   "metadata": {
    "id": "BqUCPqLZmL7Y"
   },
   "source": [
    "Define a custom accuracy metric for multi-output classification, where each target variable (column) needs a separate accuracy calculation.\n",
    "\n",
    "This function will:\n",
    "\n",
    "\n",
    "*   Converts y_true and y_pred into NumPy arrays to enable indexing like `[:, i].`\n",
    "*   Iterates over each column (i.e., target variable) in y_true and y_pred.\n",
    "* Computes the accuracy score for each target variable using accuracy_score.\n",
    "* Returns the average accuracy across all target variables."
   ]
  },
  {
   "cell_type": "code",
   "execution_count": 33,
   "metadata": {
    "id": "wkdJIWevmOdj"
   },
   "outputs": [],
   "source": [
    "def multi_output_accuracy(y_true, y_pred):\n",
    "    # Ensure y_true and y_pred are NumPy arrays\n",
    "    y_true = np.array(y_true)\n",
    "    y_pred = np.array(y_pred)\n",
    "    # Compute accuracy for each target variable and return the mean\n",
    "    return np.mean([accuracy_score(y_true[:, i], y_pred[:, i]) for i in range(y_true.shape[1])])"
   ]
  },
  {
   "cell_type": "markdown",
   "metadata": {
    "id": "BdopgbCymQ3l"
   },
   "source": [
    "Then we will wrap the multi_output_accuracy function into a scorer object that can be used with scikit-learn's evaluation tools (e.g., cross_val_score). This will automatically create the `y_true` and `y_pred` being used in our function above."
   ]
  },
  {
   "cell_type": "code",
   "execution_count": 34,
   "metadata": {
    "id": "3RS-h740mTUg"
   },
   "outputs": [],
   "source": [
    "# Create a scorer using scikit-learn's make_scorer\n",
    "multi_output_scorer = make_scorer(multi_output_accuracy)"
   ]
  },
  {
   "cell_type": "markdown",
   "metadata": {
    "id": "5rKGRETymViR"
   },
   "source": [
    "Now we will actually perform cross validation with our multi-outcome machine learning model while using our X_train and Y_train dataframes.\n",
    "\n",
    "*   `cv=5`: Specifies 5-fold cross-validation so it will split X_train and Y_train into 5 subsets. Train the model on 4 folds and evaluates it on the remaining fold. Then, repeat this process 5 times, with each fold being used as the validation set once.\n",
    "*   `scoring = multi_output_scorer`: Uses the custom scoring function for evaluation."
   ]
  },
  {
   "cell_type": "code",
   "execution_count": 35,
   "metadata": {
    "id": "-EMhR1GDmX-R"
   },
   "outputs": [
    {
     "name": "stdout",
     "output_type": "stream",
     "text": [
      "Cross-validation scores for each fold: [0.82304527 0.78600823 0.69341564 0.64669421 0.33471074]\n",
      "Mean CV score: 0.6567748188960311\n"
     ]
    }
   ],
   "source": [
    "# Perform cross-validation on the training data\n",
    "cv_scores = cross_val_score(multioutput_classifier, X_train, Y_train, cv = 5, scoring = multi_output_scorer)\n",
    "\n",
    "# Output the cross-validation results\n",
    "print(\"Cross-validation scores for each fold:\", cv_scores)\n",
    "print(\"Mean CV score:\", np.mean(cv_scores))\n",
    "\n",
    "# Cross-validation scores for each fold: [0.82304527 0.78600823 0.69341564 0.64669421 0.33471074]\n",
    "# Mean CV score: 0.6567748188960311"
   ]
  },
  {
   "cell_type": "markdown",
   "metadata": {
    "id": "e2Of5KSemcYL"
   },
   "source": [
    "Notably, this CV score is not optimal, our model is not going to be extremely accurate without feature selection and engineering."
   ]
  },
  {
   "cell_type": "markdown",
   "metadata": {
    "id": "EJFJxUdejIQ8"
   },
   "source": [
    "## Logistic Regression for Feature Selection"
   ]
  },
  {
   "cell_type": "markdown",
   "metadata": {
    "id": "p2r_u3DOsLM5"
   },
   "source": [
    "**Recursive Feature Elimination (RFE)** is a feature selection technique that involves training a model on a subset of the features, and then iteratively removing the least important features one by one until we are left with the desired number of features."
   ]
  },
  {
   "cell_type": "markdown",
   "metadata": {
    "id": "tu2xof1-sQIO"
   },
   "source": [
    "To implement RFE in Python, we can use the RFE class from the `sklearn.feature_selection` module."
   ]
  },
  {
   "cell_type": "markdown",
   "metadata": {
    "id": "UgZWUjxNjWan"
   },
   "source": [
    "**Using coefficients:**\n",
    "- Fit a logistic regression model: Train a logistic regression model on your dataset.\n",
    "- **Extract coefficients:** Get the coefficients of the model. The absolute values of the coefficients indicate the importance of the corresponding features.\n",
    "- **Select top features:** Choose the features with the highest absolute coefficient values."
   ]
  },
  {
   "cell_type": "code",
   "execution_count": 36,
   "metadata": {
    "id": "JBXOJLgAjH-Z"
   },
   "outputs": [],
   "source": [
    "from sklearn.linear_model import LogisticRegression"
   ]
  },
  {
   "cell_type": "markdown",
   "metadata": {
    "id": "lO8yFEnJqhNw"
   },
   "source": [
    "**We will first look at Feature Selection with Sex as the target**"
   ]
  },
  {
   "cell_type": "code",
   "execution_count": 37,
   "metadata": {
    "id": "D0Ji8-ItiLjN"
   },
   "outputs": [
    {
     "name": "stderr",
     "output_type": "stream",
     "text": [
      "/Users/nicole/opt/anaconda3/lib/python3.9/site-packages/sklearn/linear_model/_logistic.py:814: ConvergenceWarning: lbfgs failed to converge (status=1):\n",
      "STOP: TOTAL NO. of ITERATIONS REACHED LIMIT.\n",
      "\n",
      "Increase the number of iterations (max_iter) or scale the data as shown in:\n",
      "    https://scikit-learn.org/stable/modules/preprocessing.html\n",
      "Please also refer to the documentation for alternative solver options:\n",
      "    https://scikit-learn.org/stable/modules/linear_model.html#logistic-regression\n",
      "  n_iter_i = _check_optimize_result(\n"
     ]
    },
    {
     "data": {
      "text/plain": [
       "LogisticRegression(max_iter=1000)"
      ]
     },
     "execution_count": 37,
     "metadata": {},
     "output_type": "execute_result"
    }
   ],
   "source": [
    "model = LogisticRegression(max_iter=1000)\n",
    "model.fit(train_df.drop(columns='participant_id'), train_Solutions['Sex_F'])"
   ]
  },
  {
   "cell_type": "code",
   "execution_count": 38,
   "metadata": {
    "id": "3Rgs2CEaqkxm"
   },
   "outputs": [],
   "source": [
    "# Get coefficients for Sex prediction\n",
    "coefficients = pd.Series(model.coef_[0], index=train_df.drop(columns='participant_id').columns)"
   ]
  },
  {
   "cell_type": "code",
   "execution_count": 39,
   "metadata": {
    "id": "EcF0akPqqmGw"
   },
   "outputs": [
    {
     "name": "stdout",
     "output_type": "stream",
     "text": [
      "52throw_53thcolumn          0.439377\n",
      "164throw_189thcolumn        0.432147\n",
      "50throw_53thcolumn          0.430498\n",
      "53throw_55thcolumn          0.427875\n",
      "121throw_147thcolumn        0.427391\n",
      "101throw_131thcolumn        0.422138\n",
      "114throw_121thcolumn        0.420825\n",
      "Barratt_Barratt_P1_Edu_9    0.413204\n",
      "160throw_190thcolumn        0.410106\n",
      "89throw_91thcolumn          0.399922\n",
      "dtype: float64\n"
     ]
    }
   ],
   "source": [
    "# Select top features for Sex prediction\n",
    "top_features = coefficients.abs().nlargest(10)\n",
    "print(top_features)"
   ]
  },
  {
   "cell_type": "code",
   "execution_count": 40,
   "metadata": {
    "id": "3-ash-bGQS9X"
   },
   "outputs": [
    {
     "data": {
      "image/png": "[encoded data removed]",
      "text/plain": [
       "<Figure size 1000x600 with 1 Axes>"
      ]
     },
     "metadata": {},
     "output_type": "display_data"
    }
   ],
   "source": [
    "#Plotting the top 10 coefficents for Sex Outcome\n",
    "plt.figure(figsize=(10,6))\n",
    "top_features.sort_values().plot(kind='barh', color='skyblue')\n",
    "plt.title('Top 10 Features for Sex Outcome')\n",
    "plt.ylabel('Features')\n",
    "plt.xlabel('Absolute Coefficient Value')\n",
    "plt.xticks(rotation=45, ha='right')\n",
    "plt.show()"
   ]
  },
  {
   "cell_type": "markdown",
   "metadata": {
    "id": "Og897fPlqozJ"
   },
   "source": [
    "**Now, we will look at Feature Selection with ADHD_Outcome as the target**"
   ]
  },
  {
   "cell_type": "code",
   "execution_count": 41,
   "metadata": {
    "id": "nSZF3LiFqpN9"
   },
   "outputs": [
    {
     "name": "stderr",
     "output_type": "stream",
     "text": [
      "/Users/nicole/opt/anaconda3/lib/python3.9/site-packages/sklearn/linear_model/_logistic.py:814: ConvergenceWarning: lbfgs failed to converge (status=1):\n",
      "STOP: TOTAL NO. of ITERATIONS REACHED LIMIT.\n",
      "\n",
      "Increase the number of iterations (max_iter) or scale the data as shown in:\n",
      "    https://scikit-learn.org/stable/modules/preprocessing.html\n",
      "Please also refer to the documentation for alternative solver options:\n",
      "    https://scikit-learn.org/stable/modules/linear_model.html#logistic-regression\n",
      "  n_iter_i = _check_optimize_result(\n"
     ]
    },
    {
     "data": {
      "text/plain": [
       "LogisticRegression(max_iter=1000)"
      ]
     },
     "execution_count": 41,
     "metadata": {},
     "output_type": "execute_result"
    }
   ],
   "source": [
    "model = LogisticRegression(max_iter=1000)\n",
    "model.fit(train_df.drop(columns='participant_id'), train_Solutions['ADHD_Outcome'])"
   ]
  },
  {
   "cell_type": "code",
   "execution_count": 42,
   "metadata": {
    "id": "lc_x4aikqqWV"
   },
   "outputs": [],
   "source": [
    "# Get coefficients for ADHD_Outcome prediction\n",
    "coefficients = pd.Series(model.coef_[0], index=train_df.drop(columns='participant_id').columns)"
   ]
  },
  {
   "cell_type": "code",
   "execution_count": 43,
   "metadata": {
    "id": "ELDgkPC7qrYO"
   },
   "outputs": [
    {
     "name": "stdout",
     "output_type": "stream",
     "text": [
      "Basic_Demos_Enroll_Year_2016          0.804691\n",
      "Barratt_Barratt_P1_Occ_25             0.538087\n",
      "PreInt_Demos_Fam_Child_Ethnicity_0    0.493907\n",
      "Basic_Demos_Enroll_Year_2018          0.480932\n",
      "SDQ_SDQ_Hyperactivity                 0.479454\n",
      "MRI_Track_Scan_Location_1             0.441710\n",
      "Basic_Demos_Enroll_Year_2017          0.437630\n",
      "MRI_Track_Scan_Location_3             0.436085\n",
      "8throw_96thcolumn                     0.410256\n",
      "Barratt_Barratt_P1_Occ_35             0.375724\n",
      "dtype: float64\n"
     ]
    }
   ],
   "source": [
    "# Select top features for ADHD_Outcome prediction\n",
    "top_features = coefficients.abs().nlargest(10)\n",
    "print(top_features)"
   ]
  },
  {
   "cell_type": "code",
   "execution_count": 44,
   "metadata": {
    "id": "t2SY2XZkQRJg"
   },
   "outputs": [
    {
     "data": {
      "image/png": "[encoded data removed]",
      "text/plain": [
       "<Figure size 1000x600 with 1 Axes>"
      ]
     },
     "metadata": {},
     "output_type": "display_data"
    }
   ],
   "source": [
    "#Plotting the top 10 coefficents\n",
    "plt.figure(figsize=(10,6))\n",
    "top_features.sort_values().plot(kind='barh', color='skyblue')\n",
    "plt.title('Top 10 Features for ADHD Outcome')\n",
    "plt.ylabel('Features')\n",
    "plt.xlabel('Absolute Coefficient Value')\n",
    "plt.xticks(rotation=45, ha='right')\n",
    "plt.show()"
   ]
  },
  {
   "cell_type": "markdown",
   "metadata": {
    "id": "ULBOlcy0qtdz"
   },
   "source": [
    "**Using L1 regularization:**\n",
    "- **Use L1 penalty**: Train a logistic regression model with L1 regularization. L1 regularization tends to shrink the coefficients of less important features to zero.\n",
    "- **Select non-zero features:** Choose the features with non-zero coefficients."
   ]
  },
  {
   "cell_type": "markdown",
   "metadata": {
    "id": "Bh1zed8xqv60"
   },
   "source": [
    "**We will first use L1 regularization with Sex as the target.**"
   ]
  },
  {
   "cell_type": "code",
   "execution_count": 45,
   "metadata": {
    "id": "j7P7IbLHquOx"
   },
   "outputs": [
    {
     "data": {
      "text/plain": [
       "LogisticRegression(penalty='l1', solver='liblinear')"
      ]
     },
     "execution_count": 45,
     "metadata": {},
     "output_type": "execute_result"
    }
   ],
   "source": [
    "model = LogisticRegression(penalty='l1', solver='liblinear')\n",
    "model.fit(train_df.drop(columns='participant_id'), train_Solutions['Sex_F'])"
   ]
  },
  {
   "cell_type": "code",
   "execution_count": 46,
   "metadata": {
    "id": "_XCIvVufqyhe"
   },
   "outputs": [
    {
     "name": "stdout",
     "output_type": "stream",
     "text": [
      "Index(['Basic_Demos_Enroll_Year_2017', 'Basic_Demos_Enroll_Year_2019',\n",
      "       'Basic_Demos_Study_Site_1', 'Basic_Demos_Study_Site_3',\n",
      "       'Basic_Demos_Study_Site_4', 'PreInt_Demos_Fam_Child_Ethnicity_0',\n",
      "       'PreInt_Demos_Fam_Child_Ethnicity_1', 'PreInt_Demos_Fam_Child_Race_0',\n",
      "       'PreInt_Demos_Fam_Child_Race_1', 'PreInt_Demos_Fam_Child_Race_8',\n",
      "       ...\n",
      "       'APQ_P_APQ_P_OPD', 'APQ_P_APQ_P_PM', 'APQ_P_APQ_P_PP',\n",
      "       'SDQ_SDQ_Emotional_Problems', 'SDQ_SDQ_Externalizing',\n",
      "       'SDQ_SDQ_Generating_Impact', 'SDQ_SDQ_Hyperactivity',\n",
      "       'SDQ_SDQ_Internalizing', 'SDQ_SDQ_Prosocial', 'MRI_Track_Age_at_Scan'],\n",
      "      dtype='object', length=415)\n"
     ]
    }
   ],
   "source": [
    "selected_features = train_df.drop(columns='participant_id').columns[model.coef_[0] != 0]\n",
    "print(selected_features)"
   ]
  },
  {
   "cell_type": "markdown",
   "metadata": {
    "id": "kB6tCkgqq03_"
   },
   "source": [
    "**We will now use L1 regularization with ADHD_Outcome as the target**"
   ]
  },
  {
   "cell_type": "code",
   "execution_count": 47,
   "metadata": {
    "id": "OepmrmRqq1c_"
   },
   "outputs": [
    {
     "data": {
      "text/plain": [
       "LogisticRegression(penalty='l1', solver='liblinear')"
      ]
     },
     "execution_count": 47,
     "metadata": {},
     "output_type": "execute_result"
    }
   ],
   "source": [
    "model = LogisticRegression(penalty='l1', solver='liblinear')\n",
    "model.fit(train_df.drop(columns='participant_id'), train_Solutions['ADHD_Outcome'])"
   ]
  },
  {
   "cell_type": "code",
   "execution_count": 48,
   "metadata": {
    "id": "oZGDu47Sq2fZ"
   },
   "outputs": [
    {
     "name": "stdout",
     "output_type": "stream",
     "text": [
      "Index(['Basic_Demos_Enroll_Year_2016', 'Basic_Demos_Enroll_Year_2017',\n",
      "       'Basic_Demos_Study_Site_3', 'Basic_Demos_Study_Site_4',\n",
      "       'PreInt_Demos_Fam_Child_Ethnicity_0',\n",
      "       'PreInt_Demos_Fam_Child_Ethnicity_1', 'PreInt_Demos_Fam_Child_Race_1',\n",
      "       'PreInt_Demos_Fam_Child_Race_8', 'MRI_Track_Scan_Location_1',\n",
      "       'MRI_Track_Scan_Location_3',\n",
      "       ...\n",
      "       'APQ_P_APQ_P_PM', 'APQ_P_APQ_P_PP', 'SDQ_SDQ_Difficulties_Total',\n",
      "       'SDQ_SDQ_Emotional_Problems', 'SDQ_SDQ_Externalizing',\n",
      "       'SDQ_SDQ_Generating_Impact', 'SDQ_SDQ_Hyperactivity',\n",
      "       'SDQ_SDQ_Peer_Problems', 'SDQ_SDQ_Prosocial', 'MRI_Track_Age_at_Scan'],\n",
      "      dtype='object', length=262)\n"
     ]
    }
   ],
   "source": [
    "selected_features = train_df.drop(columns='participant_id').columns[model.coef_[0] != 0]\n",
    "print(selected_features)"
   ]
  },
  {
   "cell_type": "markdown",
   "metadata": {
    "id": "dSzKzEMW_8X5"
   },
   "source": [
    "## Row Selection and Reduction to Improve the Model"
   ]
  },
  {
   "cell_type": "code",
   "execution_count": null,
   "metadata": {
    "id": "lJZ2_c87ABLI"
   },
   "outputs": [],
   "source": []
  }
 ],
 "metadata": {
  "colab": {
   "collapsed_sections": [
    "fjPj9W2f3ygn",
    "wZAznwsu2RSe",
    "oRDNsCGc3uM8",
    "nKVPDyZMxPdk",
    "LSppCDmW-3Zh",
    "i-_B5B_c4COr",
    "FPh-Mow14yTg"
   ],
   "provenance": []
  },
  "kernelspec": {
   "display_name": "Python 3 (ipykernel)",
   "language": "python",
   "name": "python3"
  },
  "language_info": {
   "codemirror_mode": {
    "name": "ipython",
    "version": 3
   },
   "file_extension": ".py",
   "mimetype": "text/x-python",
   "name": "python",
   "nbconvert_exporter": "python",
   "pygments_lexer": "ipython3",
   "version": "3.9.13"
  }
 },
 "nbformat": 4,
 "nbformat_minor": 1
}
