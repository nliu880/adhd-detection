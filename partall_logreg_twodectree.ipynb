{
 "cells": [
  {
   "cell_type": "markdown",
   "id": "19a51ef0",
   "metadata": {},
   "source": [
    "- did logistic regression for sex and adhd separately\n",
    "- then ran two separate decision trees for them"
   ]
  },
  {
   "cell_type": "code",
   "execution_count": 35,
   "id": "68a3ecee",
   "metadata": {},
   "outputs": [],
   "source": [
    "import numpy as np\n",
    "import pandas as pd\n",
    "import seaborn as sns\n",
    "\n",
    "import os\n",
    "import matplotlib.pyplot as plt\n",
    "\n",
    "import sklearn\n",
    "from sklearn.svm import SVC\n",
    "from sklearn.metrics import balanced_accuracy_score, roc_auc_score, accuracy_score, confusion_matrix, roc_curve\n",
    "from scipy.stats import zscore, pearsonr, uniform\n",
    "from sklearn.linear_model import Ridge\n",
    "from sklearn.model_selection import KFold, StratifiedKFold, RandomizedSearchCV\n",
    "\n",
    "from scipy.io import loadmat\n",
    "\n",
    "from sklearn.model_selection import train_test_split\n",
    "from sklearn.preprocessing import StandardScaler"
   ]
  },
  {
   "cell_type": "markdown",
   "id": "980616bd",
   "metadata": {},
   "source": [
    "## Load in data"
   ]
  },
  {
   "cell_type": "code",
   "execution_count": 36,
   "id": "9c022c9d",
   "metadata": {},
   "outputs": [],
   "source": [
    "file_path_trainC = \"widsdatathon2025/TRAIN/TRAIN_CATEGORICAL_METADATA.csv\"\n",
    "train_cat = pd.read_csv(file_path_trainC)\n",
    "\n",
    "file_path_trainFCM = \"widsdatathon2025/TRAIN/TRAIN_FUNCTIONAL_CONNECTOME_MATRICES.csv\"\n",
    "train_FCM = pd.read_csv(file_path_trainFCM)\n",
    "\n",
    "file_path_trainQ = \"widsdatathon2025/TRAIN/TRAIN_QUANTITATIVE_METADATA.csv\"\n",
    "train_Quant = pd.read_csv(file_path_trainQ)\n",
    "\n",
    "file_path_trainS = \"widsdatathon2025/TRAIN/TRAINING_SOLUTIONS.csv\"\n",
    "train_Solutions = pd.read_csv(file_path_trainS)\n",
    "train_Solutions.drop(columns = ['Unnamed: 3', 'Unnamed: 4'], inplace = True)"
   ]
  },
  {
   "cell_type": "code",
   "execution_count": 37,
   "id": "763d8143",
   "metadata": {},
   "outputs": [],
   "source": [
    "file_path_testC = \"widsdatathon2025/TEST/TEST_CATEGORICAL.xlsx\"\n",
    "test_cat = pd.read_excel(file_path_testC)\n",
    "\n",
    "file_path_testFCM = \"widsdatathon2025/TEST/TEST_FUNCTIONAL_CONNECTOME_MATRICES.csv\"\n",
    "test_FCM = pd.read_csv(file_path_testFCM)\n",
    "\n",
    "file_path_testQ = \"widsdatathon2025/TEST/TEST_QUANTITATIVE_METADATA.xlsx\"\n",
    "test_Quant = pd.read_excel(file_path_testQ)"
   ]
  },
  {
   "cell_type": "markdown",
   "id": "69f22f66",
   "metadata": {},
   "source": [
    "## Combine train and test categorical data sets in order to get summative one hot encoding"
   ]
  },
  {
   "cell_type": "code",
   "execution_count": 38,
   "id": "2201471b",
   "metadata": {},
   "outputs": [],
   "source": [
    "train_cat = train_cat.drop(columns = 'Basic_Demos_Enroll_Year')"
   ]
  },
  {
   "cell_type": "code",
   "execution_count": 39,
   "id": "173440ea",
   "metadata": {
    "scrolled": true
   },
   "outputs": [
    {
     "data": {
      "text/plain": [
       "Index(['participant_id', 'Basic_Demos_Study_Site',\n",
       "       'PreInt_Demos_Fam_Child_Ethnicity', 'PreInt_Demos_Fam_Child_Race',\n",
       "       'MRI_Track_Scan_Location', 'Barratt_Barratt_P1_Edu',\n",
       "       'Barratt_Barratt_P1_Occ', 'Barratt_Barratt_P2_Edu',\n",
       "       'Barratt_Barratt_P2_Occ'],\n",
       "      dtype='object')"
      ]
     },
     "execution_count": 39,
     "metadata": {},
     "output_type": "execute_result"
    }
   ],
   "source": [
    "train_cat.columns"
   ]
  },
  {
   "cell_type": "code",
   "execution_count": 40,
   "id": "6fae37b9",
   "metadata": {},
   "outputs": [
    {
     "data": {
      "text/html": [
       "<div>\n",
       "<style scoped>\n",
       "    .dataframe tbody tr th:only-of-type {\n",
       "        vertical-align: middle;\n",
       "    }\n",
       "\n",
       "    .dataframe tbody tr th {\n",
       "        vertical-align: top;\n",
       "    }\n",
       "\n",
       "    .dataframe thead th {\n",
       "        text-align: right;\n",
       "    }\n",
       "</style>\n",
       "<table border=\"1\" class=\"dataframe\">\n",
       "  <thead>\n",
       "    <tr style=\"text-align: right;\">\n",
       "      <th></th>\n",
       "      <th>participant_id</th>\n",
       "      <th>Basic_Demos_Study_Site_1</th>\n",
       "      <th>Basic_Demos_Study_Site_2</th>\n",
       "      <th>Basic_Demos_Study_Site_3</th>\n",
       "      <th>Basic_Demos_Study_Site_4</th>\n",
       "      <th>Basic_Demos_Study_Site_5</th>\n",
       "      <th>PreInt_Demos_Fam_Child_Ethnicity_0</th>\n",
       "      <th>PreInt_Demos_Fam_Child_Ethnicity_1</th>\n",
       "      <th>PreInt_Demos_Fam_Child_Ethnicity_2</th>\n",
       "      <th>PreInt_Demos_Fam_Child_Ethnicity_3</th>\n",
       "      <th>...</th>\n",
       "      <th>Barratt_Barratt_P2_Occ_25</th>\n",
       "      <th>Barratt_Barratt_P2_Occ_30</th>\n",
       "      <th>Barratt_Barratt_P2_Occ_35</th>\n",
       "      <th>Barratt_Barratt_P2_Occ_40</th>\n",
       "      <th>Barratt_Barratt_P2_Occ_45</th>\n",
       "      <th>Basic_Demos_Enroll_Year_2019</th>\n",
       "      <th>Basic_Demos_Enroll_Year_2020</th>\n",
       "      <th>Basic_Demos_Enroll_Year_2021</th>\n",
       "      <th>Basic_Demos_Enroll_Year_2022</th>\n",
       "      <th>Basic_Demos_Enroll_Year_2023</th>\n",
       "    </tr>\n",
       "  </thead>\n",
       "  <tbody>\n",
       "    <tr>\n",
       "      <th>0</th>\n",
       "      <td>UmrK0vMLopoR</td>\n",
       "      <td>1</td>\n",
       "      <td>0</td>\n",
       "      <td>0</td>\n",
       "      <td>0</td>\n",
       "      <td>0</td>\n",
       "      <td>1</td>\n",
       "      <td>0</td>\n",
       "      <td>0</td>\n",
       "      <td>0</td>\n",
       "      <td>...</td>\n",
       "      <td>0</td>\n",
       "      <td>0</td>\n",
       "      <td>0</td>\n",
       "      <td>0</td>\n",
       "      <td>1</td>\n",
       "      <td>0</td>\n",
       "      <td>0</td>\n",
       "      <td>0</td>\n",
       "      <td>0</td>\n",
       "      <td>0</td>\n",
       "    </tr>\n",
       "    <tr>\n",
       "      <th>1</th>\n",
       "      <td>CPaeQkhcjg7d</td>\n",
       "      <td>0</td>\n",
       "      <td>0</td>\n",
       "      <td>1</td>\n",
       "      <td>0</td>\n",
       "      <td>0</td>\n",
       "      <td>0</td>\n",
       "      <td>1</td>\n",
       "      <td>0</td>\n",
       "      <td>0</td>\n",
       "      <td>...</td>\n",
       "      <td>0</td>\n",
       "      <td>0</td>\n",
       "      <td>0</td>\n",
       "      <td>0</td>\n",
       "      <td>0</td>\n",
       "      <td>0</td>\n",
       "      <td>0</td>\n",
       "      <td>0</td>\n",
       "      <td>0</td>\n",
       "      <td>0</td>\n",
       "    </tr>\n",
       "    <tr>\n",
       "      <th>2</th>\n",
       "      <td>Nb4EetVPm3gs</td>\n",
       "      <td>1</td>\n",
       "      <td>0</td>\n",
       "      <td>0</td>\n",
       "      <td>0</td>\n",
       "      <td>0</td>\n",
       "      <td>0</td>\n",
       "      <td>1</td>\n",
       "      <td>0</td>\n",
       "      <td>0</td>\n",
       "      <td>...</td>\n",
       "      <td>0</td>\n",
       "      <td>0</td>\n",
       "      <td>0</td>\n",
       "      <td>0</td>\n",
       "      <td>0</td>\n",
       "      <td>0</td>\n",
       "      <td>0</td>\n",
       "      <td>0</td>\n",
       "      <td>0</td>\n",
       "      <td>0</td>\n",
       "    </tr>\n",
       "    <tr>\n",
       "      <th>3</th>\n",
       "      <td>p4vPhVu91o4b</td>\n",
       "      <td>0</td>\n",
       "      <td>0</td>\n",
       "      <td>1</td>\n",
       "      <td>0</td>\n",
       "      <td>0</td>\n",
       "      <td>1</td>\n",
       "      <td>0</td>\n",
       "      <td>0</td>\n",
       "      <td>0</td>\n",
       "      <td>...</td>\n",
       "      <td>0</td>\n",
       "      <td>0</td>\n",
       "      <td>0</td>\n",
       "      <td>0</td>\n",
       "      <td>0</td>\n",
       "      <td>0</td>\n",
       "      <td>0</td>\n",
       "      <td>0</td>\n",
       "      <td>0</td>\n",
       "      <td>0</td>\n",
       "    </tr>\n",
       "    <tr>\n",
       "      <th>4</th>\n",
       "      <td>M09PXs7arQ5E</td>\n",
       "      <td>0</td>\n",
       "      <td>0</td>\n",
       "      <td>1</td>\n",
       "      <td>0</td>\n",
       "      <td>0</td>\n",
       "      <td>1</td>\n",
       "      <td>0</td>\n",
       "      <td>0</td>\n",
       "      <td>0</td>\n",
       "      <td>...</td>\n",
       "      <td>0</td>\n",
       "      <td>0</td>\n",
       "      <td>0</td>\n",
       "      <td>0</td>\n",
       "      <td>0</td>\n",
       "      <td>0</td>\n",
       "      <td>0</td>\n",
       "      <td>0</td>\n",
       "      <td>0</td>\n",
       "      <td>0</td>\n",
       "    </tr>\n",
       "  </tbody>\n",
       "</table>\n",
       "<p>5 rows × 66 columns</p>\n",
       "</div>"
      ],
      "text/plain": [
       "  participant_id  Basic_Demos_Study_Site_1  Basic_Demos_Study_Site_2  \\\n",
       "0   UmrK0vMLopoR                         1                         0   \n",
       "1   CPaeQkhcjg7d                         0                         0   \n",
       "2   Nb4EetVPm3gs                         1                         0   \n",
       "3   p4vPhVu91o4b                         0                         0   \n",
       "4   M09PXs7arQ5E                         0                         0   \n",
       "\n",
       "   Basic_Demos_Study_Site_3  Basic_Demos_Study_Site_4  \\\n",
       "0                         0                         0   \n",
       "1                         1                         0   \n",
       "2                         0                         0   \n",
       "3                         1                         0   \n",
       "4                         1                         0   \n",
       "\n",
       "   Basic_Demos_Study_Site_5  PreInt_Demos_Fam_Child_Ethnicity_0  \\\n",
       "0                         0                                   1   \n",
       "1                         0                                   0   \n",
       "2                         0                                   0   \n",
       "3                         0                                   1   \n",
       "4                         0                                   1   \n",
       "\n",
       "   PreInt_Demos_Fam_Child_Ethnicity_1  PreInt_Demos_Fam_Child_Ethnicity_2  \\\n",
       "0                                   0                                   0   \n",
       "1                                   1                                   0   \n",
       "2                                   1                                   0   \n",
       "3                                   0                                   0   \n",
       "4                                   0                                   0   \n",
       "\n",
       "   PreInt_Demos_Fam_Child_Ethnicity_3  ...  Barratt_Barratt_P2_Occ_25  \\\n",
       "0                                   0  ...                          0   \n",
       "1                                   0  ...                          0   \n",
       "2                                   0  ...                          0   \n",
       "3                                   0  ...                          0   \n",
       "4                                   0  ...                          0   \n",
       "\n",
       "   Barratt_Barratt_P2_Occ_30  Barratt_Barratt_P2_Occ_35  \\\n",
       "0                          0                          0   \n",
       "1                          0                          0   \n",
       "2                          0                          0   \n",
       "3                          0                          0   \n",
       "4                          0                          0   \n",
       "\n",
       "   Barratt_Barratt_P2_Occ_40  Barratt_Barratt_P2_Occ_45  \\\n",
       "0                          0                          1   \n",
       "1                          0                          0   \n",
       "2                          0                          0   \n",
       "3                          0                          0   \n",
       "4                          0                          0   \n",
       "\n",
       "   Basic_Demos_Enroll_Year_2019  Basic_Demos_Enroll_Year_2020  \\\n",
       "0                             0                             0   \n",
       "1                             0                             0   \n",
       "2                             0                             0   \n",
       "3                             0                             0   \n",
       "4                             0                             0   \n",
       "\n",
       "   Basic_Demos_Enroll_Year_2021  Basic_Demos_Enroll_Year_2022  \\\n",
       "0                             0                             0   \n",
       "1                             0                             0   \n",
       "2                             0                             0   \n",
       "3                             0                             0   \n",
       "4                             0                             0   \n",
       "\n",
       "   Basic_Demos_Enroll_Year_2023  \n",
       "0                             0  \n",
       "1                             0  \n",
       "2                             0  \n",
       "3                             0  \n",
       "4                             0  \n",
       "\n",
       "[5 rows x 66 columns]"
      ]
     },
     "execution_count": 40,
     "metadata": {},
     "output_type": "execute_result"
    }
   ],
   "source": [
    "train_shape = train_cat.shape\n",
    "\n",
    "for col in train_cat.select_dtypes(include = 'number').columns:\n",
    "    train_cat[col] = train_cat[col].astype('Int64')\n",
    "    train_cat[col] = train_cat[col].astype('category')\n",
    "    \n",
    "for col in test_cat.select_dtypes(include = 'number').columns:\n",
    "    test_cat[col] = test_cat[col].astype('Int64')\n",
    "    test_cat[col] = test_cat[col].astype('category')\n",
    "    \n",
    "cat_train_test = pd.concat([train_cat, test_cat], axis = 0).reset_index(drop = True)\n",
    "columns_to_encode = cat_train_test.columns[1:].tolist()\n",
    "cat_train_test_final = cat_train_test.drop(columns = columns_to_encode)\n",
    "\n",
    "for col in cat_train_test.columns[1:]:\n",
    "    encoded = pd.get_dummies(cat_train_test[col], prefix = col)\n",
    "    cat_train_test_final = pd.concat([cat_train_test_final, encoded], axis = 1)\n",
    "\n",
    "cat_train_test_final.head()"
   ]
  },
  {
   "cell_type": "markdown",
   "id": "276ef11e",
   "metadata": {},
   "source": [
    "### Combine for logistic regression- sex"
   ]
  },
  {
   "cell_type": "code",
   "execution_count": 41,
   "id": "a060ed85",
   "metadata": {},
   "outputs": [],
   "source": [
    "cat_train_final = cat_train_test_final.iloc[0:train_shape[0]]\n",
    "cat_test_final = cat_train_test_final.iloc[train_shape[0]:]"
   ]
  },
  {
   "cell_type": "code",
   "execution_count": 42,
   "id": "a38c4bf5",
   "metadata": {},
   "outputs": [
    {
     "name": "stdout",
     "output_type": "stream",
     "text": [
      "(1213, 19984)\n"
     ]
    },
    {
     "data": {
      "text/html": [
       "<div>\n",
       "<style scoped>\n",
       "    .dataframe tbody tr th:only-of-type {\n",
       "        vertical-align: middle;\n",
       "    }\n",
       "\n",
       "    .dataframe tbody tr th {\n",
       "        vertical-align: top;\n",
       "    }\n",
       "\n",
       "    .dataframe thead th {\n",
       "        text-align: right;\n",
       "    }\n",
       "</style>\n",
       "<table border=\"1\" class=\"dataframe\">\n",
       "  <thead>\n",
       "    <tr style=\"text-align: right;\">\n",
       "      <th></th>\n",
       "      <th>participant_id</th>\n",
       "      <th>Basic_Demos_Study_Site_1</th>\n",
       "      <th>Basic_Demos_Study_Site_2</th>\n",
       "      <th>Basic_Demos_Study_Site_3</th>\n",
       "      <th>Basic_Demos_Study_Site_4</th>\n",
       "      <th>Basic_Demos_Study_Site_5</th>\n",
       "      <th>PreInt_Demos_Fam_Child_Ethnicity_0</th>\n",
       "      <th>PreInt_Demos_Fam_Child_Ethnicity_1</th>\n",
       "      <th>PreInt_Demos_Fam_Child_Ethnicity_2</th>\n",
       "      <th>PreInt_Demos_Fam_Child_Ethnicity_3</th>\n",
       "      <th>...</th>\n",
       "      <th>SDQ_SDQ_Conduct_Problems</th>\n",
       "      <th>SDQ_SDQ_Difficulties_Total</th>\n",
       "      <th>SDQ_SDQ_Emotional_Problems</th>\n",
       "      <th>SDQ_SDQ_Externalizing</th>\n",
       "      <th>SDQ_SDQ_Generating_Impact</th>\n",
       "      <th>SDQ_SDQ_Hyperactivity</th>\n",
       "      <th>SDQ_SDQ_Internalizing</th>\n",
       "      <th>SDQ_SDQ_Peer_Problems</th>\n",
       "      <th>SDQ_SDQ_Prosocial</th>\n",
       "      <th>MRI_Track_Age_at_Scan</th>\n",
       "    </tr>\n",
       "  </thead>\n",
       "  <tbody>\n",
       "    <tr>\n",
       "      <th>0</th>\n",
       "      <td>UmrK0vMLopoR</td>\n",
       "      <td>1</td>\n",
       "      <td>0</td>\n",
       "      <td>0</td>\n",
       "      <td>0</td>\n",
       "      <td>0</td>\n",
       "      <td>1</td>\n",
       "      <td>0</td>\n",
       "      <td>0</td>\n",
       "      <td>0</td>\n",
       "      <td>...</td>\n",
       "      <td>0</td>\n",
       "      <td>6</td>\n",
       "      <td>1</td>\n",
       "      <td>5</td>\n",
       "      <td>0</td>\n",
       "      <td>5</td>\n",
       "      <td>1</td>\n",
       "      <td>0</td>\n",
       "      <td>10</td>\n",
       "      <td>NaN</td>\n",
       "    </tr>\n",
       "    <tr>\n",
       "      <th>1</th>\n",
       "      <td>CPaeQkhcjg7d</td>\n",
       "      <td>0</td>\n",
       "      <td>0</td>\n",
       "      <td>1</td>\n",
       "      <td>0</td>\n",
       "      <td>0</td>\n",
       "      <td>0</td>\n",
       "      <td>1</td>\n",
       "      <td>0</td>\n",
       "      <td>0</td>\n",
       "      <td>...</td>\n",
       "      <td>0</td>\n",
       "      <td>18</td>\n",
       "      <td>6</td>\n",
       "      <td>8</td>\n",
       "      <td>7</td>\n",
       "      <td>8</td>\n",
       "      <td>10</td>\n",
       "      <td>4</td>\n",
       "      <td>5</td>\n",
       "      <td>NaN</td>\n",
       "    </tr>\n",
       "    <tr>\n",
       "      <th>2</th>\n",
       "      <td>Nb4EetVPm3gs</td>\n",
       "      <td>1</td>\n",
       "      <td>0</td>\n",
       "      <td>0</td>\n",
       "      <td>0</td>\n",
       "      <td>0</td>\n",
       "      <td>0</td>\n",
       "      <td>1</td>\n",
       "      <td>0</td>\n",
       "      <td>0</td>\n",
       "      <td>...</td>\n",
       "      <td>1</td>\n",
       "      <td>14</td>\n",
       "      <td>2</td>\n",
       "      <td>8</td>\n",
       "      <td>5</td>\n",
       "      <td>7</td>\n",
       "      <td>6</td>\n",
       "      <td>4</td>\n",
       "      <td>9</td>\n",
       "      <td>8.239904</td>\n",
       "    </tr>\n",
       "    <tr>\n",
       "      <th>3</th>\n",
       "      <td>p4vPhVu91o4b</td>\n",
       "      <td>0</td>\n",
       "      <td>0</td>\n",
       "      <td>1</td>\n",
       "      <td>0</td>\n",
       "      <td>0</td>\n",
       "      <td>1</td>\n",
       "      <td>0</td>\n",
       "      <td>0</td>\n",
       "      <td>0</td>\n",
       "      <td>...</td>\n",
       "      <td>6</td>\n",
       "      <td>24</td>\n",
       "      <td>4</td>\n",
       "      <td>16</td>\n",
       "      <td>9</td>\n",
       "      <td>10</td>\n",
       "      <td>8</td>\n",
       "      <td>4</td>\n",
       "      <td>6</td>\n",
       "      <td>NaN</td>\n",
       "    </tr>\n",
       "    <tr>\n",
       "      <th>4</th>\n",
       "      <td>M09PXs7arQ5E</td>\n",
       "      <td>0</td>\n",
       "      <td>0</td>\n",
       "      <td>1</td>\n",
       "      <td>0</td>\n",
       "      <td>0</td>\n",
       "      <td>1</td>\n",
       "      <td>0</td>\n",
       "      <td>0</td>\n",
       "      <td>0</td>\n",
       "      <td>...</td>\n",
       "      <td>1</td>\n",
       "      <td>18</td>\n",
       "      <td>4</td>\n",
       "      <td>11</td>\n",
       "      <td>4</td>\n",
       "      <td>10</td>\n",
       "      <td>7</td>\n",
       "      <td>3</td>\n",
       "      <td>9</td>\n",
       "      <td>8.940679</td>\n",
       "    </tr>\n",
       "  </tbody>\n",
       "</table>\n",
       "<p>5 rows × 19984 columns</p>\n",
       "</div>"
      ],
      "text/plain": [
       "  participant_id  Basic_Demos_Study_Site_1  Basic_Demos_Study_Site_2  \\\n",
       "0   UmrK0vMLopoR                         1                         0   \n",
       "1   CPaeQkhcjg7d                         0                         0   \n",
       "2   Nb4EetVPm3gs                         1                         0   \n",
       "3   p4vPhVu91o4b                         0                         0   \n",
       "4   M09PXs7arQ5E                         0                         0   \n",
       "\n",
       "   Basic_Demos_Study_Site_3  Basic_Demos_Study_Site_4  \\\n",
       "0                         0                         0   \n",
       "1                         1                         0   \n",
       "2                         0                         0   \n",
       "3                         1                         0   \n",
       "4                         1                         0   \n",
       "\n",
       "   Basic_Demos_Study_Site_5  PreInt_Demos_Fam_Child_Ethnicity_0  \\\n",
       "0                         0                                   1   \n",
       "1                         0                                   0   \n",
       "2                         0                                   0   \n",
       "3                         0                                   1   \n",
       "4                         0                                   1   \n",
       "\n",
       "   PreInt_Demos_Fam_Child_Ethnicity_1  PreInt_Demos_Fam_Child_Ethnicity_2  \\\n",
       "0                                   0                                   0   \n",
       "1                                   1                                   0   \n",
       "2                                   1                                   0   \n",
       "3                                   0                                   0   \n",
       "4                                   0                                   0   \n",
       "\n",
       "   PreInt_Demos_Fam_Child_Ethnicity_3  ...  SDQ_SDQ_Conduct_Problems  \\\n",
       "0                                   0  ...                         0   \n",
       "1                                   0  ...                         0   \n",
       "2                                   0  ...                         1   \n",
       "3                                   0  ...                         6   \n",
       "4                                   0  ...                         1   \n",
       "\n",
       "   SDQ_SDQ_Difficulties_Total  SDQ_SDQ_Emotional_Problems  \\\n",
       "0                           6                           1   \n",
       "1                          18                           6   \n",
       "2                          14                           2   \n",
       "3                          24                           4   \n",
       "4                          18                           4   \n",
       "\n",
       "   SDQ_SDQ_Externalizing  SDQ_SDQ_Generating_Impact  SDQ_SDQ_Hyperactivity  \\\n",
       "0                      5                          0                      5   \n",
       "1                      8                          7                      8   \n",
       "2                      8                          5                      7   \n",
       "3                     16                          9                     10   \n",
       "4                     11                          4                     10   \n",
       "\n",
       "   SDQ_SDQ_Internalizing  SDQ_SDQ_Peer_Problems  SDQ_SDQ_Prosocial  \\\n",
       "0                      1                      0                 10   \n",
       "1                     10                      4                  5   \n",
       "2                      6                      4                  9   \n",
       "3                      8                      4                  6   \n",
       "4                      7                      3                  9   \n",
       "\n",
       "   MRI_Track_Age_at_Scan  \n",
       "0                    NaN  \n",
       "1                    NaN  \n",
       "2               8.239904  \n",
       "3                    NaN  \n",
       "4               8.940679  \n",
       "\n",
       "[5 rows x 19984 columns]"
      ]
     },
     "execution_count": 42,
     "metadata": {},
     "output_type": "execute_result"
    }
   ],
   "source": [
    "logreg_sex = pd.merge(train_FCM, train_Quant, on = 'participant_id')\n",
    "train_df = pd.merge(cat_train_final, logreg_sex, on = 'participant_id')\n",
    "\n",
    "# ensure it looks accurate\n",
    "print(train_df.shape)\n",
    "train_df.head()"
   ]
  },
  {
   "cell_type": "code",
   "execution_count": 43,
   "id": "a67d021e",
   "metadata": {},
   "outputs": [
    {
     "name": "stdout",
     "output_type": "stream",
     "text": [
      "(304, 19984)\n"
     ]
    },
    {
     "data": {
      "text/html": [
       "<div>\n",
       "<style scoped>\n",
       "    .dataframe tbody tr th:only-of-type {\n",
       "        vertical-align: middle;\n",
       "    }\n",
       "\n",
       "    .dataframe tbody tr th {\n",
       "        vertical-align: top;\n",
       "    }\n",
       "\n",
       "    .dataframe thead th {\n",
       "        text-align: right;\n",
       "    }\n",
       "</style>\n",
       "<table border=\"1\" class=\"dataframe\">\n",
       "  <thead>\n",
       "    <tr style=\"text-align: right;\">\n",
       "      <th></th>\n",
       "      <th>participant_id</th>\n",
       "      <th>Basic_Demos_Study_Site_1</th>\n",
       "      <th>Basic_Demos_Study_Site_2</th>\n",
       "      <th>Basic_Demos_Study_Site_3</th>\n",
       "      <th>Basic_Demos_Study_Site_4</th>\n",
       "      <th>Basic_Demos_Study_Site_5</th>\n",
       "      <th>PreInt_Demos_Fam_Child_Ethnicity_0</th>\n",
       "      <th>PreInt_Demos_Fam_Child_Ethnicity_1</th>\n",
       "      <th>PreInt_Demos_Fam_Child_Ethnicity_2</th>\n",
       "      <th>PreInt_Demos_Fam_Child_Ethnicity_3</th>\n",
       "      <th>...</th>\n",
       "      <th>SDQ_SDQ_Conduct_Problems</th>\n",
       "      <th>SDQ_SDQ_Difficulties_Total</th>\n",
       "      <th>SDQ_SDQ_Emotional_Problems</th>\n",
       "      <th>SDQ_SDQ_Externalizing</th>\n",
       "      <th>SDQ_SDQ_Generating_Impact</th>\n",
       "      <th>SDQ_SDQ_Hyperactivity</th>\n",
       "      <th>SDQ_SDQ_Internalizing</th>\n",
       "      <th>SDQ_SDQ_Peer_Problems</th>\n",
       "      <th>SDQ_SDQ_Prosocial</th>\n",
       "      <th>MRI_Track_Age_at_Scan</th>\n",
       "    </tr>\n",
       "  </thead>\n",
       "  <tbody>\n",
       "    <tr>\n",
       "      <th>0</th>\n",
       "      <td>Cfwaf5FX7jWK</td>\n",
       "      <td>0</td>\n",
       "      <td>0</td>\n",
       "      <td>0</td>\n",
       "      <td>1</td>\n",
       "      <td>0</td>\n",
       "      <td>1</td>\n",
       "      <td>0</td>\n",
       "      <td>0</td>\n",
       "      <td>0</td>\n",
       "      <td>...</td>\n",
       "      <td>2.0</td>\n",
       "      <td>12.0</td>\n",
       "      <td>3.0</td>\n",
       "      <td>9.0</td>\n",
       "      <td>2.0</td>\n",
       "      <td>7.0</td>\n",
       "      <td>3.0</td>\n",
       "      <td>0.0</td>\n",
       "      <td>8.0</td>\n",
       "      <td>8.992813</td>\n",
       "    </tr>\n",
       "    <tr>\n",
       "      <th>1</th>\n",
       "      <td>vhGrzmvA3Hjq</td>\n",
       "      <td>0</td>\n",
       "      <td>0</td>\n",
       "      <td>0</td>\n",
       "      <td>1</td>\n",
       "      <td>0</td>\n",
       "      <td>1</td>\n",
       "      <td>0</td>\n",
       "      <td>0</td>\n",
       "      <td>0</td>\n",
       "      <td>...</td>\n",
       "      <td>2.0</td>\n",
       "      <td>16.0</td>\n",
       "      <td>8.0</td>\n",
       "      <td>5.0</td>\n",
       "      <td>7.0</td>\n",
       "      <td>3.0</td>\n",
       "      <td>11.0</td>\n",
       "      <td>3.0</td>\n",
       "      <td>9.0</td>\n",
       "      <td>12.324093</td>\n",
       "    </tr>\n",
       "    <tr>\n",
       "      <th>2</th>\n",
       "      <td>ULliyEXjy4OV</td>\n",
       "      <td>0</td>\n",
       "      <td>0</td>\n",
       "      <td>0</td>\n",
       "      <td>1</td>\n",
       "      <td>0</td>\n",
       "      <td>1</td>\n",
       "      <td>0</td>\n",
       "      <td>0</td>\n",
       "      <td>0</td>\n",
       "      <td>...</td>\n",
       "      <td>1.0</td>\n",
       "      <td>7.0</td>\n",
       "      <td>1.0</td>\n",
       "      <td>6.0</td>\n",
       "      <td>1.0</td>\n",
       "      <td>5.0</td>\n",
       "      <td>1.0</td>\n",
       "      <td>0.0</td>\n",
       "      <td>9.0</td>\n",
       "      <td>7.770933</td>\n",
       "    </tr>\n",
       "    <tr>\n",
       "      <th>3</th>\n",
       "      <td>LZfeAb1xMtql</td>\n",
       "      <td>0</td>\n",
       "      <td>0</td>\n",
       "      <td>0</td>\n",
       "      <td>1</td>\n",
       "      <td>0</td>\n",
       "      <td>1</td>\n",
       "      <td>0</td>\n",
       "      <td>0</td>\n",
       "      <td>0</td>\n",
       "      <td>...</td>\n",
       "      <td>4.0</td>\n",
       "      <td>15.0</td>\n",
       "      <td>4.0</td>\n",
       "      <td>10.0</td>\n",
       "      <td>8.0</td>\n",
       "      <td>6.0</td>\n",
       "      <td>5.0</td>\n",
       "      <td>1.0</td>\n",
       "      <td>6.0</td>\n",
       "      <td>9.304814</td>\n",
       "    </tr>\n",
       "    <tr>\n",
       "      <th>4</th>\n",
       "      <td>EnFOUv0YK1RG</td>\n",
       "      <td>0</td>\n",
       "      <td>0</td>\n",
       "      <td>0</td>\n",
       "      <td>1</td>\n",
       "      <td>0</td>\n",
       "      <td>0</td>\n",
       "      <td>0</td>\n",
       "      <td>1</td>\n",
       "      <td>0</td>\n",
       "      <td>...</td>\n",
       "      <td>2.0</td>\n",
       "      <td>18.0</td>\n",
       "      <td>6.0</td>\n",
       "      <td>12.0</td>\n",
       "      <td>5.0</td>\n",
       "      <td>10.0</td>\n",
       "      <td>6.0</td>\n",
       "      <td>0.0</td>\n",
       "      <td>10.0</td>\n",
       "      <td>8.261350</td>\n",
       "    </tr>\n",
       "  </tbody>\n",
       "</table>\n",
       "<p>5 rows × 19984 columns</p>\n",
       "</div>"
      ],
      "text/plain": [
       "  participant_id  Basic_Demos_Study_Site_1  Basic_Demos_Study_Site_2  \\\n",
       "0   Cfwaf5FX7jWK                         0                         0   \n",
       "1   vhGrzmvA3Hjq                         0                         0   \n",
       "2   ULliyEXjy4OV                         0                         0   \n",
       "3   LZfeAb1xMtql                         0                         0   \n",
       "4   EnFOUv0YK1RG                         0                         0   \n",
       "\n",
       "   Basic_Demos_Study_Site_3  Basic_Demos_Study_Site_4  \\\n",
       "0                         0                         1   \n",
       "1                         0                         1   \n",
       "2                         0                         1   \n",
       "3                         0                         1   \n",
       "4                         0                         1   \n",
       "\n",
       "   Basic_Demos_Study_Site_5  PreInt_Demos_Fam_Child_Ethnicity_0  \\\n",
       "0                         0                                   1   \n",
       "1                         0                                   1   \n",
       "2                         0                                   1   \n",
       "3                         0                                   1   \n",
       "4                         0                                   0   \n",
       "\n",
       "   PreInt_Demos_Fam_Child_Ethnicity_1  PreInt_Demos_Fam_Child_Ethnicity_2  \\\n",
       "0                                   0                                   0   \n",
       "1                                   0                                   0   \n",
       "2                                   0                                   0   \n",
       "3                                   0                                   0   \n",
       "4                                   0                                   1   \n",
       "\n",
       "   PreInt_Demos_Fam_Child_Ethnicity_3  ...  SDQ_SDQ_Conduct_Problems  \\\n",
       "0                                   0  ...                       2.0   \n",
       "1                                   0  ...                       2.0   \n",
       "2                                   0  ...                       1.0   \n",
       "3                                   0  ...                       4.0   \n",
       "4                                   0  ...                       2.0   \n",
       "\n",
       "   SDQ_SDQ_Difficulties_Total  SDQ_SDQ_Emotional_Problems  \\\n",
       "0                        12.0                         3.0   \n",
       "1                        16.0                         8.0   \n",
       "2                         7.0                         1.0   \n",
       "3                        15.0                         4.0   \n",
       "4                        18.0                         6.0   \n",
       "\n",
       "   SDQ_SDQ_Externalizing  SDQ_SDQ_Generating_Impact  SDQ_SDQ_Hyperactivity  \\\n",
       "0                    9.0                        2.0                    7.0   \n",
       "1                    5.0                        7.0                    3.0   \n",
       "2                    6.0                        1.0                    5.0   \n",
       "3                   10.0                        8.0                    6.0   \n",
       "4                   12.0                        5.0                   10.0   \n",
       "\n",
       "   SDQ_SDQ_Internalizing  SDQ_SDQ_Peer_Problems  SDQ_SDQ_Prosocial  \\\n",
       "0                    3.0                    0.0                8.0   \n",
       "1                   11.0                    3.0                9.0   \n",
       "2                    1.0                    0.0                9.0   \n",
       "3                    5.0                    1.0                6.0   \n",
       "4                    6.0                    0.0               10.0   \n",
       "\n",
       "   MRI_Track_Age_at_Scan  \n",
       "0               8.992813  \n",
       "1              12.324093  \n",
       "2               7.770933  \n",
       "3               9.304814  \n",
       "4               8.261350  \n",
       "\n",
       "[5 rows x 19984 columns]"
      ]
     },
     "execution_count": 43,
     "metadata": {},
     "output_type": "execute_result"
    }
   ],
   "source": [
    "test_cat_FCM = pd.merge(cat_test_final, test_FCM, on = 'participant_id')\n",
    "test_df = pd.merge(test_cat_FCM, test_Quant, on = 'participant_id')\n",
    "\n",
    "# ensure it looks accurate\n",
    "print(test_df.shape)\n",
    "test_df.head()"
   ]
  },
  {
   "cell_type": "markdown",
   "id": "3fb201a0",
   "metadata": {},
   "source": [
    "## Fill NaN values and missings"
   ]
  },
  {
   "cell_type": "code",
   "execution_count": 44,
   "id": "a8d42d34",
   "metadata": {},
   "outputs": [
    {
     "name": "stdout",
     "output_type": "stream",
     "text": [
      "participant_id             0\n",
      "0throw_1thcolumn           0\n",
      "0throw_2thcolumn           0\n",
      "0throw_3thcolumn           0\n",
      "0throw_4thcolumn           0\n",
      "                        ... \n",
      "SDQ_SDQ_Hyperactivity      0\n",
      "SDQ_SDQ_Internalizing      0\n",
      "SDQ_SDQ_Peer_Problems      0\n",
      "SDQ_SDQ_Prosocial          0\n",
      "MRI_Track_Age_at_Scan    360\n",
      "Length: 19919, dtype: int64\n",
      "0\n"
     ]
    }
   ],
   "source": [
    "print(logreg_sex.isna().sum())\n",
    "\n",
    "logreg_sex.fillna({'MRI_Track_Age_at_Scan':logreg_sex['MRI_Track_Age_at_Scan'].mean()}, inplace = True)\n",
    "\n",
    "print(logreg_sex.isna().sum().sum()) # should now be zero"
   ]
  },
  {
   "cell_type": "code",
   "execution_count": 45,
   "id": "ffa090a2",
   "metadata": {},
   "outputs": [],
   "source": [
    "train_df.fillna({'MRI_Track_Age_at_Scan':train_df['MRI_Track_Age_at_Scan'].mean()}, inplace = True)"
   ]
  },
  {
   "cell_type": "markdown",
   "id": "c722fe18",
   "metadata": {},
   "source": [
    "## Training time"
   ]
  },
  {
   "cell_type": "code",
   "execution_count": 46,
   "id": "4c0c9ad8",
   "metadata": {},
   "outputs": [],
   "source": [
    "logreg_sex_train = logreg_sex.drop(columns = ['participant_id'])\n",
    "X_train = train_df.drop(columns = ['participant_id'])\n",
    "Y_train = train_Solutions.drop(columns = ['participant_id'])"
   ]
  },
  {
   "cell_type": "markdown",
   "id": "3d6af01c",
   "metadata": {},
   "source": [
    "### Feature Selection"
   ]
  },
  {
   "cell_type": "markdown",
   "id": "46b43920",
   "metadata": {
    "id": "p2r_u3DOsLM5"
   },
   "source": [
    "**Recursive Feature Elimination (RFE)** is a feature selection technique that involves training a model on a subset of the features, and then iteratively removing the least important features one by one until we are left with the desired number of features."
   ]
  },
  {
   "cell_type": "markdown",
   "id": "6cba2ab8",
   "metadata": {
    "id": "tu2xof1-sQIO"
   },
   "source": [
    "To implement RFE in Python, we can use the RFE class from the `sklearn.feature_selection` module."
   ]
  },
  {
   "cell_type": "markdown",
   "id": "fe217734",
   "metadata": {
    "id": "UgZWUjxNjWan"
   },
   "source": [
    "**Using coefficients:**\n",
    "- Fit a logistic regression model: Train a logistic regression model on your dataset.\n",
    "- **Extract coefficients:** Get the coefficients of the model. The absolute values of the coefficients indicate the importance of the corresponding features.\n",
    "- **Select top features:** Choose the features with the highest absolute coefficient values."
   ]
  },
  {
   "cell_type": "code",
   "execution_count": 47,
   "id": "32176637",
   "metadata": {
    "id": "JBXOJLgAjH-Z"
   },
   "outputs": [],
   "source": [
    "from sklearn.linear_model import LogisticRegression"
   ]
  },
  {
   "cell_type": "markdown",
   "id": "aa0d0704",
   "metadata": {
    "id": "lO8yFEnJqhNw"
   },
   "source": [
    "**We will first look at Feature Selection with Sex as the target**"
   ]
  },
  {
   "cell_type": "code",
   "execution_count": 48,
   "id": "d49c3716",
   "metadata": {
    "id": "D0Ji8-ItiLjN"
   },
   "outputs": [
    {
     "data": {
      "text/plain": [
       "LogisticRegression(max_iter=5000)"
      ]
     },
     "execution_count": 48,
     "metadata": {},
     "output_type": "execute_result"
    }
   ],
   "source": [
    "model = LogisticRegression(max_iter = 5000)\n",
    "model.fit(logreg_sex.drop(columns = 'participant_id'), train_Solutions['Sex_F'])"
   ]
  },
  {
   "cell_type": "code",
   "execution_count": 49,
   "id": "48c9cebc",
   "metadata": {
    "id": "3Rgs2CEaqkxm"
   },
   "outputs": [],
   "source": [
    "# Get coefficients for Sex prediction\n",
    "coefficients = pd.Series(model.coef_[0], index = logreg_sex.drop(columns = 'participant_id').columns)"
   ]
  },
  {
   "cell_type": "code",
   "execution_count": 50,
   "id": "9181b266",
   "metadata": {
    "id": "EcF0akPqqmGw"
   },
   "outputs": [
    {
     "name": "stdout",
     "output_type": "stream",
     "text": [
      "54throw_56thcolumn      0.462904\n",
      "143throw_190thcolumn    0.456133\n",
      "50throw_157thcolumn     0.439621\n",
      "77throw_159thcolumn     0.421783\n",
      "125throw_136thcolumn    0.417131\n",
      "143throw_145thcolumn    0.411387\n",
      "10throw_157thcolumn     0.411164\n",
      "160throw_162thcolumn    0.409010\n",
      "56throw_144thcolumn     0.407186\n",
      "50throw_138thcolumn     0.406441\n",
      "dtype: float64\n"
     ]
    }
   ],
   "source": [
    "# Select top features for Sex prediction\n",
    "top_features = coefficients.abs().nlargest(10)\n",
    "print(top_features)"
   ]
  },
  {
   "cell_type": "code",
   "execution_count": 51,
   "id": "f8d680d8",
   "metadata": {
    "id": "3-ash-bGQS9X"
   },
   "outputs": [
    {
     "data": {
      "image/png": "[encoded data removed]",
      "text/plain": [
       "<Figure size 1000x600 with 1 Axes>"
      ]
     },
     "metadata": {},
     "output_type": "display_data"
    }
   ],
   "source": [
    "#Plotting the top 10 coefficents for Sex Outcome\n",
    "plt.figure(figsize = (10, 6))\n",
    "top_features.sort_values().plot(kind = 'barh', color = 'skyblue')\n",
    "plt.title('Top 10 Features for Sex Outcome')\n",
    "plt.ylabel('Features')\n",
    "plt.xlabel('Absolute Coefficient Value')\n",
    "plt.xticks(rotation = 45, ha = 'right')\n",
    "plt.show()"
   ]
  },
  {
   "cell_type": "markdown",
   "id": "de23fd70",
   "metadata": {
    "id": "Og897fPlqozJ"
   },
   "source": [
    "**Now, we will look at Feature Selection with ADHD_Outcome as the target**"
   ]
  },
  {
   "cell_type": "code",
   "execution_count": 52,
   "id": "f0531c98",
   "metadata": {
    "id": "nSZF3LiFqpN9"
   },
   "outputs": [
    {
     "data": {
      "text/plain": [
       "LogisticRegression(max_iter=5000)"
      ]
     },
     "execution_count": 52,
     "metadata": {},
     "output_type": "execute_result"
    }
   ],
   "source": [
    "model = LogisticRegression(max_iter = 5000)\n",
    "model.fit(train_df.drop(columns = 'participant_id'), train_Solutions['ADHD_Outcome'])"
   ]
  },
  {
   "cell_type": "code",
   "execution_count": 53,
   "id": "40afb376",
   "metadata": {
    "id": "lc_x4aikqqWV"
   },
   "outputs": [],
   "source": [
    "# Get coefficients for ADHD_Outcome prediction\n",
    "coefficients = pd.Series(model.coef_[0], index = train_df.drop(columns = 'participant_id').columns)"
   ]
  },
  {
   "cell_type": "code",
   "execution_count": 54,
   "id": "58b7fecf",
   "metadata": {
    "id": "ELDgkPC7qrYO"
   },
   "outputs": [
    {
     "name": "stdout",
     "output_type": "stream",
     "text": [
      "MRI_Track_Scan_Location_1             0.793719\n",
      "MRI_Track_Scan_Location_3             0.684729\n",
      "Barratt_Barratt_P1_Occ_25             0.535580\n",
      "SDQ_SDQ_Hyperactivity                 0.481083\n",
      "PreInt_Demos_Fam_Child_Ethnicity_0    0.461300\n",
      "8throw_96thcolumn                     0.427287\n",
      "Barratt_Barratt_P1_Occ_35             0.402825\n",
      "53throw_83thcolumn                    0.390234\n",
      "52throw_60thcolumn                    0.366848\n",
      "0throw_6thcolumn                      0.362610\n",
      "dtype: float64\n"
     ]
    }
   ],
   "source": [
    "# Select top features for ADHD_Outcome prediction\n",
    "top_features = coefficients.abs().nlargest(10)\n",
    "print(top_features)"
   ]
  },
  {
   "cell_type": "code",
   "execution_count": 55,
   "id": "cc4cd47b",
   "metadata": {
    "id": "t2SY2XZkQRJg"
   },
   "outputs": [
    {
     "data": {
      "image/png": "[encoded data removed]",
      "text/plain": [
       "<Figure size 1000x600 with 1 Axes>"
      ]
     },
     "metadata": {},
     "output_type": "display_data"
    }
   ],
   "source": [
    "#Plotting the top 10 coefficents\n",
    "plt.figure(figsize = (10, 6))\n",
    "top_features.sort_values().plot(kind = 'barh', color = 'skyblue')\n",
    "plt.title('Top 10 Features for ADHD Outcome')\n",
    "plt.ylabel('Features')\n",
    "plt.xlabel('Absolute Coefficient Value')\n",
    "plt.xticks(rotation = 45, ha = 'right')\n",
    "plt.show()"
   ]
  },
  {
   "cell_type": "markdown",
   "id": "5ecbafb3",
   "metadata": {
    "id": "ULBOlcy0qtdz"
   },
   "source": [
    "**Using L1 regularization:**\n",
    "- **Use L1 penalty**: Train a logistic regression model with L1 regularization. L1 regularization tends to shrink the coefficients of less important features to zero.\n",
    "- **Select non-zero features:** Choose the features with non-zero coefficients."
   ]
  },
  {
   "cell_type": "markdown",
   "id": "816053c6",
   "metadata": {
    "id": "Bh1zed8xqv60"
   },
   "source": [
    "**We will first use L1 regularization with Sex as the target.**"
   ]
  },
  {
   "cell_type": "code",
   "execution_count": 56,
   "id": "cebd9b76",
   "metadata": {
    "id": "j7P7IbLHquOx"
   },
   "outputs": [
    {
     "data": {
      "text/plain": [
       "LogisticRegression(penalty='l1', solver='liblinear')"
      ]
     },
     "execution_count": 56,
     "metadata": {},
     "output_type": "execute_result"
    }
   ],
   "source": [
    "model = LogisticRegression(penalty = 'l1', solver = 'liblinear')\n",
    "model.fit(logreg_sex.drop(columns = 'participant_id'), train_Solutions['Sex_F'])"
   ]
  },
  {
   "cell_type": "code",
   "execution_count": 57,
   "id": "46f23366",
   "metadata": {
    "id": "_XCIvVufqyhe"
   },
   "outputs": [
    {
     "name": "stdout",
     "output_type": "stream",
     "text": [
      "Index(['0throw_1thcolumn', '0throw_6thcolumn', '0throw_16thcolumn',\n",
      "       '0throw_22thcolumn', '0throw_124thcolumn', '1throw_2thcolumn',\n",
      "       '1throw_3thcolumn', '1throw_8thcolumn', '1throw_119thcolumn',\n",
      "       '1throw_142thcolumn',\n",
      "       ...\n",
      "       'APQ_P_APQ_P_OPD', 'APQ_P_APQ_P_PM', 'APQ_P_APQ_P_PP',\n",
      "       'SDQ_SDQ_Conduct_Problems', 'SDQ_SDQ_Difficulties_Total',\n",
      "       'SDQ_SDQ_Emotional_Problems', 'SDQ_SDQ_Generating_Impact',\n",
      "       'SDQ_SDQ_Internalizing', 'SDQ_SDQ_Prosocial', 'MRI_Track_Age_at_Scan'],\n",
      "      dtype='object', length=429)\n"
     ]
    }
   ],
   "source": [
    "selected_features_Sex = logreg_sex.drop(columns = 'participant_id').columns[model.coef_[0] != 0]\n",
    "print(selected_features_Sex)"
   ]
  },
  {
   "cell_type": "markdown",
   "id": "79630758",
   "metadata": {
    "id": "kB6tCkgqq03_"
   },
   "source": [
    "**We will now use L1 regularization with ADHD_Outcome as the target**"
   ]
  },
  {
   "cell_type": "code",
   "execution_count": 58,
   "id": "4374f19c",
   "metadata": {
    "id": "OepmrmRqq1c_"
   },
   "outputs": [
    {
     "data": {
      "text/plain": [
       "LogisticRegression(penalty='l1', solver='liblinear')"
      ]
     },
     "execution_count": 58,
     "metadata": {},
     "output_type": "execute_result"
    }
   ],
   "source": [
    "model = LogisticRegression(penalty = 'l1', solver = 'liblinear')\n",
    "model.fit(train_df.drop(columns = 'participant_id'), train_Solutions['ADHD_Outcome'])"
   ]
  },
  {
   "cell_type": "code",
   "execution_count": 59,
   "id": "4449c769",
   "metadata": {
    "id": "oZGDu47Sq2fZ"
   },
   "outputs": [
    {
     "name": "stdout",
     "output_type": "stream",
     "text": [
      "Index(['Basic_Demos_Study_Site_3', 'Basic_Demos_Study_Site_4',\n",
      "       'PreInt_Demos_Fam_Child_Ethnicity_0',\n",
      "       'PreInt_Demos_Fam_Child_Ethnicity_1', 'PreInt_Demos_Fam_Child_Race_1',\n",
      "       'PreInt_Demos_Fam_Child_Race_8', 'MRI_Track_Scan_Location_1',\n",
      "       'MRI_Track_Scan_Location_3', 'MRI_Track_Scan_Location_4',\n",
      "       'Barratt_Barratt_P1_Edu_9',\n",
      "       ...\n",
      "       'APQ_P_APQ_P_PM', 'APQ_P_APQ_P_PP', 'SDQ_SDQ_Difficulties_Total',\n",
      "       'SDQ_SDQ_Emotional_Problems', 'SDQ_SDQ_Externalizing',\n",
      "       'SDQ_SDQ_Generating_Impact', 'SDQ_SDQ_Hyperactivity',\n",
      "       'SDQ_SDQ_Peer_Problems', 'SDQ_SDQ_Prosocial', 'MRI_Track_Age_at_Scan'],\n",
      "      dtype='object', length=265)\n"
     ]
    }
   ],
   "source": [
    "selected_features_ADHD = train_df.drop(columns = 'participant_id').columns[model.coef_[0] != 0]\n",
    "print(selected_features_ADHD)"
   ]
  },
  {
   "cell_type": "code",
   "execution_count": 60,
   "id": "0fb07272",
   "metadata": {},
   "outputs": [],
   "source": [
    "sex_features = list(cat_train_final.columns[1:]) + list(selected_features_Sex)\n",
    "X_train_sex = X_train[sex_features]\n",
    "\n",
    "X_train_adhd = X_train[list(selected_features_ADHD)]"
   ]
  },
  {
   "cell_type": "markdown",
   "id": "6f8605cc",
   "metadata": {},
   "source": [
    "## Create decision tree classifier for ADHD and Sex"
   ]
  },
  {
   "cell_type": "code",
   "execution_count": 27,
   "id": "f0a978ff",
   "metadata": {},
   "outputs": [
    {
     "data": {
      "text/plain": [
       "XGBClassifier(base_score=None, booster=None, callbacks=None,\n",
       "              colsample_bylevel=None, colsample_bynode=None,\n",
       "              colsample_bytree=None, device=None, early_stopping_rounds=None,\n",
       "              enable_categorical=False, eval_metric=None, feature_types=None,\n",
       "              gamma=None, grow_policy=None, importance_type=None,\n",
       "              interaction_constraints=None, learning_rate=0.1, max_bin=None,\n",
       "              max_cat_threshold=None, max_cat_to_onehot=None,\n",
       "              max_delta_step=None, max_depth=5, max_leaves=None,\n",
       "              min_child_weight=None, missing=nan, monotone_constraints=None,\n",
       "              multi_strategy=None, n_estimators=100, n_jobs=None,\n",
       "              num_parallel_tree=None, random_state=None, ...)"
      ]
     },
     "execution_count": 27,
     "metadata": {},
     "output_type": "execute_result"
    }
   ],
   "source": [
    "from xgboost import XGBClassifier\n",
    "\n",
    "x_train_sex, x_test_sex, y_train_sex, y_test_sex = train_test_split(X_train_sex, Y_train['Sex_F'], \n",
    "                                                                    test_size = .2)\n",
    "x_train_adhd, x_test_adhd, y_train_adhd, y_test_adhd = train_test_split(X_train_adhd, Y_train['ADHD_Outcome'], \n",
    "                                                                    test_size = .2)\n",
    "\n",
    "# once for sex\n",
    "sex_classifier = XGBClassifier(objective = 'binary:logistic', n_estimators = 100, \n",
    "                               learning_rate = 0.1, max_depth = 5)\n",
    "sex_classifier.fit(x_train_sex, y_train_sex)\n",
    "\n",
    "# once for adhd\n",
    "adhd_classifier = XGBClassifier(objective = 'binary:logistic', n_estimators = 100, \n",
    "                               learning_rate = 0.1, max_depth = 5)\n",
    "adhd_classifier.fit(x_train_adhd, y_train_adhd)\n"
   ]
  },
  {
   "cell_type": "markdown",
   "id": "43ffe44e",
   "metadata": {},
   "source": [
    "### Predict"
   ]
  },
  {
   "cell_type": "code",
   "execution_count": 28,
   "id": "26d76f49",
   "metadata": {},
   "outputs": [],
   "source": [
    "participant_id = test_df['participant_id']\n",
    "\n",
    "sex_pred = sex_classifier.predict(x_test_sex)\n",
    "adhd_pred = adhd_classifier.predict(x_test_adhd)"
   ]
  },
  {
   "cell_type": "code",
   "execution_count": 29,
   "id": "9b668734",
   "metadata": {},
   "outputs": [
    {
     "data": {
      "text/plain": [
       "0.654320987654321"
      ]
     },
     "execution_count": 29,
     "metadata": {},
     "output_type": "execute_result"
    }
   ],
   "source": [
    "sex_classifier.score(x_test_sex, y_test_sex)"
   ]
  },
  {
   "cell_type": "code",
   "execution_count": 30,
   "id": "655c3c2d",
   "metadata": {},
   "outputs": [
    {
     "data": {
      "text/plain": [
       "0.8189300411522634"
      ]
     },
     "execution_count": 30,
     "metadata": {},
     "output_type": "execute_result"
    }
   ],
   "source": [
    "adhd_classifier.score(x_test_adhd, y_test_adhd)"
   ]
  },
  {
   "cell_type": "markdown",
   "id": "7a83d035",
   "metadata": {},
   "source": [
    "# Convert predictions to a DataFrame\n",
    "sex_pred_df = pd.DataFrame(sex_pred, columns = ['Predicted_Gender'])\n",
    "adhd_pred_df = pd.DataFrame(adhd_pred, columns = ['Predicted_ADHD'])\n",
    "\n",
    "# Combine participant IDs with predictions\n",
    "result_df_int = pd.concat([participant_id.reset_index(drop = True), sex_pred_df, adhd_pred_df], axis = 1)\n",
    "\n",
    "# Print or save the DataFrame\n",
    "print(result_df_int)"
   ]
  },
  {
   "cell_type": "markdown",
   "id": "3c63cfe6",
   "metadata": {},
   "source": [
    "### Evaluate"
   ]
  },
  {
   "cell_type": "code",
   "execution_count": 31,
   "id": "9857c5ab",
   "metadata": {
    "id": "pIyfnFvjjSeV"
   },
   "outputs": [],
   "source": [
    "from sklearn.model_selection import cross_val_score"
   ]
  },
  {
   "cell_type": "code",
   "execution_count": 32,
   "id": "7e8ec195",
   "metadata": {
    "id": "-EMhR1GDmX-R"
   },
   "outputs": [
    {
     "name": "stdout",
     "output_type": "stream",
     "text": [
      "Cross-validation scores for each fold: [0.64948454 0.64948454 0.63917526 0.67525773 0.65979381]\n",
      "Mean CV score: 0.654639175257732\n",
      "Cross-validation scores for each fold: [0.78865979 0.83505155 0.82474227 0.77835052 0.86597938]\n",
      "Mean CV score: 0.8185567010309278\n"
     ]
    }
   ],
   "source": [
    "# Perform cross-validation on the training data\n",
    "cv_scores_sex = cross_val_score(sex_classifier, X_train_sex, y_train_sex, cv = 5)\n",
    "cv_scores_adhd = cross_val_score(adhd_classifier, X_train_adhd, y_train_adhd, cv = 5)\n",
    "\n",
    "# Output the cross-validation results\n",
    "print(\"Cross-validation scores for each fold:\", cv_scores_sex)\n",
    "print(\"Mean CV score:\", np.mean(cv_scores_sex))\n",
    "\n",
    "print(\"Cross-validation scores for each fold:\", cv_scores_adhd)\n",
    "print(\"Mean CV score:\", np.mean(cv_scores_adhd))"
   ]
  },
  {
   "cell_type": "code",
   "execution_count": 61,
   "id": "6db800ed",
   "metadata": {},
   "outputs": [],
   "source": [
    "sex_score = []\n",
    "adhd_score = []\n",
    "\n",
    "for i in range(0, 100):\n",
    "    x_train_sex, x_test_sex, y_train_sex, y_test_sex = train_test_split(X_train_sex, Y_train['Sex_F'], \n",
    "                                                                    test_size = .2)\n",
    "    x_train_adhd, x_test_adhd, y_train_adhd, y_test_adhd = train_test_split(X_train_adhd, Y_train['ADHD_Outcome'], \n",
    "                                                                    test_size = .2)\n",
    "    \n",
    "    sex_classifier = XGBClassifier(objective = 'binary:logistic', n_estimators = 100, \n",
    "                               learning_rate = 0.1, max_depth = 5)\n",
    "    sex_classifier.fit(x_train_sex, y_train_sex)\n",
    "\n",
    "    adhd_classifier = XGBClassifier(objective = 'binary:logistic', n_estimators = 100, \n",
    "                               learning_rate = 0.1, max_depth = 5)\n",
    "    adhd_classifier.fit(x_train_adhd, y_train_adhd)\n",
    "    \n",
    "    sex_score.append(sex_classifier.score(x_test_sex, y_test_sex))\n",
    "    adhd_score.append(adhd_classifier.score(x_test_adhd, y_test_adhd))"
   ]
  },
  {
   "cell_type": "code",
   "execution_count": 76,
   "id": "ff9cdf1e",
   "metadata": {},
   "outputs": [
    {
     "data": {
      "image/png": "[encoded data removed]",
      "text/plain": [
       "<Figure size 640x480 with 1 Axes>"
      ]
     },
     "metadata": {},
     "output_type": "display_data"
    }
   ],
   "source": [
    "plt.plot(adhd_score, '.', lw = 1, color = 'rebeccapurple', label = 'ADHD Diagnosis Test Accuracy')\n",
    "plt.axhline(np.mean(adhd_score), color = 'rebeccapurple', ls = '--', label = 'Mean Accuracy = {0: .{1}f}'.format(np.mean(adhd_score), 3))\n",
    "plt.plot(sex_score, '.', lw = 1, color = 'skyblue', label = 'Gender Test Accuracy')\n",
    "plt.axhline(y = np.mean(sex_score), color = 'skyblue', ls = '--', label = 'Mean Accuracy = {0: .{1}f}'.format(np.mean(sex_score), 3))\n",
    "\n",
    "plt.legend()\n",
    "plt.savefig('twodectree_score.pdf')\n",
    "plt.show()"
   ]
  },
  {
   "cell_type": "code",
   "execution_count": null,
   "id": "f231cb1c",
   "metadata": {},
   "outputs": [],
   "source": []
  }
 ],
 "metadata": {
  "kernelspec": {
   "display_name": "Python 3 (ipykernel)",
   "language": "python",
   "name": "python3"
  },
  "language_info": {
   "codemirror_mode": {
    "name": "ipython",
    "version": 3
   },
   "file_extension": ".py",
   "mimetype": "text/x-python",
   "name": "python",
   "nbconvert_exporter": "python",
   "pygments_lexer": "ipython3",
   "version": "3.9.13"
  }
 },
 "nbformat": 4,
 "nbformat_minor": 5
}
